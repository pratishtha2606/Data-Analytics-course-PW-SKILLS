{
  "nbformat": 4,
  "nbformat_minor": 0,
  "metadata": {
    "colab": {
      "provenance": []
    },
    "kernelspec": {
      "name": "python3",
      "display_name": "Python 3"
    },
    "language_info": {
      "name": "python"
    }
  },
  "cells": [
    {
      "cell_type": "markdown",
      "source": [
        "# **Theory**"
      ],
      "metadata": {
        "id": "yw7XA11gzifi"
      }
    },
    {
      "cell_type": "markdown",
      "source": [
        "1. What is statistics, and why is it important?\n",
        "\n",
        "Statistics is a branch of mathematics that deals with the collection, analysis, interpretation, presentation, and organization of data.\n",
        "\n",
        "Importance:\n",
        "\n",
        "It helps in making informed decisions by analyzing trends and patterns.\n",
        "\n",
        "Useful in research, business forecasting, economics, social sciences, and policymaking.\n",
        "\n",
        "Helps in understanding variability in data and drawing conclusions based on data.\n",
        "\n",
        "Supports evidence-based decision-making in various fields like medicine, education, politics, etc."
      ],
      "metadata": {
        "id": "yHNDsZ6WzpyU"
      }
    },
    {
      "cell_type": "markdown",
      "source": [
        "2. What are the two main types of statistics?\n",
        "\n",
        " Descriptive Statistics: Summarizes or describes the characteristics of a data set (e.g., mean, median, mode).\n",
        "\n",
        " Inferential Statistics: Uses a random sample of data taken from a population to describe and make inferences about the population."
      ],
      "metadata": {
        "id": "-NENXyaJzuKV"
      }
    },
    {
      "cell_type": "markdown",
      "source": [
        "3. What are descriptive statistics?\n",
        "\n",
        "Descriptive statistics describe the basic features of data in a study. They provide simple summaries about the sample and the measures.\n",
        "Examples:\n",
        "\n",
        "Mean (Average)\n",
        "\n",
        "Median\n",
        "\n",
        "Mode\n",
        "\n",
        "Range\n",
        "\n",
        "Standard deviation"
      ],
      "metadata": {
        "id": "B_l7bI65z2He"
      }
    },
    {
      "cell_type": "markdown",
      "source": [
        "4. What is inferential statistics?\n",
        "\n",
        "Inferential statistics allow us to draw conclusions or make predictions about a population based on data from a sample.\n",
        "Example: Predicting election results from a voter survey."
      ],
      "metadata": {
        "id": "Lir6PSp5z6xp"
      }
    },
    {
      "cell_type": "markdown",
      "source": [
        "5. What is sampling in statistics?\n",
        "\n",
        "Sampling is the process of selecting a subset of individuals from a population to estimate characteristics of the whole population.\n",
        "\n",
        "Why it's used:\n",
        "\n",
        "Saves time and resources.\n",
        "\n",
        "Useful when population is too large to study in entirety."
      ],
      "metadata": {
        "id": "2Zu0qX06z9T1"
      }
    },
    {
      "cell_type": "markdown",
      "source": [
        "6. What are the different types of sampling methods?\n",
        "\n",
        "Random Sampling – Every individual has equal chance.\n",
        "\n",
        "Stratified Sampling – Population is divided into subgroups.\n",
        "\n",
        "Systematic Sampling – Every nth item is selected.\n",
        "\n",
        "Cluster Sampling – Entire clusters or groups are sampled.\n",
        "\n",
        "Convenience Sampling – Easy-to-reach participants.\n",
        "\n",
        "Snowball Sampling – Used in social research where subjects refer others.\n",
        "\n"
      ],
      "metadata": {
        "id": "hkf_1znA0A8k"
      }
    },
    {
      "cell_type": "markdown",
      "source": [
        "7. What is the difference between random and non-random sampling?\n",
        "\n",
        "Random Sampling: Equal probability for selection, unbiased.\n",
        "\n",
        "Non-Random Sampling: Not every individual has equal chance; may introduce bias."
      ],
      "metadata": {
        "id": "EwFUqki60EA1"
      }
    },
    {
      "cell_type": "markdown",
      "source": [
        "8. Define and give examples of qualitative and quantitative data.\n",
        "\n",
        "Qualitative Data (Categorical): Descriptive data (e.g., colors, gender, nationality).\n",
        "\n",
        "Quantitative Data (Numerical): Measurable data (e.g., height, age, marks)."
      ],
      "metadata": {
        "id": "qqUl4_Ud0HGu"
      }
    },
    {
      "cell_type": "markdown",
      "source": [
        "9. What are the different types of data in statistics?\n",
        "\n",
        "Nominal – Categories (e.g., gender, religion).\n",
        "\n",
        "Ordinal – Ordered categories (e.g., ranks).\n",
        "\n",
        "Interval – Numeric with no true zero (e.g., temperature).\n",
        "\n",
        "Ratio – Numeric with true zero (e.g., weight, height).\n",
        "\n"
      ],
      "metadata": {
        "id": "5tBoZ9qx0LJS"
      }
    },
    {
      "cell_type": "markdown",
      "source": [
        "10. Explain nominal, ordinal, interval, and ratio levels of measurement.\n",
        "\n",
        "| Level    | Description                            | Example          |\n",
        "| -------- | -------------------------------------- | ---------------- |\n",
        "| Nominal  | Categories with no order               | Gender, Color    |\n",
        "| Ordinal  | Ordered categories                     | Ranking in class |\n",
        "| Interval | Ordered, equal intervals, no true zero | Temperature      |\n",
        "| Ratio    | Like interval, with true zero          | Height, Age      |\n",
        "\n",
        "\n",
        "\n"
      ],
      "metadata": {
        "id": "3IV3Gx020MkP"
      }
    },
    {
      "cell_type": "markdown",
      "source": [
        "11. What is the measure of central tendency?\n",
        "\n",
        "It indicates the central or typical value in a dataset.\n",
        "Types: Mean, Median, and Mode.\n",
        "\n"
      ],
      "metadata": {
        "id": "0uARiVAA0dhc"
      }
    },
    {
      "cell_type": "markdown",
      "source": [
        "12. Define mean, median, and mode.\n",
        "\n",
        "Mean: Sum of all values ÷ Number of values.\n",
        "\n",
        "Median: Middle value in ordered data.\n",
        "\n",
        "Mode: Most frequently occurring value.\n",
        "\n"
      ],
      "metadata": {
        "id": "PazZ3HO50n_G"
      }
    },
    {
      "cell_type": "markdown",
      "source": [
        "13. What is the significance of the measure of central tendency?\n",
        "\n",
        "Helps in understanding the average behavior of data.\n",
        "\n",
        "Useful in comparison and analysis.\n",
        "\n",
        "Helps in making decisions and predictions."
      ],
      "metadata": {
        "id": "W4xFixCt0qUB"
      }
    },
    {
      "cell_type": "markdown",
      "source": [
        "14. What is variance, and how is it calculated?\n",
        "\n",
        "Variance measures the spread or dispersion of data points.\n",
        "Formula:\n",
        "For population:\n",
        "\n",
        "𝜎\n",
        "2\n",
        "=\n",
        "∑\n",
        "(\n",
        "𝑥\n",
        "𝑖\n",
        "−\n",
        "𝜇\n",
        ")\n",
        "2\n",
        "𝑁\n",
        "σ\n",
        "2\n",
        " =\n",
        "N\n",
        "∑(x\n",
        "i\n",
        "​\n",
        " −μ)\n",
        "2\n",
        "\n",
        "​\n",
        "\n",
        "For sample:\n",
        "\n",
        "𝑠\n",
        "2\n",
        "=\n",
        "∑\n",
        "(\n",
        "𝑥\n",
        "𝑖\n",
        "−\n",
        "𝑥\n",
        "ˉ\n",
        ")\n",
        "2\n",
        "𝑛\n",
        "−\n",
        "1\n",
        "s\n",
        "2\n",
        " =\n",
        "n−1\n",
        "∑(x\n",
        "i\n",
        "​\n",
        " −\n",
        "x\n",
        "ˉ\n",
        " )\n",
        "2\n",
        "\n",
        "​\n"
      ],
      "metadata": {
        "id": "TqfiHQiR0tc6"
      }
    },
    {
      "cell_type": "markdown",
      "source": [
        "15. What is standard deviation, and why is it important?\n",
        "\n",
        "Standard deviation is the square root of variance.\n",
        "It tells how much data deviates from the mean.\n",
        "\n",
        "Importance:\n",
        "\n",
        "Helps understand data variability.\n",
        "\n",
        "Smaller SD = data is close to mean; Larger SD = data is spread out."
      ],
      "metadata": {
        "id": "nsurXeNZ03Ks"
      }
    },
    {
      "cell_type": "markdown",
      "source": [
        "16. Define and explain the term range in statistics.\n",
        "\n",
        "Range = Highest value − Lowest value\n",
        "It shows the total spread in data."
      ],
      "metadata": {
        "id": "fajpSRzA06uD"
      }
    },
    {
      "cell_type": "markdown",
      "source": [
        "17. What is the difference between variance and standard deviation?\n",
        "\n",
        "| Basis      | Variance                  | Standard Deviation      |\n",
        "| ---------- | ------------------------- | ----------------------- |\n",
        "| Definition | Average squared deviation | Square root of variance |\n",
        "| Unit       | Square of original unit   | Same as data            |\n"
      ],
      "metadata": {
        "id": "-b9BHRAW09Pg"
      }
    },
    {
      "cell_type": "markdown",
      "source": [
        "18. What is skewness in a dataset?\n",
        "\n",
        "Skewness measures the asymmetry of data.\n",
        "\n",
        "Positive Skew: Tail on right side.\n",
        "\n",
        "Negative Skew: Tail on left side."
      ],
      "metadata": {
        "id": "93yCm0rT1JE0"
      }
    },
    {
      "cell_type": "markdown",
      "source": [
        "19. What does it mean if a dataset is positively or negatively skewed?\n",
        "\n",
        "Positively Skewed: Mean > Median > Mode\n",
        "Long tail to the right.\n",
        "\n",
        "Negatively Skewed: Mean < Median < Mode\n",
        "Long tail to the left."
      ],
      "metadata": {
        "id": "rM7tGTqI1Mka"
      }
    },
    {
      "cell_type": "markdown",
      "source": [
        "20. Define and explain kurtosis.\n",
        "\n",
        "Kurtosis measures the \"tailedness\" of the distribution.\n",
        "\n",
        "Leptokurtic: High peak.\n",
        "\n",
        "Mesokurtic: Normal.\n",
        "\n",
        "Platykurtic: Flat."
      ],
      "metadata": {
        "id": "0OsizaGU1QNo"
      }
    },
    {
      "cell_type": "markdown",
      "source": [
        "21. What is the purpose of covariance?\n",
        "\n",
        "Covariance measures how two variables change together.\n",
        "\n",
        "Positive Covariance: Increase together.\n",
        "\n",
        "Negative Covariance: One increases, other decreases."
      ],
      "metadata": {
        "id": "p2uCwr4o1RmR"
      }
    },
    {
      "cell_type": "markdown",
      "source": [
        "22. What does correlation measure in statistics?\n",
        "\n",
        "Correlation measures the strength and direction of the relationship between two variables.\n",
        "\n",
        "Range: -1 to +1\n",
        "\n",
        "+1: Perfect positive\n",
        "\n",
        "-1: Perfect negative\n",
        "\n",
        "0: No correlation\n",
        "\n"
      ],
      "metadata": {
        "id": "cKopW_5h1Uyq"
      }
    },
    {
      "cell_type": "markdown",
      "source": [
        "23. What is the difference between covariance and correlation?\n",
        "\n",
        "| Basis          | Covariance       | Correlation       |\n",
        "| -------------- | ---------------- | ----------------- |\n",
        "| Unit           | Depends on scale | Unitless          |\n",
        "| Value Range    | Unbounded        | Between -1 and +1 |\n",
        "| Interpretation | Hard to compare  | Easy to interpret |\n"
      ],
      "metadata": {
        "id": "24MmxVmO1XW1"
      }
    },
    {
      "cell_type": "markdown",
      "source": [
        "24. What are some real-world applications of statistics?\n",
        "\n",
        "Medicine: Drug efficacy studies, disease spread analysis.\n",
        "\n",
        "Business: Market research, customer behavior, profit forecasting.\n",
        "\n",
        "Politics: Opinion polls, election predictions.\n",
        "\n",
        "Sports: Player performance analysis.\n",
        "\n",
        "Education: Analyzing test scores, student performance trends."
      ],
      "metadata": {
        "id": "cDanKr5k1cFi"
      }
    },
    {
      "cell_type": "markdown",
      "source": [
        "# **Practical**"
      ],
      "metadata": {
        "id": "uH2Ln8g11ehx"
      }
    },
    {
      "cell_type": "markdown",
      "source": [
        "1: How do you calculate the Mean, Median, and Mode of a dataset?"
      ],
      "metadata": {
        "id": "E8qHfLUO1iAa"
      }
    },
    {
      "cell_type": "code",
      "source": [
        "import pandas as pd\n",
        "\n",
        "# Sample dataset\n",
        "data = [12, 15, 14, 10, 18, 21, 19, 20, 17, 13, 11, 16, 14, 22, 25, 23]\n",
        "\n",
        "# Convert list to Series\n",
        "series = pd.Series(data)\n",
        "\n",
        "# Calculate Mean\n",
        "mean = series.mean()\n",
        "\n",
        "# Calculate Median\n",
        "median = series.median()\n",
        "\n",
        "# Calculate Mode\n",
        "mode = series.mode().tolist()\n",
        "\n",
        "# Print the results\n",
        "print(\"Mean:\", mean)\n",
        "print(\"Median:\", median)\n",
        "print(\"Mode:\", mode)\n"
      ],
      "metadata": {
        "colab": {
          "base_uri": "https://localhost:8080/"
        },
        "id": "TRktPMAM7VzE",
        "outputId": "5442e1f7-143c-4921-edbb-7428b9f28ae1"
      },
      "execution_count": 1,
      "outputs": [
        {
          "output_type": "stream",
          "name": "stdout",
          "text": [
            "Mean: 16.875\n",
            "Median: 16.5\n",
            "Mode: [14]\n"
          ]
        }
      ]
    },
    {
      "cell_type": "markdown",
      "source": [
        "2: Write a Python program to compute the variance and standard deviation of a dataset.\n"
      ],
      "metadata": {
        "id": "1D4c32B_5vmm"
      }
    },
    {
      "cell_type": "code",
      "source": [
        "import pandas as pd\n",
        "\n",
        "# Sample dataset\n",
        "data = [12, 15, 14, 10, 18, 21, 19, 20, 17, 13, 11, 16, 14, 22, 25, 23]\n",
        "\n",
        "# Convert to Series\n",
        "series = pd.Series(data)\n",
        "\n",
        "# Calculate Variance\n",
        "variance = series.var()\n",
        "\n",
        "# Calculate Standard Deviation\n",
        "std_dev = series.std()\n",
        "\n",
        "# Print the results\n",
        "print(\"Variance:\", variance)\n",
        "print(\"Standard Deviation:\", std_dev)\n"
      ],
      "metadata": {
        "colab": {
          "base_uri": "https://localhost:8080/"
        },
        "id": "l0e762zL7kVg",
        "outputId": "95dea69a-97f4-437b-dc7c-bc0ac111258e"
      },
      "execution_count": 2,
      "outputs": [
        {
          "output_type": "stream",
          "name": "stdout",
          "text": [
            "Variance: 20.25\n",
            "Standard Deviation: 4.5\n"
          ]
        }
      ]
    },
    {
      "cell_type": "markdown",
      "source": [
        "Q3. Write a Python program to classify data types: Nominal, Ordinal, Discrete and Continuous."
      ],
      "metadata": {
        "id": "Zqz0WcI_6zS-"
      }
    },
    {
      "cell_type": "code",
      "source": [
        "import pandas as pd\n",
        "\n",
        "# Creating a dataset with different types of data\n",
        "data = {\n",
        "    \"Name\": [\"Amit\", \"Rita\", \"John\", \"Priya\"],            # Nominal\n",
        "    \"Gender\": [\"Male\", \"Female\", \"Male\", \"Female\"],       # Nominal\n",
        "    \"Rank\": [\"Second\", \"First\", \"Third\", \"First\"],        # Ordinal\n",
        "    \"Subjects\": [5, 6, 4, 7],                              # Discrete\n",
        "    \"Height_cm\": [165.5, 160.2, 170.0, 158.4]              # Continuous\n",
        "}\n",
        "\n",
        "# Convert to DataFrame\n",
        "df = pd.DataFrame(data)\n",
        "\n",
        "# Converting Rank column to ordered categorical data\n",
        "rank_order = [\"First\", \"Second\", \"Third\"]\n",
        "df[\"Rank\"] = pd.Categorical(df[\"Rank\"], categories=rank_order, ordered=True)\n",
        "\n",
        "# Display the DataFrame\n",
        "print(df)\n"
      ],
      "metadata": {
        "colab": {
          "base_uri": "https://localhost:8080/"
        },
        "id": "qfEmpQkL7sQr",
        "outputId": "fef078cf-da22-4ee1-db6c-fee14c343d61"
      },
      "execution_count": 3,
      "outputs": [
        {
          "output_type": "stream",
          "name": "stdout",
          "text": [
            "    Name  Gender    Rank  Subjects  Height_cm\n",
            "0   Amit    Male  Second         5      165.5\n",
            "1   Rita  Female   First         6      160.2\n",
            "2   John    Male   Third         4      170.0\n",
            "3  Priya  Female   First         7      158.4\n"
          ]
        }
      ]
    },
    {
      "cell_type": "markdown",
      "source": [
        "Q4. Write a Python program to perform Random Sampling and Systematic Sampling.\n"
      ],
      "metadata": {
        "id": "Nnz66WFX7yFq"
      }
    },
    {
      "cell_type": "code",
      "source": [
        "import pandas as pd\n",
        "\n",
        "# Sample dataset\n",
        "data = [12, 15, 14, 10, 18, 21, 19, 20, 17, 13, 11, 16, 14, 22, 25, 23]\n",
        "series = pd.Series(data)\n",
        "\n",
        "# 🔹 Random Sampling: Select 5 random samples\n",
        "random_sample = series.sample(n=5, random_state=1)\n",
        "\n",
        "# 🔹 Systematic Sampling: Select every 3rd element\n",
        "systematic_sample = series[::3]\n",
        "\n",
        "# Display results\n",
        "print(\"Random Sample:\\n\", random_sample.sort_index())\n",
        "print(\"\\nSystematic Sample:\\n\", systematic_sample)\n"
      ],
      "metadata": {
        "colab": {
          "base_uri": "https://localhost:8080/"
        },
        "id": "-nmyFTwF70we",
        "outputId": "9c97b07f-9ca8-44c0-9c85-82d76debee2e"
      },
      "execution_count": 4,
      "outputs": [
        {
          "output_type": "stream",
          "name": "stdout",
          "text": [
            "Random Sample:\n",
            " 2     14\n",
            "3     10\n",
            "6     19\n",
            "7     20\n",
            "13    22\n",
            "dtype: int64\n",
            "\n",
            "Systematic Sample:\n",
            " 0     12\n",
            "3     10\n",
            "6     19\n",
            "9     13\n",
            "12    14\n",
            "15    23\n",
            "dtype: int64\n"
          ]
        }
      ]
    },
    {
      "cell_type": "markdown",
      "source": [
        "Q5. Write a Python program to calculate the Range of a dataset.\n"
      ],
      "metadata": {
        "id": "OU0cieVm74xl"
      }
    },
    {
      "cell_type": "code",
      "source": [
        "import pandas as pd\n",
        "\n",
        "# Dataset\n",
        "data = [12, 15, 14, 10, 18, 21, 19, 20, 17, 13, 11, 16, 14, 22, 25, 23]\n",
        "series = pd.Series(data)\n",
        "\n",
        "# Calculate Range\n",
        "data_range = series.max() - series.min()\n",
        "\n",
        "# Display results\n",
        "print(\"Maximum Value:\", series.max())\n",
        "print(\"Minimum Value:\", series.min())\n",
        "print(\"Range:\", data_range)\n"
      ],
      "metadata": {
        "colab": {
          "base_uri": "https://localhost:8080/"
        },
        "id": "whrP4Uut76ex",
        "outputId": "d0c347c1-170e-458f-f480-9e5ef2208f89"
      },
      "execution_count": 5,
      "outputs": [
        {
          "output_type": "stream",
          "name": "stdout",
          "text": [
            "Maximum Value: 25\n",
            "Minimum Value: 10\n",
            "Range: 15\n"
          ]
        }
      ]
    },
    {
      "cell_type": "markdown",
      "source": [
        " Q6. Draw a Histogram using Python and interpret its Skewness."
      ],
      "metadata": {
        "id": "oMRN7mby78SD"
      }
    },
    {
      "cell_type": "code",
      "source": [
        "import pandas as pd\n",
        "import seaborn as sns\n",
        "import matplotlib.pyplot as plt\n",
        "\n",
        "# Dataset\n",
        "data = [12, 15, 14, 10, 18, 21, 19, 20, 17, 13, 11, 16, 14, 22, 25, 23]\n",
        "series = pd.Series(data)\n",
        "\n",
        "# Plot Histogram\n",
        "plt.figure(figsize=(8, 5))\n",
        "sns.histplot(series, bins=8, kde=True, color='skyblue')\n",
        "\n",
        "plt.title(\"Histogram of Dataset\")\n",
        "plt.xlabel(\"Value\")\n",
        "plt.ylabel(\"Frequency\")\n",
        "plt.grid(True)\n",
        "plt.tight_layout()\n",
        "plt.show()\n"
      ],
      "metadata": {
        "colab": {
          "base_uri": "https://localhost:8080/",
          "height": 507
        },
        "id": "45smom6v8D31",
        "outputId": "2bcc6739-5a0a-49eb-b323-52e09b188b4b"
      },
      "execution_count": 6,
      "outputs": [
        {
          "output_type": "display_data",
          "data": {
            "text/plain": [
              "<Figure size 800x500 with 1 Axes>"
            ],
            "image/png": "[encoded data removed]"
          },
          "metadata": {}
        }
      ]
    },
    {
      "cell_type": "markdown",
      "source": [
        "Q7. Write a Python program to calculate Skewness and Kurtosis of a dataset."
      ],
      "metadata": {
        "id": "wOLsbBMB8O-x"
      }
    },
    {
      "cell_type": "code",
      "source": [
        "import pandas as pd\n",
        "\n",
        "# Dataset\n",
        "data = [12, 15, 14, 10, 18, 21, 19, 20, 17, 13, 11, 16, 14, 22, 25, 23]\n",
        "series = pd.Series(data)\n",
        "\n",
        "# Calculate Skewness\n",
        "skewness = series.skew()\n",
        "\n",
        "# Calculate Kurtosis\n",
        "kurtosis = series.kurt()\n",
        "\n",
        "# Display results\n",
        "print(\"Skewness:\", skewness)\n",
        "print(\"Kurtosis:\", kurtosis)\n"
      ],
      "metadata": {
        "colab": {
          "base_uri": "https://localhost:8080/"
        },
        "id": "tFbcrPXS8TWe",
        "outputId": "04d771aa-63c2-4c2c-a53b-f96a8c015e58"
      },
      "execution_count": 7,
      "outputs": [
        {
          "output_type": "stream",
          "name": "stdout",
          "text": [
            "Skewness: 0.21399176954732513\n",
            "Kurtosis: -0.9808260935832953\n"
          ]
        }
      ]
    },
    {
      "cell_type": "markdown",
      "source": [
        "Q8. Write a Python program to demonstrate Positive and Negative Skewness.\n"
      ],
      "metadata": {
        "id": "PQ6gXqCp8e1H"
      }
    },
    {
      "cell_type": "code",
      "source": [
        "import matplotlib.pyplot as plt\n",
        "import seaborn as sns\n",
        "import pandas as pd\n",
        "\n",
        "# Positive Skewed Data\n",
        "positive_skew = [10, 12, 14, 15, 16, 17, 18, 19, 22, 30]\n",
        "\n",
        "# Negative Skewed Data\n",
        "negative_skew = [30, 28, 26, 25, 24, 23, 20, 18, 15, 10]\n",
        "\n",
        "# Plotting both distributions\n",
        "plt.figure(figsize=(12, 5))\n",
        "\n",
        "# Positive Skewness Plot\n",
        "plt.subplot(1, 2, 1)\n",
        "sns.histplot(positive_skew, kde=True, color='green')\n",
        "plt.title(\"Positive Skewness\")\n",
        "\n",
        "# Negative Skewness Plot\n",
        "plt.subplot(1, 2, 2)\n",
        "sns.histplot(negative_skew, kde=True, color='red')\n",
        "plt.title(\"Negative Skewness\")\n",
        "\n",
        "plt.tight_layout()\n",
        "plt.show()\n"
      ],
      "metadata": {
        "colab": {
          "base_uri": "https://localhost:8080/",
          "height": 507
        },
        "id": "1Ads3mBV8gKV",
        "outputId": "fa8813ea-f21f-4339-9f1c-a39731f49ffe"
      },
      "execution_count": 8,
      "outputs": [
        {
          "output_type": "display_data",
          "data": {
            "text/plain": [
              "<Figure size 1200x500 with 2 Axes>"
            ],
            "image/png": "[encoded data removed]"
          },
          "metadata": {}
        }
      ]
    },
    {
      "cell_type": "markdown",
      "source": [
        " Q9. Write a Python program to find the Covariance between two datasets."
      ],
      "metadata": {
        "id": "EADz4wJ58j1a"
      }
    },
    {
      "cell_type": "code",
      "source": [
        "import pandas as pd\n",
        "\n",
        "# Two datasets (X and Y)\n",
        "x = [12, 15, 14, 10, 18, 21, 19, 20]\n",
        "y = [22, 25, 24, 20, 28, 31, 29, 30]\n",
        "\n",
        "# Create a DataFrame\n",
        "df = pd.DataFrame({'X': x, 'Y': y})\n",
        "\n",
        "# Calculate Covariance\n",
        "covariance = df.cov().iloc[0, 1]\n",
        "\n",
        "# Display result\n",
        "print(\"Covariance between X and Y:\", covariance)\n"
      ],
      "metadata": {
        "colab": {
          "base_uri": "https://localhost:8080/"
        },
        "id": "N1dQJEM88kif",
        "outputId": "087d3928-bb20-491a-a273-3d72d3e2895b"
      },
      "execution_count": 9,
      "outputs": [
        {
          "output_type": "stream",
          "name": "stdout",
          "text": [
            "Covariance between X and Y: 15.839285714285714\n"
          ]
        }
      ]
    },
    {
      "cell_type": "markdown",
      "source": [
        "Q10. Write a Python program to find the Correlation Coefficient between two variables."
      ],
      "metadata": {
        "id": "DHYqAXsR8prA"
      }
    },
    {
      "cell_type": "code",
      "source": [
        "import pandas as pd\n",
        "\n",
        "# Two datasets (X and Y)\n",
        "x = [12, 15, 14, 10, 18, 21, 19, 20]\n",
        "y = [22, 25, 24, 20, 28, 31, 29, 30]\n",
        "\n",
        "# Create DataFrame\n",
        "df = pd.DataFrame({'X': x, 'Y': y})\n",
        "\n",
        "# Calculate Correlation Coefficient\n",
        "correlation = df.corr().iloc[0, 1]\n",
        "\n",
        "# Display result\n",
        "print(\"Correlation Coefficient between X and Y:\", correlation)\n"
      ],
      "metadata": {
        "colab": {
          "base_uri": "https://localhost:8080/"
        },
        "id": "V9I0U7CN8sfP",
        "outputId": "3fcb8b44-7a42-4c43-d06e-b892177abf15"
      },
      "execution_count": 10,
      "outputs": [
        {
          "output_type": "stream",
          "name": "stdout",
          "text": [
            "Correlation Coefficient between X and Y: 1.0\n"
          ]
        }
      ]
    },
    {
      "cell_type": "markdown",
      "source": [
        "Q11. Write a Python program to plot a Scatter Diagram to show the relationship between two variables."
      ],
      "metadata": {
        "id": "kFdOf9UM8x8C"
      }
    },
    {
      "cell_type": "code",
      "source": [
        "import pandas as pd\n",
        "import matplotlib.pyplot as plt\n",
        "\n",
        "# Two datasets\n",
        "x = [12, 15, 14, 10, 18, 21, 19, 20]\n",
        "y = [22, 25, 24, 20, 28, 31, 29, 30]\n",
        "\n",
        "# Create a DataFrame\n",
        "df = pd.DataFrame({'X': x, 'Y': y})\n",
        "\n",
        "# Plotting the scatter diagram\n",
        "plt.figure(figsize=(7, 5))\n",
        "plt.scatter(df['X'], df['Y'], color='purple', marker='o')\n",
        "plt.title(\"Scatter Plot between X and Y\")\n",
        "plt.xlabel(\"X values\")\n",
        "plt.ylabel(\"Y values\")\n",
        "plt.grid(True)\n",
        "plt.tight_layout()\n",
        "plt.show()\n"
      ],
      "metadata": {
        "colab": {
          "base_uri": "https://localhost:8080/",
          "height": 507
        },
        "id": "h2BWmkaP80rp",
        "outputId": "7448a93f-a8d4-4073-c4d2-2c389da1941d"
      },
      "execution_count": 11,
      "outputs": [
        {
          "output_type": "display_data",
          "data": {
            "text/plain": [
              "<Figure size 700x500 with 1 Axes>"
            ],
            "image/png": "[encoded data removed]"
          },
          "metadata": {}
        }
      ]
    },
    {
      "cell_type": "markdown",
      "source": [
        " Q12. Write a Python program to perform Random and Systematic Sampling on a dataset."
      ],
      "metadata": {
        "id": "cw_MYrDz87LR"
      }
    },
    {
      "cell_type": "code",
      "source": [
        "import pandas as pd\n",
        "\n",
        "# Simulated dataset of 20 students with marks\n",
        "data = {\n",
        "    \"Student_ID\": range(1, 21),\n",
        "    \"Marks\": [67, 72, 81, 69, 74, 76, 88, 91, 64, 70,\n",
        "              78, 85, 73, 68, 79, 90, 82, 75, 77, 84]\n",
        "}\n",
        "\n",
        "df = pd.DataFrame(data)\n",
        "\n",
        "# 🔹 Random Sampling (5 random students)\n",
        "random_sample = df.sample(n=5, random_state=42)\n",
        "\n",
        "# 🔹 Systematic Sampling (every 4th student)\n",
        "systematic_sample = df.iloc[::4]\n",
        "\n",
        "# Display results\n",
        "print(\"📌 Random Sampling:\\n\", random_sample.sort_index())\n",
        "print(\"\\n📌 Systematic Sampling:\\n\", systematic_sample)\n"
      ],
      "metadata": {
        "colab": {
          "base_uri": "https://localhost:8080/"
        },
        "id": "Cc3XQuPp87qm",
        "outputId": "2ed96a52-3d42-4a99-fce1-20d10a91fb1b"
      },
      "execution_count": 12,
      "outputs": [
        {
          "output_type": "stream",
          "name": "stdout",
          "text": [
            "📌 Random Sampling:\n",
            "     Student_ID  Marks\n",
            "0            1     67\n",
            "1            2     72\n",
            "8            9     64\n",
            "15          16     90\n",
            "17          18     75\n",
            "\n",
            "📌 Systematic Sampling:\n",
            "     Student_ID  Marks\n",
            "0            1     67\n",
            "4            5     74\n",
            "8            9     64\n",
            "12          13     73\n",
            "16          17     82\n"
          ]
        }
      ]
    },
    {
      "cell_type": "markdown",
      "source": [
        " Q13. Write a Python program to calculate Mean, Median and Mode for Grouped Data.\n"
      ],
      "metadata": {
        "id": "NT56H7t38_01"
      }
    },
    {
      "cell_type": "code",
      "source": [
        "import pandas as pd\n",
        "\n",
        "# Class intervals and frequencies\n",
        "classes = ['0-10', '10-20', '20-30', '30-40', '40-50']\n",
        "frequency = [5, 8, 15, 10, 7]\n",
        "\n",
        "# Find class midpoints\n",
        "midpoints = [(int(i.split('-')[0]) + int(i.split('-')[1])) / 2 for i in classes]\n",
        "\n",
        "# Create DataFrame\n",
        "df = pd.DataFrame({\n",
        "    'Class': classes,\n",
        "    'Midpoint': midpoints,\n",
        "    'Frequency': frequency\n",
        "})\n",
        "\n",
        "# 🔹 Mean calculation for grouped data\n",
        "df['f*x'] = df['Midpoint'] * df['Frequency']\n",
        "mean = df['f*x'].sum() / df['Frequency'].sum()\n",
        "\n",
        "# Show DataFrame\n",
        "print(df)\n",
        "print(\"\\nMean of Grouped Data:\", mean)\n"
      ],
      "metadata": {
        "colab": {
          "base_uri": "https://localhost:8080/"
        },
        "id": "MQLcQkLq9BRb",
        "outputId": "3a0666ba-59c7-419d-9e2d-06d504b5b7b9"
      },
      "execution_count": 13,
      "outputs": [
        {
          "output_type": "stream",
          "name": "stdout",
          "text": [
            "   Class  Midpoint  Frequency    f*x\n",
            "0   0-10       5.0          5   25.0\n",
            "1  10-20      15.0          8  120.0\n",
            "2  20-30      25.0         15  375.0\n",
            "3  30-40      35.0         10  350.0\n",
            "4  40-50      45.0          7  315.0\n",
            "\n",
            "Mean of Grouped Data: 26.333333333333332\n"
          ]
        }
      ]
    },
    {
      "cell_type": "markdown",
      "source": [
        " Q14. Write a Python program to create a synthetic dataset using NumPy and find its Central Tendency."
      ],
      "metadata": {
        "id": "vxks26HB9FCv"
      }
    },
    {
      "cell_type": "code",
      "source": [
        "import numpy as np\n",
        "import pandas as pd\n",
        "from scipy import stats\n",
        "\n",
        "# Create a synthetic dataset of 100 random integers between 50 and 100\n",
        "np.random.seed(0)\n",
        "data = np.random.randint(50, 101, size=100)\n",
        "\n",
        "# Convert to Pandas Series\n",
        "series = pd.Series(data)\n",
        "\n",
        "# Central Tendency\n",
        "mean = series.mean()\n",
        "median = series.median()\n",
        "mode = series.mode().tolist()\n",
        "\n",
        "# Display\n",
        "print(\"Synthetic Dataset:\\n\", series.head(10), \"...\")  # print first 10 values\n",
        "print(\"\\nMean:\", mean)\n",
        "print(\"Median:\", median)\n",
        "print(\"Mode:\", mode)\n"
      ],
      "metadata": {
        "colab": {
          "base_uri": "https://localhost:8080/"
        },
        "id": "1TZbela59HJM",
        "outputId": "95bc8295-9ae3-40c5-fd99-309aacc8f9ee"
      },
      "execution_count": 14,
      "outputs": [
        {
          "output_type": "stream",
          "name": "stdout",
          "text": [
            "Synthetic Dataset:\n",
            " 0     94\n",
            "1     97\n",
            "2     50\n",
            "3     53\n",
            "4     53\n",
            "5     89\n",
            "6     59\n",
            "7     69\n",
            "8     71\n",
            "9    100\n",
            "dtype: int64 ...\n",
            "\n",
            "Mean: 72.53\n",
            "Median: 70.5\n",
            "Mode: [50, 85]\n"
          ]
        }
      ]
    },
    {
      "cell_type": "markdown",
      "source": [
        "Q15. Write a Python program to generate a summary of a dataset using the .describe() function.\n"
      ],
      "metadata": {
        "id": "3mMi248z9L-7"
      }
    },
    {
      "cell_type": "code",
      "source": [
        "import pandas as pd\n",
        "import numpy as np\n",
        "\n",
        "# Create synthetic dataset\n",
        "np.random.seed(42)\n",
        "data = {\n",
        "    'Math': np.random.randint(40, 100, size=10),\n",
        "    'Science': np.random.randint(45, 100, size=10),\n",
        "    'English': np.random.randint(50, 100, size=10)\n",
        "}\n",
        "\n",
        "# Create DataFrame\n",
        "df = pd.DataFrame(data)\n",
        "\n",
        "# Generate descriptive statistics\n",
        "summary = df.describe()\n",
        "\n",
        "# Display\n",
        "print(\"Dataset:\\n\", df)\n",
        "print(\"\\nSummary Statistics:\\n\", summary)\n"
      ],
      "metadata": {
        "colab": {
          "base_uri": "https://localhost:8080/"
        },
        "id": "XZxiuHqZ9MnL",
        "outputId": "27426923-d328-4abc-a98d-4704d802b3fd"
      },
      "execution_count": 15,
      "outputs": [
        {
          "output_type": "stream",
          "name": "stdout",
          "text": [
            "Dataset:\n",
            "    Math  Science  English\n",
            "0    78       67       51\n",
            "1    91       55       73\n",
            "2    68       55       93\n",
            "3    54       68       79\n",
            "4    82       97       87\n",
            "5    47       80       51\n",
            "6    60       84       70\n",
            "7    78       68       82\n",
            "8    97       47       61\n",
            "9    58       66       71\n",
            "\n",
            "Summary Statistics:\n",
            "            Math    Science    English\n",
            "count  10.00000  10.000000  10.000000\n",
            "mean   71.30000  68.700000  71.800000\n",
            "std    16.52641  14.981841  14.234543\n",
            "min    47.00000  47.000000  51.000000\n",
            "25%    58.50000  57.750000  63.250000\n",
            "50%    73.00000  67.500000  72.000000\n",
            "75%    81.00000  77.000000  81.250000\n",
            "max    97.00000  97.000000  93.000000\n"
          ]
        }
      ]
    },
    {
      "cell_type": "markdown",
      "source": [
        "Q16. Write a Python program to create a Boxplot and identify outliers.\n"
      ],
      "metadata": {
        "id": "LcVpVyOp9SN-"
      }
    },
    {
      "cell_type": "code",
      "source": [
        "import pandas as pd\n",
        "import seaborn as sns\n",
        "import matplotlib.pyplot as plt\n",
        "import numpy as np\n",
        "\n",
        "# Create synthetic dataset\n",
        "np.random.seed(0)\n",
        "data = np.append(np.random.randint(50, 90, size=15), [120, 5])  # 120 & 5 are outliers\n",
        "series = pd.Series(data)\n",
        "\n",
        "# Draw boxplot\n",
        "plt.figure(figsize=(8, 4))\n",
        "sns.boxplot(x=series, color='orange')\n",
        "\n",
        "plt.title(\"Boxplot for Outlier Detection\")\n",
        "plt.xlabel(\"Values\")\n",
        "plt.grid(True)\n",
        "plt.show()\n"
      ],
      "metadata": {
        "colab": {
          "base_uri": "https://localhost:8080/",
          "height": 410
        },
        "id": "BMFEOVHQ9TGs",
        "outputId": "e0cad0a6-5a7c-424b-d7e9-eca99e5a695a"
      },
      "execution_count": 16,
      "outputs": [
        {
          "output_type": "display_data",
          "data": {
            "text/plain": [
              "<Figure size 800x400 with 1 Axes>"
            ],
            "image/png": "[encoded data removed]"
          },
          "metadata": {}
        }
      ]
    },
    {
      "cell_type": "markdown",
      "source": [
        " Q17. Write a Python program to calculate the Interquartile Range (IQR) of a dataset.\n"
      ],
      "metadata": {
        "id": "DqSnmApQ9Yrk"
      }
    },
    {
      "cell_type": "code",
      "source": [
        "import pandas as pd\n",
        "import numpy as np\n",
        "\n",
        "# Synthetic dataset\n",
        "np.random.seed(0)\n",
        "data = np.random.randint(40, 100, size=20)\n",
        "series = pd.Series(data)\n",
        "\n",
        "# Calculate Quartiles\n",
        "Q1 = series.quantile(0.25)\n",
        "Q3 = series.quantile(0.75)\n",
        "\n",
        "# Calculate IQR\n",
        "IQR = Q3 - Q1\n",
        "\n",
        "# Display results\n",
        "print(\"Q1 (25th percentile):\", Q1)\n",
        "print(\"Q3 (75th percentile):\", Q3)\n",
        "print(\"Interquartile Range (IQR):\", IQR)\n"
      ],
      "metadata": {
        "colab": {
          "base_uri": "https://localhost:8080/"
        },
        "id": "Kl2gp1tU9Zwd",
        "outputId": "2a025e9f-2337-4f8d-ee98-41cd9bfa516b"
      },
      "execution_count": 17,
      "outputs": [
        {
          "output_type": "stream",
          "name": "stdout",
          "text": [
            "Q1 (25th percentile): 48.25\n",
            "Q3 (75th percentile): 84.75\n",
            "Interquartile Range (IQR): 36.5\n"
          ]
        }
      ]
    },
    {
      "cell_type": "markdown",
      "source": [
        "Q18. Implement Z-score normalization and explain its significance."
      ],
      "metadata": {
        "id": "ScFthMfB9nrL"
      }
    },
    {
      "cell_type": "code",
      "source": [
        "import numpy as np\n",
        "import pandas as pd\n",
        "\n",
        "# Sample data\n",
        "data = [55, 60, 65, 70, 75, 80, 85]\n",
        "series = pd.Series(data)\n",
        "\n",
        "# Z-score normalization\n",
        "mean = series.mean()\n",
        "std = series.std()\n",
        "z_scores = (series - mean) / std\n",
        "\n",
        "# Display\n",
        "print(\"Original Data:\\n\", series.tolist())\n",
        "print(\"\\nZ-score Normalized Data:\\n\", z_scores.round(2).tolist())\n"
      ],
      "metadata": {
        "colab": {
          "base_uri": "https://localhost:8080/"
        },
        "id": "7VD4eFM39pyn",
        "outputId": "674a11ad-e033-4715-beaf-8c148869e54e"
      },
      "execution_count": 18,
      "outputs": [
        {
          "output_type": "stream",
          "name": "stdout",
          "text": [
            "Original Data:\n",
            " [55, 60, 65, 70, 75, 80, 85]\n",
            "\n",
            "Z-score Normalized Data:\n",
            " [-1.39, -0.93, -0.46, 0.0, 0.46, 0.93, 1.39]\n"
          ]
        }
      ]
    },
    {
      "cell_type": "markdown",
      "source": [
        "Q19. Compare two datasets using their Standard Deviations."
      ],
      "metadata": {
        "id": "VHhieAYa9s0O"
      }
    },
    {
      "cell_type": "code",
      "source": [
        "import pandas as pd\n",
        "\n",
        "# Two sample datasets\n",
        "data1 = [45, 48, 50, 51, 53, 55, 56, 57, 60]\n",
        "data2 = [20, 30, 40, 50, 60, 70, 80, 90, 100]\n",
        "\n",
        "# Convert to Series\n",
        "series1 = pd.Series(data1)\n",
        "series2 = pd.Series(data2)\n",
        "\n",
        "# Calculate standard deviations\n",
        "std1 = series1.std()\n",
        "std2 = series2.std()\n",
        "\n",
        "# Display\n",
        "print(\"Standard Deviation of Data 1:\", round(std1, 2))\n",
        "print(\"Standard Deviation of Data 2:\", round(std2, 2))\n",
        "\n",
        "# Compare\n",
        "if std1 > std2:\n",
        "    print(\"\\nData 1 is more spread out.\")\n",
        "elif std2 > std1:\n",
        "    print(\"\\nData 2 is more spread out.\")\n",
        "else:\n",
        "    print(\"\\nBoth datasets have equal spread.\")\n"
      ],
      "metadata": {
        "colab": {
          "base_uri": "https://localhost:8080/"
        },
        "id": "DY4tFUhE9vUt",
        "outputId": "eeba0f2f-8da9-4322-a2bf-29358a5eb364"
      },
      "execution_count": 19,
      "outputs": [
        {
          "output_type": "stream",
          "name": "stdout",
          "text": [
            "Standard Deviation of Data 1: 4.74\n",
            "Standard Deviation of Data 2: 27.39\n",
            "\n",
            "Data 2 is more spread out.\n"
          ]
        }
      ]
    },
    {
      "cell_type": "markdown",
      "source": [
        "Q20. Write a Python program to visualize covariance using a heatmap.\n"
      ],
      "metadata": {
        "id": "ZAZoc1Aq9y4C"
      }
    },
    {
      "cell_type": "code",
      "source": [
        "import pandas as pd\n",
        "import numpy as np\n",
        "import seaborn as sns\n",
        "import matplotlib.pyplot as plt\n",
        "\n",
        "# Create a sample dataset\n",
        "np.random.seed(1)\n",
        "data = pd.DataFrame({\n",
        "    'Height': np.random.randint(150, 190, 10),\n",
        "    'Weight': np.random.randint(50, 90, 10),\n",
        "    'Age':    np.random.randint(18, 30, 10)\n",
        "})\n",
        "\n",
        "# Calculate covariance matrix\n",
        "cov_matrix = data.cov()\n",
        "\n",
        "# Plot heatmap\n",
        "plt.figure(figsize=(6, 4))\n",
        "sns.heatmap(cov_matrix, annot=True, cmap='YlGnBu')\n",
        "plt.title(\"Covariance Heatmap\")\n",
        "plt.tight_layout()\n",
        "plt.show()\n"
      ],
      "metadata": {
        "colab": {
          "base_uri": "https://localhost:8080/",
          "height": 407
        },
        "id": "D2bxaaYJ91FR",
        "outputId": "5e5488dc-44a5-4d52-e821-fe3b3b8c7df7"
      },
      "execution_count": 20,
      "outputs": [
        {
          "output_type": "display_data",
          "data": {
            "text/plain": [
              "<Figure size 600x400 with 2 Axes>"
            ],
            "image/png": "[encoded data removed]"
          },
          "metadata": {}
        }
      ]
    },
    {
      "cell_type": "markdown",
      "source": [
        " Q21. Use Seaborn to create a Correlation Matrix for a dataset."
      ],
      "metadata": {
        "id": "WK3tmW7m94oh"
      }
    },
    {
      "cell_type": "code",
      "source": [
        "import pandas as pd\n",
        "import numpy as np\n",
        "import seaborn as sns\n",
        "import matplotlib.pyplot as plt\n",
        "\n",
        "# Create a sample dataset\n",
        "np.random.seed(10)\n",
        "df = pd.DataFrame({\n",
        "    'Math': np.random.randint(40, 100, 10),\n",
        "    'Physics': np.random.randint(45, 95, 10),\n",
        "    'Chemistry': np.random.randint(35, 90, 10)\n",
        "})\n",
        "\n",
        "# Calculate correlation matrix\n",
        "corr_matrix = df.corr()\n",
        "\n",
        "# Plot heatmap\n",
        "plt.figure(figsize=(6, 4))\n",
        "sns.heatmap(corr_matrix, annot=True, cmap='coolwarm', linewidths=0.5)\n",
        "plt.title(\"Correlation Matrix Heatmap\")\n",
        "plt.tight_layout()\n",
        "plt.show()\n"
      ],
      "metadata": {
        "colab": {
          "base_uri": "https://localhost:8080/",
          "height": 407
        },
        "id": "bjPUjMWi96kE",
        "outputId": "1da388cb-da65-490a-f2be-45e10382a0ad"
      },
      "execution_count": 21,
      "outputs": [
        {
          "output_type": "display_data",
          "data": {
            "text/plain": [
              "<Figure size 600x400 with 2 Axes>"
            ],
            "image/png": "[encoded data removed]"
          },
          "metadata": {}
        }
      ]
    },
    {
      "cell_type": "markdown",
      "source": [
        "Q22. Generate a dataset and implement both variance and standard deviation computations.\n"
      ],
      "metadata": {
        "id": "zLDEUEeQ9-Wu"
      }
    },
    {
      "cell_type": "code",
      "source": [
        "import numpy as np\n",
        "import pandas as pd\n",
        "\n",
        "# Create synthetic dataset\n",
        "np.random.seed(101)\n",
        "data = np.random.randint(50, 100, size=15)\n",
        "series = pd.Series(data)\n",
        "\n",
        "# Calculate variance and standard deviation\n",
        "variance = series.var()\n",
        "std_dev = series.std()\n",
        "\n",
        "# Display\n",
        "print(\"Dataset:\\n\", series.tolist())\n",
        "print(\"\\nVariance:\", round(variance, 2))\n",
        "print(\"Standard Deviation:\", round(std_dev, 2))\n"
      ],
      "metadata": {
        "colab": {
          "base_uri": "https://localhost:8080/"
        },
        "id": "rijQwADO-ATb",
        "outputId": "a549bb00-2315-41bf-f715-63062d5be0a7"
      },
      "execution_count": 22,
      "outputs": [
        {
          "output_type": "stream",
          "name": "stdout",
          "text": [
            "Dataset:\n",
            " [81, 61, 67, 56, 73, 61, 97, 59, 63, 90, 54, 90, 78, 50, 96]\n",
            "\n",
            "Variance: 253.35\n",
            "Standard Deviation: 15.92\n"
          ]
        }
      ]
    },
    {
      "cell_type": "markdown",
      "source": [
        "Q23. Visualize Skewness and Kurtosis using Matplotlib and Seaborn."
      ],
      "metadata": {
        "id": "XAsKjaXE-EAE"
      }
    },
    {
      "cell_type": "code",
      "source": [
        "import numpy as np\n",
        "import pandas as pd\n",
        "import seaborn as sns\n",
        "import matplotlib.pyplot as plt\n",
        "\n",
        "# Create a synthetic dataset\n",
        "np.random.seed(123)\n",
        "data = np.random.normal(loc=60, scale=10, size=100)\n",
        "series = pd.Series(data)\n",
        "\n",
        "# Plot histogram with KDE\n",
        "plt.figure(figsize=(8, 5))\n",
        "sns.histplot(series, kde=True, bins=15, color='skyblue')\n",
        "plt.title(\"Distribution with Skewness and Kurtosis\")\n",
        "plt.xlabel(\"Values\")\n",
        "plt.ylabel(\"Frequency\")\n",
        "plt.grid(True)\n",
        "plt.tight_layout()\n",
        "plt.show()\n",
        "\n",
        "# Calculate skewness and kurtosis\n",
        "skew = series.skew()\n",
        "kurt = series.kurt()\n",
        "\n",
        "# Display results\n",
        "print(\"Skewness:\", round(skew, 2))\n",
        "print(\"Kurtosis:\", round(kurt, 2))\n"
      ],
      "metadata": {
        "colab": {
          "base_uri": "https://localhost:8080/",
          "height": 542
        },
        "id": "5YecQP7J-GK2",
        "outputId": "29780ca3-243f-42fc-c6e6-3b303b6f1b96"
      },
      "execution_count": 23,
      "outputs": [
        {
          "output_type": "display_data",
          "data": {
            "text/plain": [
              "<Figure size 800x500 with 1 Axes>"
            ],
            "image/png": "[encoded data removed]"
          },
          "metadata": {}
        },
        {
          "output_type": "stream",
          "name": "stdout",
          "text": [
            "Skewness: 0.03\n",
            "Kurtosis: -0.61\n"
          ]
        }
      ]
    }
  ]
}