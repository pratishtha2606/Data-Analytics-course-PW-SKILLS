{
  "nbformat": 4,
  "nbformat_minor": 0,
  "metadata": {
    "colab": {
      "provenance": []
    },
    "kernelspec": {
      "name": "python3",
      "display_name": "Python 3"
    },
    "language_info": {
      "name": "python"
    }
  },
  "cells": [
    {
      "cell_type": "markdown",
      "source": [
        "1-What is Python, and why is it popular ?"
      ],
      "metadata": {
        "id": "Hdt8PPiqZNyT"
      }
    },
    {
      "cell_type": "markdown",
      "source": [
        "1-Python is a high-level,interpreted programming language known for readability, versatility. it is object-oriented programming language. this is known as python\n",
        "python is popukar for it is easy to learn and use.interpreted language and open source."
      ],
      "metadata": {
        "id": "BT9sQJKeJjmk"
      }
    },
    {
      "cell_type": "markdown",
      "source": [
        "2-What is an interpreter in Python ?"
      ],
      "metadata": {
        "id": "FbIR8GAiZc3T"
      }
    },
    {
      "cell_type": "markdown",
      "source": [
        "2-An interpreter is a program that read and executes your code line by line, rather than compiling it all at once in machine code like compiler would is known as interpreted in python."
      ],
      "metadata": {
        "id": "mWQ0oHGLKxRD"
      }
    },
    {
      "cell_type": "markdown",
      "source": [
        "3-What are pre-defined keywords in Python ?"
      ],
      "metadata": {
        "id": "HAVYuUTdZg9B"
      }
    },
    {
      "cell_type": "markdown",
      "source": [
        "3- Keywords in python are a set of reserved  words that have pre-defined meaning and are used to defined the syntax and structure  of python program. these words are integral to language  and cannot be used for any other purpose such as naming variables, functions or classes."
      ],
      "metadata": {
        "id": "J4qc0HgqLWhZ"
      }
    },
    {
      "cell_type": "markdown",
      "source": [
        "4-Can keywords be used as variable names ?"
      ],
      "metadata": {
        "id": "2Yk55rk5Zuzj"
      }
    },
    {
      "cell_type": "markdown",
      "source": [
        "4- No, keywords cannot be used as keywords in python."
      ],
      "metadata": {
        "id": "wqY1fnWaMUx2"
      }
    },
    {
      "cell_type": "markdown",
      "source": [
        "5-What is mutability in Python ?"
      ],
      "metadata": {
        "id": "bTAtlLZoZywh"
      }
    },
    {
      "cell_type": "markdown",
      "source": [
        "5- Mutability  refers to wheather an objects internal state can be changed after it has been created. there are two type of mutability:-\n",
        "1- Mutable objects\n",
        "2- Immutable objects"
      ],
      "metadata": {
        "id": "oQIGH6B4MkYF"
      }
    },
    {
      "cell_type": "markdown",
      "source": [
        "6-Why are lists mutable, but tuples are immutable ?"
      ],
      "metadata": {
        "id": "__UeINhfZ7ML"
      }
    },
    {
      "cell_type": "markdown",
      "source": [
        "6- Lists can be changed after they are created. You can add, remove, or change items in a list whenever you want.\n",
        "Tuples cannot be changed after they are created. This means the data inside a tuple is safe and won't accidentally change in your program."
      ],
      "metadata": {
        "id": "_RUI5j-kNbHf"
      }
    },
    {
      "cell_type": "markdown",
      "source": [
        "7- What is the difference between “==” and “is” operators in Python ?"
      ],
      "metadata": {
        "id": "ET8IOPksZ_8s"
      }
    },
    {
      "cell_type": "markdown",
      "source": [
        "7- \"==\" operator known as equality operator. check if the condition of two object is equal. it compare the value of object not their memory address.\n",
        "if the value is same , it return True otherwise False.\n",
        "\"is\" operator known as identity operator. it compares the memory addresses of the objects, not the contents. if the both variables point to the same memory location , it return  True otherwise False."
      ],
      "metadata": {
        "id": "Zphvi9YGN8uJ"
      }
    },
    {
      "cell_type": "markdown",
      "source": [
        "8- What are logical operators in Python ?"
      ],
      "metadata": {
        "id": "F27XgorOKpEV"
      }
    },
    {
      "cell_type": "markdown",
      "source": [
        "8-they are used to combine conditional statement or to perform logical operations.they return a boolean value (True or false).\n",
        "1- and operator\n",
        "2- or opertor\n",
        "3- not opertor"
      ],
      "metadata": {
        "id": "Jdiz4mFnQFy-"
      }
    },
    {
      "cell_type": "markdown",
      "source": [
        "9- What is type casting in Python ?"
      ],
      "metadata": {
        "id": "5wteCuu4aMig"
      }
    },
    {
      "cell_type": "markdown",
      "source": [
        "9- Type casting in python refers to the process of converting one data type into another. this can be done either implicitly or explicitly."
      ],
      "metadata": {
        "id": "jTQAF8G1RZN4"
      }
    },
    {
      "cell_type": "markdown",
      "source": [
        "10- What is the difference between implicit and explicit type casting ?"
      ],
      "metadata": {
        "id": "DYRlMD-7aP00"
      }
    },
    {
      "cell_type": "markdown",
      "source": [
        "# 10- A:-Implicit Type Casting (Automatic)\n",
        "*  Implicit casting happens when the python automatically converts one data type to another.\n",
        "*  This usually happens when converting from a lower bdata type (like int) to a higher data type (like float and str).\n",
        "*  This process doesn't lose any data and is safe because the conversion does not result in data loss.\n",
        "\n",
        "# B:- Explicit Type Casting (Manual)\n",
        "* Explicit casting happens when the programmer manually converts a value from one type to another using the casting functions.\n",
        "* commonly used function include:\n",
        "  1. int()\n",
        "  2. float()\n",
        "  3. str()\n",
        "  4. list()\n",
        "\n",
        "\n",
        "\n",
        "\n",
        "\n",
        "\n",
        "\n",
        "\n",
        "\n"
      ],
      "metadata": {
        "id": "WWDiGeJSSV8r"
      }
    },
    {
      "cell_type": "markdown",
      "source": [
        "11-What is the purpose of conditional statements in Python ?"
      ],
      "metadata": {
        "id": "GraMDK54aSon"
      }
    },
    {
      "cell_type": "markdown",
      "source": [
        "11- Conditional statements in Python are used to make decisions in your code. They allow the program to execute specific blocks of code based on certain conditions. These conditions are typically expressions that evaluate to either True or False. The purpose is to direct the flow of execution depending on the evaluation of these conditions."
      ],
      "metadata": {
        "id": "IueEo6fVU7xj"
      }
    },
    {
      "cell_type": "markdown",
      "source": [
        "12-How does the elif statement work?"
      ],
      "metadata": {
        "id": "bn8NszZhUJn3"
      }
    },
    {
      "cell_type": "markdown",
      "source": [
        "12- The elif (short for \"else if\") statement in Python is used in conditional chains when you have multiple conditions to check. It allows you to test several conditions in sequence after an initial if statement. If the first condition (if) is false, Python will check the next condition specified by elif. If any elif condition is true, the corresponding block of code will execute. If none of the if or elif conditions are true, the else block (if provided) will execute."
      ],
      "metadata": {
        "id": "1A4fXp_CVaCQ"
      }
    },
    {
      "cell_type": "markdown",
      "source": [
        "13- What is the difference between for and while loops ?"
      ],
      "metadata": {
        "id": "n027i0zTUCnf"
      }
    },
    {
      "cell_type": "markdown",
      "source": [
        "13- **for loop**\n",
        "1. A for loop is used when you know how many times you want to iterate over a sequence (like a list, tuple, string, or range).\n",
        "2. syntax:-\n",
        "    For item in iterable:\n",
        "        #block of code to execute\n",
        "**while loop**\n",
        "1. A while loop is used when you want to keep looping as long as a condition is True. You don't always know how many times the loop will run in advance.\n",
        "2. syntax:-\n",
        "     while condition:\n",
        "        #block of code to execute\n",
        "\n",
        "\n",
        "\n"
      ],
      "metadata": {
        "id": "8GwRcXqqVsSF"
      }
    },
    {
      "cell_type": "markdown",
      "source": [
        "14- Describe a scenario where a while loop is more suitable than a for loop."
      ],
      "metadata": {
        "id": "BPsNKlT1T635"
      }
    },
    {
      "cell_type": "markdown",
      "source": [
        "14- a while loop is more suitable because:\n",
        "\n",
        "The number of iterations is unknown.\n",
        "\n",
        "You don't know how many times the user will give invalid input, but you want to\n",
        "keep asking until the user provides a valid input."
      ],
      "metadata": {
        "id": "9B6smdELXJ46"
      }
    },
    {
      "cell_type": "markdown",
      "source": [
        "1- Write a Python program to print \"Hello, World!y"
      ],
      "metadata": {
        "id": "w4Bc7xuBT0aV"
      }
    },
    {
      "cell_type": "code",
      "source": [
        "print(\"Hello World!\")"
      ],
      "metadata": {
        "colab": {
          "base_uri": "https://localhost:8080/"
        },
        "id": "VKcUyz5aZMHi",
        "outputId": "80fe7f01-3a08-474b-d3e3-19fea3a91dfa"
      },
      "execution_count": 1,
      "outputs": [
        {
          "output_type": "stream",
          "name": "stdout",
          "text": [
            "Hello World!\n"
          ]
        }
      ]
    },
    {
      "cell_type": "markdown",
      "source": [
        "2-Write a Python program that displays your name and age8"
      ],
      "metadata": {
        "id": "rUms9OZ9URaQ"
      }
    },
    {
      "cell_type": "code",
      "source": [
        "# This program shows name and age\n",
        "\n",
        "name = \"Pratishtha\"      # Replace with your name\n",
        "age = 20            # Replace with your age\n",
        "\n",
        "print(\"My name is\", name)\n",
        "print(\"I am\", age, \"years old\")\n"
      ],
      "metadata": {
        "colab": {
          "base_uri": "https://localhost:8080/"
        },
        "id": "7X5xvJOnUWGb",
        "outputId": "80254060-3ed6-4d57-b915-d12e187a3d5f"
      },
      "execution_count": 1,
      "outputs": [
        {
          "output_type": "stream",
          "name": "stdout",
          "text": [
            "My name is Rahul\n",
            "I am 20 years old\n"
          ]
        }
      ]
    },
    {
      "cell_type": "markdown",
      "source": [
        "3-Write code to print all the pre-defined keywords in Python using the keyword library"
      ],
      "metadata": {
        "id": "4l3ZBU23UxYY"
      }
    },
    {
      "cell_type": "code",
      "source": [
        "# This program prints all Python keywords\n",
        "\n",
        "import keyword\n",
        "\n",
        "print(\"The keywords in Python are:\")\n",
        "print(keyword.kwlist)\n"
      ],
      "metadata": {
        "colab": {
          "base_uri": "https://localhost:8080/"
        },
        "id": "2tefXBrrU6Ng",
        "outputId": "2949f5bf-1a02-4459-a3a2-c9c617b8f811"
      },
      "execution_count": 2,
      "outputs": [
        {
          "output_type": "stream",
          "name": "stdout",
          "text": [
            "The keywords in Python are:\n",
            "['False', 'None', 'True', 'and', 'as', 'assert', 'async', 'await', 'break', 'class', 'continue', 'def', 'del', 'elif', 'else', 'except', 'finally', 'for', 'from', 'global', 'if', 'import', 'in', 'is', 'lambda', 'nonlocal', 'not', 'or', 'pass', 'raise', 'return', 'try', 'while', 'with', 'yield']\n"
          ]
        }
      ]
    },
    {
      "cell_type": "markdown",
      "source": [
        "4-Write a program that checks if a given word is a Python keyword."
      ],
      "metadata": {
        "id": "t1cQ5Ws2VAtM"
      }
    },
    {
      "cell_type": "code",
      "source": [
        "# This program checks if a word is a Python keyword\n",
        "\n",
        "import keyword\n",
        "\n",
        "word = input(\"Enter a word: \")\n",
        "\n",
        "if keyword.iskeyword(word):\n",
        "    print(word, \"is a Python keyword.\")\n",
        "else:\n",
        "    print(word, \"is not a Python keyword.\")\n"
      ],
      "metadata": {
        "colab": {
          "base_uri": "https://localhost:8080/"
        },
        "id": "kWr9W2DmVFL4",
        "outputId": "9e902b6c-8196-4240-d54f-551d274efe85"
      },
      "execution_count": 3,
      "outputs": [
        {
          "output_type": "stream",
          "name": "stdout",
          "text": [
            "Enter a word: hello\n",
            "hello is not a Python keyword.\n"
          ]
        }
      ]
    },
    {
      "cell_type": "markdown",
      "source": [
        "5-Create a list and tuple in Python, and demonstrate how attempting to change an element works differently for each."
      ],
      "metadata": {
        "id": "Wr4mHjN0VQCP"
      }
    },
    {
      "cell_type": "code",
      "source": [
        "# This program shows the difference between list and tuple when changing elements\n",
        "\n",
        "# Creating a list\n",
        "my_list = [10, 20, 30]\n",
        "print(\"Original list:\", my_list)\n",
        "\n",
        "# Changing an element in the list\n",
        "my_list[1] = 99\n",
        "print(\"List after changing second element:\", my_list)\n",
        "\n",
        "# Creating a tuple\n",
        "my_tuple = (10, 20, 30)\n",
        "print(\"Original tuple:\", my_tuple)\n",
        "\n",
        "# Trying to change an element in the tuple (this will cause an error)\n",
        "try:\n",
        "    my_tuple[1] = 99\n",
        "except TypeError:\n",
        "    print(\"Error: You cannot change elements in a tuple\")\n"
      ],
      "metadata": {
        "colab": {
          "base_uri": "https://localhost:8080/"
        },
        "id": "amiRMsg1VXfo",
        "outputId": "3fff7263-9f13-44ee-ef79-efac4129f753"
      },
      "execution_count": 4,
      "outputs": [
        {
          "output_type": "stream",
          "name": "stdout",
          "text": [
            "Original list: [10, 20, 30]\n",
            "List after changing second element: [10, 99, 30]\n",
            "Original tuple: (10, 20, 30)\n",
            "Error: You cannot change elements in a tuple\n"
          ]
        }
      ]
    },
    {
      "cell_type": "markdown",
      "source": [
        "6-Write a function to demonstrate the behavior of mutable and immutable arguments.\n"
      ],
      "metadata": {
        "id": "x344X72iViVs"
      }
    },
    {
      "cell_type": "code",
      "source": [
        "# This program shows mutable and immutable behavior\n",
        "\n",
        "def test(a, b):\n",
        "    a = a + 1       # Integer (immutable)\n",
        "    b.append(4)     # List (mutable)\n",
        "    print(\"Inside function:\")\n",
        "    print(\"a =\", a)\n",
        "    print(\"b =\", b)\n",
        "\n",
        "x = 5\n",
        "y = [1, 2, 3]\n",
        "\n",
        "test(x, y)\n",
        "\n",
        "print(\"\\nOutside function:\")\n",
        "print(\"x =\", x)     # Not changed\n",
        "print(\"y =\", y)     # Changed\n",
        "\n"
      ],
      "metadata": {
        "colab": {
          "base_uri": "https://localhost:8080/"
        },
        "id": "eYg8nv07VnmO",
        "outputId": "015f1449-ed52-4cd1-9832-af6be7218db3"
      },
      "execution_count": 6,
      "outputs": [
        {
          "output_type": "stream",
          "name": "stdout",
          "text": [
            "Inside function:\n",
            "a = 6\n",
            "b = [1, 2, 3, 4]\n",
            "\n",
            "Outside function:\n",
            "x = 5\n",
            "y = [1, 2, 3, 4]\n"
          ]
        }
      ]
    },
    {
      "cell_type": "markdown",
      "source": [
        "7-Write a program that performs basic arithmetic operations on two user-input numbers"
      ],
      "metadata": {
        "id": "rSnq4lMPV7yv"
      }
    },
    {
      "cell_type": "code",
      "source": [
        "# Basic arithmetic operations\n",
        "\n",
        "a = int(input(\"Enter first number: \"))\n",
        "b = int(input(\"Enter second number: \"))\n",
        "\n",
        "print(\"Addition:\", a + b)\n",
        "print(\"Subtraction:\", a - b)\n",
        "print(\"Multiplication:\", a * b)\n",
        "\n",
        "if b != 0:\n",
        "    print(\"Division:\", a / b)\n",
        "else:\n",
        "    print(\"Cannot divide by zero\")\n"
      ],
      "metadata": {
        "colab": {
          "base_uri": "https://localhost:8080/"
        },
        "id": "ng96P0PlWAQ-",
        "outputId": "812e10c8-dbb6-40ff-b34e-758a168ded0a"
      },
      "execution_count": 7,
      "outputs": [
        {
          "output_type": "stream",
          "name": "stdout",
          "text": [
            "Enter first number: 65\n",
            "Enter second number: 55\n",
            "Addition: 120\n",
            "Subtraction: 10\n",
            "Multiplication: 3575\n",
            "Division: 1.1818181818181819\n"
          ]
        }
      ]
    },
    {
      "cell_type": "markdown",
      "source": [
        "8-Write a program to demonstrate the use of logical operators."
      ],
      "metadata": {
        "id": "vA-oLpcFWXbM"
      }
    },
    {
      "cell_type": "code",
      "source": [
        "# Program to show logical operators\n",
        "\n",
        "a = int(input(\"Enter first number: \"))\n",
        "b = int(input(\"Enter second number: \"))\n",
        "\n",
        "# and operator\n",
        "if a > 0 and b > 0:\n",
        "    print(\"Both numbers are positive\")\n",
        "\n",
        "# or operator\n",
        "if a > 0 or b > 0:\n",
        "    print(\"At least one number is positive\")\n",
        "\n",
        "# not operator\n",
        "if not (a < 0):\n",
        "    print(\"First number is not negative\")\n"
      ],
      "metadata": {
        "colab": {
          "base_uri": "https://localhost:8080/"
        },
        "id": "Ab59AErUWbfN",
        "outputId": "c0ddf7b5-226d-442e-94eb-48c29c3866de"
      },
      "execution_count": 22,
      "outputs": [
        {
          "output_type": "stream",
          "name": "stdout",
          "text": [
            "Enter first number: 54\n",
            "Enter second number: 22\n",
            "Both numbers are positive\n",
            "At least one number is positive\n",
            "First number is not negative\n"
          ]
        }
      ]
    },
    {
      "cell_type": "markdown",
      "source": [
        "9-Write a Python program to convert user input from string to integer, float, and boolean types"
      ],
      "metadata": {
        "id": "M5c4oBVhWm9W"
      }
    },
    {
      "cell_type": "code",
      "source": [
        "# Program to convert input to int, float, and bool\n",
        "\n",
        "value = input(\"Enter something: \")\n",
        "\n",
        "# Convert to integer\n",
        "int_value = int(value)\n",
        "print(\"As integer:\", int_value)\n",
        "\n",
        "# Convert to float\n",
        "float_value = float(value)\n",
        "print(\"As float:\", float_value)\n",
        "\n",
        "# Convert to boolean\n",
        "bool_value = bool(value)\n",
        "print(\"As boolean:\", bool_value)\n"
      ],
      "metadata": {
        "colab": {
          "base_uri": "https://localhost:8080/"
        },
        "id": "2EWq4wvVWuBS",
        "outputId": "9283a10a-917d-4ccc-a5bd-282855a9e9b3"
      },
      "execution_count": 11,
      "outputs": [
        {
          "output_type": "stream",
          "name": "stdout",
          "text": [
            "Enter something: 33\n",
            "As integer: 33\n",
            "As float: 33.0\n",
            "As boolean: True\n"
          ]
        }
      ]
    },
    {
      "cell_type": "markdown",
      "source": [
        "10-Write code to demonstrate type casting with list elements."
      ],
      "metadata": {
        "id": "9lT9LucnXBAL"
      }
    },
    {
      "cell_type": "code",
      "source": [
        "# Simple list with string elements\n",
        "my_list = [\"10\", \"20.5\", \"True\", \"hello\"]\n",
        "\n",
        "# Convert elements to int, float, and bool\n",
        "my_list_int = [int(x) if x.isdigit() else None for x in my_list]      # Only convert if valid int\n",
        "my_list_float = [float(x) if x.replace('.', '', 1).isdigit() else None for x in my_list]  # Only convert if valid float\n",
        "my_list_bool = [bool(x) for x in my_list]    # Convert to boolean\n",
        "\n",
        "# Print results\n",
        "print(\"Original list:\", my_list)\n",
        "print(\"List as integers:\", my_list_int)\n",
        "print(\"List as floats:\", my_list_float)\n",
        "print(\"List as booleans:\", my_list_bool)\n",
        "\n"
      ],
      "metadata": {
        "colab": {
          "base_uri": "https://localhost:8080/"
        },
        "id": "wLLdfXULXFRX",
        "outputId": "0dae28db-935d-4e6e-dc09-e77b3e29f37b"
      },
      "execution_count": 14,
      "outputs": [
        {
          "output_type": "stream",
          "name": "stdout",
          "text": [
            "Original list: ['10', '20.5', 'True', 'hello']\n",
            "List as integers: [10, None, None, None]\n",
            "List as floats: [10.0, 20.5, None, None]\n",
            "List as booleans: [True, True, True, True]\n"
          ]
        }
      ]
    },
    {
      "cell_type": "markdown",
      "source": [
        "11-Write a program that checks if a number is positive, negative, or zero"
      ],
      "metadata": {
        "id": "-JhzuzjzXkq1"
      }
    },
    {
      "cell_type": "code",
      "source": [
        "# Program to check if a number is positive, negative, or zero\n",
        "\n",
        "num = float(input(\"Enter a number: \"))\n",
        "\n",
        "if num > 0:\n",
        "    print(\"The number is positive.\")\n",
        "elif num < 0:\n",
        "    print(\"The number is negative.\")\n",
        "else:\n",
        "    print(\"The number is zero.\")\n"
      ],
      "metadata": {
        "colab": {
          "base_uri": "https://localhost:8080/"
        },
        "id": "a1KddEvzXolU",
        "outputId": "18de899d-64ef-4826-9bb9-edf06baff917"
      },
      "execution_count": 17,
      "outputs": [
        {
          "output_type": "stream",
          "name": "stdout",
          "text": [
            "Enter a number: 54\n",
            "The number is positive.\n"
          ]
        }
      ]
    },
    {
      "cell_type": "markdown",
      "source": [
        "12-Write a for loop to print numbers from 1 to 10"
      ],
      "metadata": {
        "id": "agYx4rmcXvrz"
      }
    },
    {
      "cell_type": "code",
      "source": [
        "# Program to print numbers from 1 to 10\n",
        "\n",
        "for num in range(1, 11):\n",
        "    print(num)\n"
      ],
      "metadata": {
        "colab": {
          "base_uri": "https://localhost:8080/"
        },
        "id": "7HfvnWLAXy1q",
        "outputId": "1e0eb676-a416-42e0-d737-154517392f0b"
      },
      "execution_count": 16,
      "outputs": [
        {
          "output_type": "stream",
          "name": "stdout",
          "text": [
            "1\n",
            "2\n",
            "3\n",
            "4\n",
            "5\n",
            "6\n",
            "7\n",
            "8\n",
            "9\n",
            "10\n"
          ]
        }
      ]
    },
    {
      "cell_type": "markdown",
      "source": [
        "13-Write a Python program to find the sum of all even numbers between 1 and 50."
      ],
      "metadata": {
        "id": "PkLL_6t_X4Fh"
      }
    },
    {
      "cell_type": "code",
      "source": [
        "# Program to find the sum of all even numbers between 1 and 50\n",
        "\n",
        "sum_even = 0\n",
        "\n",
        "for num in range(1, 51):\n",
        "    if num % 2 == 0:\n",
        "        sum_even += num\n",
        "\n",
        "print(\"The sum of all even numbers between 1 and 50 is:\", sum_even)\n"
      ],
      "metadata": {
        "colab": {
          "base_uri": "https://localhost:8080/"
        },
        "id": "ke-x_1IjX7Nw",
        "outputId": "79406f3a-b5b1-4aa8-e756-08cd385fb54b"
      },
      "execution_count": 18,
      "outputs": [
        {
          "output_type": "stream",
          "name": "stdout",
          "text": [
            "The sum of all even numbers between 1 and 50 is: 650\n"
          ]
        }
      ]
    },
    {
      "cell_type": "markdown",
      "source": [
        "14-Write a program to reverse a string using a while loop."
      ],
      "metadata": {
        "id": "zSpoiA1-YYUw"
      }
    },
    {
      "cell_type": "code",
      "source": [
        "# Program to reverse a string using a while loop\n",
        "\n",
        "string = input(\"Enter a string: \")\n",
        "\n",
        "reversed_string = \"\"\n",
        "\n",
        "index = len(string) - 1\n",
        "\n",
        "while index >= 0:\n",
        "    reversed_string += string[index]\n",
        "    index -= 1\n",
        "print(\"Reversed string:\", reversed_string)\n"
      ],
      "metadata": {
        "colab": {
          "base_uri": "https://localhost:8080/"
        },
        "id": "cV_6Px6AYd3q",
        "outputId": "99c23232-0325-45f9-8d6e-5c1acc6138ef"
      },
      "execution_count": 19,
      "outputs": [
        {
          "output_type": "stream",
          "name": "stdout",
          "text": [
            "Enter a string: hello world\n",
            "Reversed string: dlrow olleh\n"
          ]
        }
      ]
    },
    {
      "cell_type": "markdown",
      "source": [
        "15-Write a Python program to calculate the factorial of a number provided by the user using a while loop."
      ],
      "metadata": {
        "id": "ZHyb35AVYuX0"
      }
    },
    {
      "cell_type": "code",
      "source": [
        "# Program to calculate the factorial of a number using a while loop\n",
        "\n",
        "num = int(input(\"Enter a number: \"))\n",
        "\n",
        "factorial = 1\n",
        "i = 1\n",
        "\n",
        "while i <= num:\n",
        "    factorial *= i\n",
        "    i += 1\n",
        "\n",
        "print(f\"The factorial of {num} is: {factorial}\")\n"
      ],
      "metadata": {
        "colab": {
          "base_uri": "https://localhost:8080/"
        },
        "id": "hceVw8swYyKy",
        "outputId": "c95f81af-a260-4aba-f3e1-6394be0939b6"
      },
      "execution_count": 21,
      "outputs": [
        {
          "output_type": "stream",
          "name": "stdout",
          "text": [
            "Enter a number: 10\n",
            "The factorial of 10 is: 3628800\n"
          ]
        }
      ]
    }
  ]
}