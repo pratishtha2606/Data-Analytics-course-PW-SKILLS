{
  "cells": [
    {
      "cell_type": "markdown",
      "id": "3d28a124",
      "metadata": {
        "id": "3d28a124"
      },
      "source": [
        "### What is a RESTful API\n",
        "A RESTful API (Representational State Transfer) is an architectural style for building web services. It uses standard HTTP methods such as GET, POST, PUT, DELETE to perform operations on resources identified by URIs. RESTful APIs are stateless."
      ]
    },
    {
      "cell_type": "markdown",
      "id": "3869db70",
      "metadata": {
        "id": "3869db70"
      },
      "source": [
        "### Explain the concept of API specification\n",
        "An API specification defines how an API works — including endpoints, request/response formats, authentication, and error handling. OpenAPI/Swagger is commonly used."
      ]
    },
    {
      "cell_type": "markdown",
      "id": "e7a45919",
      "metadata": {
        "id": "e7a45919"
      },
      "source": [
        "### What is Flask, and why is it popular for building APIs\n",
        "Flask is a lightweight Python web framework. It's popular for API development because it's simple, flexible, and supports many extensions like Flask-RESTful."
      ]
    },
    {
      "cell_type": "markdown",
      "id": "38988437",
      "metadata": {
        "id": "38988437"
      },
      "source": [
        "### What is routing in Flask\n",
        "Routing in Flask maps URL paths to Python functions using the @app.route() decorator."
      ]
    },
    {
      "cell_type": "markdown",
      "id": "1159718f",
      "metadata": {
        "id": "1159718f"
      },
      "source": [
        "### How do you create a simple Flask application\n",
        "```python\n",
        "from flask import Flask\n",
        "app = Flask(__name__)\n",
        "\n",
        "@app.route('/')\n",
        "def home():\n",
        "    return \"Hello, Flask!\"\n",
        "\n",
        "if __name__ == '__main__':\n",
        "    app.run(debug=True)\n",
        "```"
      ]
    },
    {
      "cell_type": "markdown",
      "id": "63ee404e",
      "metadata": {
        "id": "63ee404e"
      },
      "source": [
        "### What are HTTP methods used in RESTful APIs\n",
        "- GET: Retrieve data\n",
        "- POST: Submit data\n",
        "- PUT: Update existing data\n",
        "- DELETE: Remove data"
      ]
    },
    {
      "cell_type": "markdown",
      "id": "02ce82fb",
      "metadata": {
        "id": "02ce82fb"
      },
      "source": [
        "### What is the purpose of the @app.route() decorator in Flask\n",
        "It defines the URL route and maps it to a specific function that will handle requests to that route."
      ]
    },
    {
      "cell_type": "markdown",
      "id": "0c275d29",
      "metadata": {
        "id": "0c275d29"
      },
      "source": [
        "### What is the difference between GET and POST HTTP methods\n",
        "GET retrieves data and appends parameters in URL. POST sends data in request body, used for creating or submitting data."
      ]
    },
    {
      "cell_type": "markdown",
      "id": "c8295fd5",
      "metadata": {
        "id": "c8295fd5"
      },
      "source": [
        "### How do you handle errors in Flask APIs\n",
        "Using Flask’s `@app.errorhandler` decorator or `abort()` function. Example:\n",
        "```python\n",
        "from flask import abort\n",
        "\n",
        "@app.route('/item/<int:id>')\n",
        "def get_item(id):\n",
        "    if id not in items:\n",
        "        abort(404)\n",
        "```"
      ]
    },
    {
      "cell_type": "markdown",
      "id": "9120fd83",
      "metadata": {
        "id": "9120fd83"
      },
      "source": [
        "### How do you connect Flask to a SQL database\n",
        "Using extensions like Flask-SQLAlchemy:\n",
        "```python\n",
        "from flask_sqlalchemy import SQLAlchemy\n",
        "app.config['SQLALCHEMY_DATABASE_URI'] = 'sqlite:///data.db'\n",
        "db = SQLAlchemy(app)\n",
        "```"
      ]
    },
    {
      "cell_type": "markdown",
      "id": "6ceb64e2",
      "metadata": {
        "id": "6ceb64e2"
      },
      "source": [
        "### What is the role of Flask-SQLAlchemy\n",
        "It provides ORM (Object Relational Mapper) support for Flask. It allows you to work with databases using Python classes."
      ]
    },
    {
      "cell_type": "markdown",
      "id": "57f64c4b",
      "metadata": {
        "id": "57f64c4b"
      },
      "source": [
        "### What are Flask blueprints, and how are they useful\n",
        "Blueprints allow modularization of Flask apps. Useful for large applications by organizing code into components."
      ]
    },
    {
      "cell_type": "markdown",
      "id": "8725fef7",
      "metadata": {
        "id": "8725fef7"
      },
      "source": [
        "### What is the purpose of Flask's request object\n",
        "`request` object contains data sent in an HTTP request, such as form data, JSON payload, headers, etc."
      ]
    },
    {
      "cell_type": "markdown",
      "id": "619be885",
      "metadata": {
        "id": "619be885"
      },
      "source": [
        "### How do you create a RESTful API endpoint using Flask\n",
        "```python\n",
        "@app.route('/api/data', methods=['GET'])\n",
        "def get_data():\n",
        "    return jsonify({\"message\": \"success\"})\n",
        "```"
      ]
    },
    {
      "cell_type": "markdown",
      "id": "d4ff0ac9",
      "metadata": {
        "id": "d4ff0ac9"
      },
      "source": [
        "### What is the purpose of Flask's jsonify() function\n",
        "`jsonify()` converts Python dictionaries to JSON response with proper headers."
      ]
    },
    {
      "cell_type": "markdown",
      "id": "2f91b75a",
      "metadata": {
        "id": "2f91b75a"
      },
      "source": [
        "### Explain Flask’s url_for() function\n",
        "`url_for('function_name')` generates dynamic URLs for given function routes. Helpful during redirection or template rendering."
      ]
    },
    {
      "cell_type": "markdown",
      "id": "40a0f8f0",
      "metadata": {
        "id": "40a0f8f0"
      },
      "source": [
        "### How does Flask handle static files (CSS, JavaScript, etc.)\n",
        "Static files are served from `static/` folder by default. Access via `url_for('static', filename='style.css')`."
      ]
    },
    {
      "cell_type": "markdown",
      "id": "c7fb3eb2",
      "metadata": {
        "id": "c7fb3eb2"
      },
      "source": [
        "### What is an API specification, and how does it help in building a Flask API\n",
        "It defines rules and structure of the API. Ensures consistency and helps other developers understand how to interact with it."
      ]
    },
    {
      "cell_type": "markdown",
      "id": "f9f2da40",
      "metadata": {
        "id": "f9f2da40"
      },
      "source": [
        "### What are HTTP status codes, and why are they important in a Flask API\n",
        "They indicate response results (e.g., 200 OK, 404 Not Found, 500 Server Error) and help clients handle responses appropriately."
      ]
    },
    {
      "cell_type": "markdown",
      "id": "0081d87e",
      "metadata": {
        "id": "0081d87e"
      },
      "source": [
        "### How do you handle POST requests in Flask\n",
        "Use `methods=['POST']` in @app.route. Access data via `request.form`, `request.json`, etc."
      ]
    },
    {
      "cell_type": "markdown",
      "id": "13c2a49c",
      "metadata": {
        "id": "13c2a49c"
      },
      "source": [
        "### How would you secure a Flask API\n",
        "- Use HTTPS\n",
        "- Validate input\n",
        "- Use authentication (token-based)\n",
        "- Limit rate of requests\n",
        "- Use Flask extensions like Flask-JWT, Flask-Login"
      ]
    },
    {
      "cell_type": "markdown",
      "id": "f1295dde",
      "metadata": {
        "id": "f1295dde"
      },
      "source": [
        "### What is the significance of the Flask-RESTful extension\n",
        "Simplifies building REST APIs using classes and resource routing. Organizes code better."
      ]
    },
    {
      "cell_type": "markdown",
      "id": "82ba137d",
      "metadata": {
        "id": "82ba137d"
      },
      "source": [
        "### What is the role of Flask’s session object?\n",
        "Stores data across requests for a user (like login state). Uses secure cookies."
      ]
    },
    {
      "cell_type": "markdown",
      "id": "489ce0ee",
      "metadata": {
        "id": "489ce0ee"
      },
      "source": [
        "### How do you serve static files like images or CSS in Flask\n",
        "Place them in the `/static` folder and access via `url_for('static', filename='image.jpg')`."
      ]
    },
    {
      "cell_type": "markdown",
      "id": "1bd664a8",
      "metadata": {
        "id": "1bd664a8"
      },
      "source": [
        "### How do you define different routes with different HTTP methods in Flask\n",
        "```python\n",
        "@app.route('/submit', methods=['GET', 'POST'])\n",
        "def submit():\n",
        "    if request.method == 'POST':\n",
        "        return \"Form submitted\"\n",
        "    return \"Submit form\"\n",
        "```"
      ]
    },
    {
      "cell_type": "markdown",
      "id": "0421ad8c",
      "metadata": {
        "id": "0421ad8c"
      },
      "source": [
        "### How do you render HTML templates in Flask\n",
        "Use Flask's `render_template()` function with HTML files stored in the `templates/` directory."
      ]
    },
    {
      "cell_type": "markdown",
      "id": "e748f69f",
      "metadata": {
        "id": "e748f69f"
      },
      "source": [
        "### How can you generate URLs for routes in Flask using url_for\n",
        "```python\n",
        "url_for('home')  # Generates the URL for the function `home`\n",
        "```"
      ]
    },
    {
      "cell_type": "markdown",
      "id": "80591690",
      "metadata": {
        "id": "80591690"
      },
      "source": [
        "### How do you handle forms in Flask\n",
        "Use `request.form` for POST forms, and use WTForms for form handling and validation."
      ]
    },
    {
      "cell_type": "markdown",
      "id": "dc0d2e17",
      "metadata": {
        "id": "dc0d2e17"
      },
      "source": [
        "### How can you validate form data in Flask\n",
        "Manually or by using WTForms which provides built-in validators for fields."
      ]
    },
    {
      "cell_type": "markdown",
      "id": "7d32a383",
      "metadata": {
        "id": "7d32a383"
      },
      "source": [
        "### How do you manage sessions in Flask\n",
        "Using Flask’s `session` dictionary to store user-specific data. Example: `session['username'] = 'John'`"
      ]
    },
    {
      "cell_type": "markdown",
      "id": "719eca60",
      "metadata": {
        "id": "719eca60"
      },
      "source": [
        "### How do you redirect to a different route in Flask\n",
        "Use `redirect(url_for('route_name'))` to redirect to a different route."
      ]
    },
    {
      "cell_type": "markdown",
      "id": "d43ca827",
      "metadata": {
        "id": "d43ca827"
      },
      "source": [
        "### How do you handle errors in Flask (e.g., 404)\n",
        "```python\n",
        "@app.errorhandler(404)\n",
        "def page_not_found(e):\n",
        "    return render_template('404.html'), 404\n",
        "```"
      ]
    },
    {
      "cell_type": "markdown",
      "id": "a5c51d2f",
      "metadata": {
        "id": "a5c51d2f"
      },
      "source": [
        "### How do you structure a Flask app using Blueprints\n",
        "Create separate Python modules and register them using `app.register_blueprint()` in the main app."
      ]
    },
    {
      "cell_type": "markdown",
      "id": "a71838c4",
      "metadata": {
        "id": "a71838c4"
      },
      "source": [
        "### How do you define a custom Jinja filter in Flask\n",
        "```python\n",
        "@app.template_filter('reverse')\n",
        "def reverse_filter(s):\n",
        "    return s[::-1]\n",
        "```"
      ]
    },
    {
      "cell_type": "markdown",
      "id": "9d6912e6",
      "metadata": {
        "id": "9d6912e6"
      },
      "source": [
        "### How can you redirect with query parameters in Flask\n",
        "```python\n",
        "redirect(url_for('search', q='flask'))\n",
        "```"
      ]
    },
    {
      "cell_type": "markdown",
      "id": "a34df5a7",
      "metadata": {
        "id": "a34df5a7"
      },
      "source": [
        "### How do you return JSON responses in Flask\n",
        "Use `jsonify()` to return dictionary or list in JSON format."
      ]
    },
    {
      "cell_type": "markdown",
      "id": "c15e77ec",
      "metadata": {
        "id": "c15e77ec"
      },
      "source": [
        "### How do you capture URL parameters in Flask?\n",
        "```python\n",
        "@app.route('/user/<username>')\n",
        "def show_user(username):\n",
        "    return f\"Hello, {username}\"\n",
        "```"
      ]
    }
  ],
  "metadata": {
    "colab": {
      "provenance": []
    }
  },
  "nbformat": 4,
  "nbformat_minor": 5
}