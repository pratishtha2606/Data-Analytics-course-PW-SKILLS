{
  "nbformat": 4,
  "nbformat_minor": 0,
  "metadata": {
    "colab": {
      "provenance": []
    },
    "kernelspec": {
      "name": "python3",
      "display_name": "Python 3"
    },
    "language_info": {
      "name": "python"
    }
  },
  "cells": [
    {
      "cell_type": "markdown",
      "source": [
        "# **Logistic Regression | Assignment**"
      ],
      "metadata": {
        "id": "Qp2NYW_Eab-h"
      }
    },
    {
      "cell_type": "markdown",
      "source": [
        "Question 1: What is Logistic Regression, and how does it differ from Linear Regression?\n",
        "\n",
        "Answer:\n",
        "\n",
        "Logistic Regression is a statistical and machine learning technique used for binary classification problems, where the output variable is categorical (e.g., 0 or 1, yes or no, true or false). It predicts the probability of an instance belonging to a particular class using the logistic (sigmoid) function.\n",
        "\n",
        "Differences from Linear Regression\n",
        "\n",
        "\n",
        "| Feature               | Logistic Regression                  | Linear Regression                      |\n",
        "| --------------------- | ------------------------------------ | -------------------------------------- |\n",
        "| Output                | Probability between 0 and 1          | Continuous value                       |\n",
        "| Function used         | Sigmoid (logistic) function          | Linear function                        |\n",
        "| Use case              | Classification                       | Regression                             |\n",
        "| Output Interpretation | Class membership (e.g., spam or not) | Numeric prediction (e.g., house price) |\n",
        "| Loss Function         | Log loss (cross-entropy)             | Mean Squared Error (MSE)               |\n"
      ],
      "metadata": {
        "id": "eciimnyDajxG"
      }
    },
    {
      "cell_type": "markdown",
      "source": [
        "Question 2: Explain the role of the Sigmoid function in Logistic Regression.\n",
        "\n",
        "Answer:\n",
        "\n",
        "The sigmoid function is central to logistic regression. It maps any real-valued number to a value between 0 and 1, which is interpreted as a probability.\n",
        "\n",
        "Formula:\n",
        "\n",
        "σ(z)= 1/\n",
        "1+e\n",
        "−z\n",
        "\n",
        "Where:\n",
        "\n",
        "z=w⋅x+b (linear combination of weights and features)\n",
        "\n",
        "Role:\n",
        "\n",
        "Converts linear output to probability.\n",
        "\n",
        "Helps in classification by setting a threshold (commonly 0.5) to classify into classes 0 or 1.\n",
        "\n",
        "\n"
      ],
      "metadata": {
        "id": "JABNqhhMat8p"
      }
    },
    {
      "cell_type": "markdown",
      "source": [
        "Question 3: What is Regularization in Logistic Regression and why is it needed?\n",
        "\n",
        "Answer:\n",
        "\n",
        "Regularization is a technique used to prevent overfitting by adding a penalty term to the loss function. It discourages the model from fitting the noise in the training data by shrinking large coefficients.\n",
        "\n",
        "Types in Logistic Regression:\n",
        "\n",
        "L1 Regularization (Lasso): Adds absolute values of coefficients.\n",
        "\n",
        "L2 Regularization (Ridge): Adds squared values of coefficients.\n",
        "\n",
        "\n",
        "Why Needed:\n",
        "\n",
        "Improves model generalization.\n",
        "\n",
        "Helps when data has many features.\n",
        "\n",
        "Reduces model complexity"
      ],
      "metadata": {
        "id": "o1Tkjs_ibEic"
      }
    },
    {
      "cell_type": "markdown",
      "source": [
        "Question 4: What are some common evaluation metrics for classification models, and why are they important?\n",
        "\n",
        "Answer:\n",
        "\n",
        "Key metrics include:\n",
        "\n",
        "| Metric                   | Definition                            | Importance                    |\n",
        "| ------------------------ | ------------------------------------- | ----------------------------- |\n",
        "| **Accuracy**             | (TP + TN) / Total                     | Good when data is balanced    |\n",
        "| **Precision**            | TP / (TP + FP)                        | Focuses on false positives    |\n",
        "| **Recall (Sensitivity)** | TP / (TP + FN)                        | Focuses on false negatives    |\n",
        "| **F1-Score**             | Harmonic mean of precision and recall | Balanced metric               |\n",
        "| **ROC-AUC**              | Area under ROC curve                  | Performance across thresholds |\n"
      ],
      "metadata": {
        "id": "-_pKHqygbTOa"
      }
    },
    {
      "cell_type": "markdown",
      "source": [
        "Question 5: Python program to load CSV, split data, train logistic model, and print accuracy"
      ],
      "metadata": {
        "id": "oRosF5vhba2z"
      }
    },
    {
      "cell_type": "code",
      "source": [
        "import pandas as pd\n",
        "from sklearn.model_selection import train_test_split\n",
        "from sklearn.linear_model import LogisticRegression\n",
        "from sklearn.datasets import load_breast_cancer\n",
        "from sklearn.metrics import accuracy_score\n",
        "\n",
        "# Load dataset\n",
        "data = load_breast_cancer()\n",
        "X = pd.DataFrame(data.data, columns=data.feature_names)\n",
        "y = pd.Series(data.target)\n",
        "\n",
        "# Split data\n",
        "X_train, X_test, y_train, y_test = train_test_split(X, y, test_size=0.2, random_state=42)\n",
        "\n",
        "# Train logistic regression\n",
        "model = LogisticRegression(max_iter=10000)\n",
        "model.fit(X_train, y_train)\n",
        "\n",
        "# Predict and evaluate\n",
        "y_pred = model.predict(X_test)\n",
        "accuracy = accuracy_score(y_test, y_pred)\n",
        "\n",
        "print(\"Accuracy:\", accuracy)\n"
      ],
      "metadata": {
        "colab": {
          "base_uri": "https://localhost:8080/"
        },
        "id": "vEDq6txCbcuY",
        "outputId": "41616bc8-7742-4987-ad2b-80ad99489939"
      },
      "execution_count": 1,
      "outputs": [
        {
          "output_type": "stream",
          "name": "stdout",
          "text": [
            "Accuracy: 0.956140350877193\n"
          ]
        }
      ]
    },
    {
      "cell_type": "markdown",
      "source": [
        "Question 6: Train Logistic Regression with L2 (Ridge) Regularization"
      ],
      "metadata": {
        "id": "kCOzyCW7bjrN"
      }
    },
    {
      "cell_type": "code",
      "source": [
        "from sklearn.linear_model import LogisticRegression\n",
        "\n",
        "model_l2 = LogisticRegression(penalty='l2', solver='lbfgs', max_iter=10000)\n",
        "model_l2.fit(X_train, y_train)\n",
        "\n",
        "print(\"Coefficients:\", model_l2.coef_)\n",
        "print(\"Accuracy:\", model_l2.score(X_test, y_test))\n"
      ],
      "metadata": {
        "colab": {
          "base_uri": "https://localhost:8080/"
        },
        "id": "QiQFdsfUbkQx",
        "outputId": "37ad162a-00b7-473e-c783-fd69208c794e"
      },
      "execution_count": 2,
      "outputs": [
        {
          "output_type": "stream",
          "name": "stdout",
          "text": [
            "Coefficients: [[ 1.0274368   0.22145051 -0.36213488  0.0254667  -0.15623532 -0.23771256\n",
            "  -0.53255786 -0.28369224 -0.22668189 -0.03649446 -0.09710208  1.3705667\n",
            "  -0.18140942 -0.08719575 -0.02245523  0.04736092 -0.04294784 -0.03240188\n",
            "  -0.03473732  0.01160522  0.11165329 -0.50887722 -0.01555395 -0.016857\n",
            "  -0.30773117 -0.77270908 -1.42859535 -0.51092923 -0.74689363 -0.10094404]]\n",
            "Accuracy: 0.956140350877193\n"
          ]
        }
      ]
    },
    {
      "cell_type": "markdown",
      "source": [
        "Question 7: Multiclass Classification with multi_class='ovr'"
      ],
      "metadata": {
        "id": "JKHNMlCBbnut"
      }
    },
    {
      "cell_type": "code",
      "source": [
        "from sklearn.datasets import load_iris\n",
        "from sklearn.metrics import classification_report\n",
        "\n",
        "# Load dataset\n",
        "iris = load_iris()\n",
        "X_iris = iris.data\n",
        "y_iris = iris.target\n",
        "\n",
        "# Train-test split\n",
        "X_train, X_test, y_train, y_test = train_test_split(X_iris, y_iris, test_size=0.2, random_state=42)\n",
        "\n",
        "# Train logistic regression\n",
        "model_multi = LogisticRegression(multi_class='ovr', solver='lbfgs', max_iter=1000)\n",
        "model_multi.fit(X_train, y_train)\n",
        "\n",
        "# Predict and report\n",
        "y_pred = model_multi.predict(X_test)\n",
        "print(classification_report(y_test, y_pred))\n"
      ],
      "metadata": {
        "colab": {
          "base_uri": "https://localhost:8080/"
        },
        "id": "Uf2nVWX-bomZ",
        "outputId": "3e874771-5d8f-4ad7-ff5f-772221307779"
      },
      "execution_count": 3,
      "outputs": [
        {
          "output_type": "stream",
          "name": "stdout",
          "text": [
            "              precision    recall  f1-score   support\n",
            "\n",
            "           0       1.00      1.00      1.00        10\n",
            "           1       1.00      0.89      0.94         9\n",
            "           2       0.92      1.00      0.96        11\n",
            "\n",
            "    accuracy                           0.97        30\n",
            "   macro avg       0.97      0.96      0.97        30\n",
            "weighted avg       0.97      0.97      0.97        30\n",
            "\n"
          ]
        },
        {
          "output_type": "stream",
          "name": "stderr",
          "text": [
            "/usr/local/lib/python3.11/dist-packages/sklearn/linear_model/_logistic.py:1256: FutureWarning: 'multi_class' was deprecated in version 1.5 and will be removed in 1.7. Use OneVsRestClassifier(LogisticRegression(..)) instead. Leave it to its default value to avoid this warning.\n",
            "  warnings.warn(\n"
          ]
        }
      ]
    },
    {
      "cell_type": "markdown",
      "source": [
        "Question 8: Apply GridSearchCV to tune C and penalty"
      ],
      "metadata": {
        "id": "L0NDKLPNbqmY"
      }
    },
    {
      "cell_type": "code",
      "source": [
        "from sklearn.model_selection import GridSearchCV\n",
        "\n",
        "param_grid = {\n",
        "    'C': [0.1, 1, 10],\n",
        "    'penalty': ['l1', 'l2'],\n",
        "    'solver': ['liblinear']  # liblinear supports both l1 and l2\n",
        "}\n",
        "\n",
        "grid = GridSearchCV(LogisticRegression(), param_grid, cv=5)\n",
        "grid.fit(X_train, y_train)\n",
        "\n",
        "print(\"Best Parameters:\", grid.best_params_)\n",
        "print(\"Validation Accuracy:\", grid.best_score_)\n"
      ],
      "metadata": {
        "colab": {
          "base_uri": "https://localhost:8080/"
        },
        "id": "TNTDyDSybsPV",
        "outputId": "ef3eba36-240a-4daf-ef60-2770e74a62a5"
      },
      "execution_count": 4,
      "outputs": [
        {
          "output_type": "stream",
          "name": "stdout",
          "text": [
            "Best Parameters: {'C': 10, 'penalty': 'l1', 'solver': 'liblinear'}\n",
            "Validation Accuracy: 0.9583333333333334\n"
          ]
        }
      ]
    },
    {
      "cell_type": "markdown",
      "source": [
        "Question 9: Standardize features and compare accuracy"
      ],
      "metadata": {
        "id": "_BTlvD9JbuYS"
      }
    },
    {
      "cell_type": "code",
      "source": [
        "from sklearn.preprocessing import StandardScaler\n",
        "\n",
        "# Without Scaling\n",
        "model_raw = LogisticRegression(max_iter=10000)\n",
        "model_raw.fit(X_train, y_train)\n",
        "acc_raw = model_raw.score(X_test, y_test)\n",
        "\n",
        "# With Scaling\n",
        "scaler = StandardScaler()\n",
        "X_train_scaled = scaler.fit_transform(X_train)\n",
        "X_test_scaled = scaler.transform(X_test)\n",
        "\n",
        "model_scaled = LogisticRegression(max_iter=10000)\n",
        "model_scaled.fit(X_train_scaled, y_train)\n",
        "acc_scaled = model_scaled.score(X_test_scaled, y_test)\n",
        "\n",
        "print(\"Accuracy without Scaling:\", acc_raw)\n",
        "print(\"Accuracy with Scaling:\", acc_scaled)\n"
      ],
      "metadata": {
        "colab": {
          "base_uri": "https://localhost:8080/"
        },
        "id": "x3iRA3iybvIx",
        "outputId": "c0565e04-eed9-46ae-ef1e-a9466542557c"
      },
      "execution_count": 5,
      "outputs": [
        {
          "output_type": "stream",
          "name": "stdout",
          "text": [
            "Accuracy without Scaling: 1.0\n",
            "Accuracy with Scaling: 1.0\n"
          ]
        }
      ]
    },
    {
      "cell_type": "markdown",
      "source": [
        "Question 10: Predicting marketing campaign response (imbalanced data)\n",
        "\n",
        "Answer:\n",
        "\n",
        "To handle an imbalanced dataset (e.g., 5% response rate), here’s the step-by-step approach:\n",
        "\n",
        "\n",
        "1- Data Handling:\n",
        "\n",
        "Analyze missing values, outliers, and perform imputation/cleaning.\n",
        "\n",
        "Encode categorical features (using OneHot or Label Encoding).\n",
        "\n",
        "2-Feature Scaling:\n",
        "\n",
        "Use StandardScaler or MinMaxScaler to normalize input features.\n",
        "\n",
        "3-Balancing Classes:\n",
        "\n",
        "Use SMOTE (Synthetic Minority Over-sampling Technique) to upsample minority class.\n",
        "\n",
        "Or use class_weight='balanced' in logistic regression.\n",
        "\n",
        "4-Model Training:\n",
        "\n",
        "Use logistic regression with regularization.\n",
        "\n",
        "Tune C and penalty using GridSearchCV.\n",
        "\n",
        "5-Evaluation:\n",
        "\n",
        "Use metrics like F1-score, Precision-Recall Curve, and AUC-ROC.\n",
        "\n",
        "Accuracy is not reliable here due to imbalance.\n",
        "\n",
        "6- Business Integration:\n",
        "\n",
        "Interpret model outputs as probabilities.\n",
        "\n",
        "Use threshold tuning to optimize profit/cost ratio.\n",
        "\n",
        "Consider feedback loops and update model periodically.\n"
      ],
      "metadata": {
        "id": "BgLhDBJbbzFR"
      }
    }
  ]
}