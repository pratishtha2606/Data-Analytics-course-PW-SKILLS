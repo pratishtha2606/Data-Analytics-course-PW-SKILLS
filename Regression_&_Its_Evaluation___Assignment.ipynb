{
  "nbformat": 4,
  "nbformat_minor": 0,
  "metadata": {
    "colab": {
      "provenance": []
    },
    "kernelspec": {
      "name": "python3",
      "display_name": "Python 3"
    },
    "language_info": {
      "name": "python"
    }
  },
  "cells": [
    {
      "cell_type": "markdown",
      "source": [
        "# **Regression & Its Evaluation | Assignment**"
      ],
      "metadata": {
        "id": "hs-QQRMGVoiO"
      }
    },
    {
      "cell_type": "markdown",
      "source": [
        "Question 1: What is Simple Linear Regression?\n",
        "\n",
        "Answer:\n",
        "\n",
        "Simple Linear Regression is a statistical method used in Machine Learning to model the relationship between two variables: one independent variable (input) and one dependent variable (output). The goal is to find the best-fitting straight line (called a regression line) that predicts the output variable based on the input.\n",
        "\n",
        "The equation of this line is:\n",
        "\n",
        "𝑌\n",
        "=\n",
        "𝑏\n",
        "0\n",
        "+\n",
        "𝑏\n",
        "1\n",
        "𝑋\n",
        "\n",
        "Where:\n",
        "\n",
        "\n",
        "Y is the predicted value (dependent variable),\n",
        "\n",
        "\n",
        "X is the input feature (independent variable),\n",
        "\n",
        "\n",
        "0\n",
        "b\n",
        "0\n",
        "​\n",
        "  is the intercept (value of Y when X = 0),\n",
        "\n",
        "\n",
        "1\n",
        "b\n",
        "1\n",
        "​\n",
        "  is the slope of the line (how much Y changes with a unit change in X).\n",
        "\n",
        "It is called \"simple\" because it uses only one independent variable. It's commonly used for tasks like predicting sales based on advertising spend or house price based on area."
      ],
      "metadata": {
        "id": "3JXFzE65V6FW"
      }
    },
    {
      "cell_type": "markdown",
      "source": [
        " Question 2: What are the key assumptions of Simple Linear Regression?\n",
        "\n",
        " Answer:\n",
        "\n",
        "Simple Linear Regression is a statistical method that relies on several core assumptions to ensure the accuracy and reliability of its predictions. If these assumptions are violated, the model's output may become biased or misleading.\n",
        "\n",
        "| Assumption             | Description                                                    | Importance                       |\n",
        "| ---------------------- | -------------------------------------------------------------- | -------------------------------- |\n",
        "| Linearity              | X and Y must have a linear relationship                        | Ensures correct model form       |\n",
        "| Independence of errors | Residuals must not influence each other                        | Prevents autocorrelation bias    |\n",
        "| Homoscedasticity       | Residuals should have constant variance                        | Validates consistent prediction  |\n",
        "| Normality of errors    | Residuals should follow a normal distribution                  | Enables valid hypothesis testing |\n",
        "| No multicollinearity   | Predictors should not be highly correlated (Not required here) | Only for multiple regression     |\n"
      ],
      "metadata": {
        "id": "UwyF6921WSOa"
      }
    },
    {
      "cell_type": "markdown",
      "source": [
        "Question 3: What is heteroscedasticity, and why is it important to address in regression models?\n",
        "\n",
        "Answer:\n",
        "\n",
        "Heteroscedasticity refers to a situation in regression analysis where the variance of the residuals (errors) is not constant across all levels of the independent variable(s). In simple terms, it means that the spread of errors varies depending on the value of X.\n",
        "\n",
        "Why is it important to address?\n",
        "\n",
        "Invalid Statistical Tests:\n",
        "\n",
        "Heteroscedasticity can lead to biased standard errors, which affects t-tests, F-tests, and confidence intervals.\n",
        "\n",
        "This means your p-values may be incorrect, leading to false conclusions about significance.\n",
        "\n",
        "Unreliable Predictions:\n",
        "\n",
        "The model might fit the average trend but perform poorly on individual predictions—especially in areas where error variance is high.\n",
        "\n",
        "Violated Assumptions:\n",
        "\n",
        "It breaks one of the key assumptions of linear regression, which requires homoscedastic residuals."
      ],
      "metadata": {
        "id": "P5Q4cwc-W5_9"
      }
    },
    {
      "cell_type": "markdown",
      "source": [
        "Question 4: What is Multiple Linear Regression?\n",
        "\n",
        "Answer:\n",
        "\n",
        "Multiple Linear Regression (MLR) is an extension of simple linear regression where the dependent variable is predicted using two or more independent variables. It helps us understand how multiple factors together influence the outcome.\n",
        "\n",
        "The general equation is:\n",
        "\n",
        "𝑌\n",
        "=\n",
        "𝑏\n",
        "0\n",
        "+\n",
        "𝑏\n",
        "1\n",
        "𝑋\n",
        "1\n",
        "+\n",
        "𝑏\n",
        "2\n",
        "𝑋\n",
        "2\n",
        "+\n",
        "…\n",
        "+\n",
        "𝑏\n",
        "𝑛\n",
        "𝑋\n",
        "𝑛\n",
        "+\n",
        "𝜀\n",
        "\n",
        "Where:\n",
        "\n",
        "𝑌\n",
        "Y: Dependent variable (what we want to predict)\n",
        "\n",
        "𝑋\n",
        "1\n",
        ",\n",
        "𝑋\n",
        "2\n",
        ",\n",
        ".\n",
        ".\n",
        ".\n",
        ",\n",
        "𝑋\n",
        "𝑛\n",
        "X\n",
        "1\n",
        "​\n",
        " ,X\n",
        "2\n",
        "​\n",
        " ,...,X\n",
        "n\n",
        "​\n",
        " : Independent variables (predictors)\n",
        "\n",
        "𝑏\n",
        "0\n",
        "b\n",
        "0\n",
        "​\n",
        " : Intercept (value of Y when all Xs are 0)\n",
        "\n",
        "𝑏\n",
        "1\n",
        ",\n",
        "𝑏\n",
        "2\n",
        ",\n",
        ".\n",
        ".\n",
        ".\n",
        ",\n",
        "𝑏\n",
        "𝑛\n",
        "b\n",
        "1\n",
        "​\n",
        " ,b\n",
        "2\n",
        "​\n",
        " ,...,b\n",
        "n\n",
        "​\n",
        " : Coefficients for each independent variable\n",
        "\n",
        "𝜀\n",
        "ε: Error term (difference between actual and predicted values)\n",
        "\n"
      ],
      "metadata": {
        "id": "jBIIP9FkXrqW"
      }
    },
    {
      "cell_type": "markdown",
      "source": [
        "Question 5: What is Polynomial Regression, and how does it differ from Linear Regression?\n",
        "\n",
        "Answer:\n",
        "\n",
        "Polynomial Regression is a type of regression where the relationship between the independent variable X and the dependent variable Y is modeled as an nth-degree polynomial:\n",
        "\n",
        "𝑌\n",
        "=\n",
        "𝛽\n",
        "0\n",
        "+\n",
        "𝛽\n",
        "1\n",
        "𝑋\n",
        "+\n",
        "𝛽\n",
        "2\n",
        "𝑋\n",
        "2\n",
        "+\n",
        ".\n",
        ".\n",
        ".\n",
        "+\n",
        "𝛽\n",
        "𝑛\n",
        "𝑋\n",
        "𝑛\n",
        "+\n",
        "𝜀\n",
        "\n",
        "Differences from Linear Regression:\n",
        "\n",
        "Linear Regression: Fits a straight line\n",
        "\n",
        "Polynomial Regression: Fits a curved line\n",
        "\n",
        "Polynomial regression can capture non-linear patterns in the data."
      ],
      "metadata": {
        "id": "DFw74NNl4fg-"
      }
    },
    {
      "cell_type": "markdown",
      "source": [
        "Question 6: Implement a Simple Linear Regression in Python"
      ],
      "metadata": {
        "id": "o3lWJTLl4q7V"
      }
    },
    {
      "cell_type": "code",
      "source": [
        "import matplotlib.pyplot as plt\n",
        "from sklearn.linear_model import LinearRegression\n",
        "import numpy as np\n",
        "\n",
        "# Data\n",
        "X = np.array([1, 2, 3, 4, 5]).reshape(-1, 1)\n",
        "Y = np.array([2.1, 4.3, 6.1, 7.9, 10.2])\n",
        "\n",
        "# Model\n",
        "model = LinearRegression()\n",
        "model.fit(X, Y)\n",
        "\n",
        "# Prediction\n",
        "Y_pred = model.predict(X)\n",
        "\n",
        "# Plot\n",
        "plt.scatter(X, Y, color='blue', label='Data')\n",
        "plt.plot(X, Y_pred, color='red', label='Regression Line')\n",
        "plt.xlabel(\"X\")\n",
        "plt.ylabel(\"Y\")\n",
        "plt.title(\"Simple Linear Regression\")\n",
        "plt.legend()\n",
        "plt.grid()\n",
        "plt.show()\n"
      ],
      "metadata": {
        "colab": {
          "base_uri": "https://localhost:8080/",
          "height": 472
        },
        "id": "-gPH7OCX4t_d",
        "outputId": "e34bf4e2-eef2-4ca0-d477-1f3ac59dc909"
      },
      "execution_count": 1,
      "outputs": [
        {
          "output_type": "display_data",
          "data": {
            "text/plain": [
              "<Figure size 640x480 with 1 Axes>"
            ],
            "image/png": "[encoded data removed]"
          },
          "metadata": {}
        }
      ]
    },
    {
      "cell_type": "markdown",
      "source": [
        "Question 7: Multiple Linear Regression with VIF Check"
      ],
      "metadata": {
        "id": "4YAfigC740EF"
      }
    },
    {
      "cell_type": "code",
      "source": [
        "import pandas as pd\n",
        "import statsmodels.api as sm\n",
        "from statsmodels.stats.outliers_influence import variance_inflation_factor\n",
        "\n",
        "# Data\n",
        "data = pd.DataFrame({\n",
        "    'Area': [1200, 1500, 1800, 2000],\n",
        "    'Rooms': [2, 3, 3, 4],\n",
        "    'Price': [250000, 300000, 320000, 370000]\n",
        "})\n",
        "\n",
        "X = data[['Area', 'Rooms']]\n",
        "y = data['Price']\n",
        "\n",
        "# Add constant\n",
        "X_const = sm.add_constant(X)\n",
        "\n",
        "# Model\n",
        "model = sm.OLS(y, X_const).fit()\n",
        "print(model.summary())\n",
        "\n",
        "# VIF\n",
        "vif_data = pd.DataFrame()\n",
        "vif_data['feature'] = X.columns\n",
        "vif_data['VIF'] = [variance_inflation_factor(X.values, i) for i in range(X.shape[1])]\n",
        "print(vif_data)\n"
      ],
      "metadata": {
        "colab": {
          "base_uri": "https://localhost:8080/"
        },
        "id": "rFXAQBzs43T-",
        "outputId": "a89a0d37-2214-4ec5-f2bf-6ce92d418108"
      },
      "execution_count": 2,
      "outputs": [
        {
          "output_type": "stream",
          "name": "stdout",
          "text": [
            "                            OLS Regression Results                            \n",
            "==============================================================================\n",
            "Dep. Variable:                  Price   R-squared:                       0.999\n",
            "Model:                            OLS   Adj. R-squared:                  0.996\n",
            "Method:                 Least Squares   F-statistic:                     351.0\n",
            "Date:                Sat, 26 Jul 2025   Prob (F-statistic):             0.0377\n",
            "Time:                        13:19:44   Log-Likelihood:                -35.242\n",
            "No. Observations:                   4   AIC:                             76.48\n",
            "Df Residuals:                       1   BIC:                             74.64\n",
            "Df Model:                           2                                         \n",
            "Covariance Type:            nonrobust                                         \n",
            "==============================================================================\n",
            "                 coef    std err          t      P>|t|      [0.025      0.975]\n",
            "------------------------------------------------------------------------------\n",
            "const       1.032e+05   9488.293     10.872      0.058   -1.74e+04    2.24e+05\n",
            "Area          63.1579     14.886      4.243      0.147    -125.992     252.308\n",
            "Rooms       3.474e+04   6381.240      5.444      0.116   -4.63e+04    1.16e+05\n",
            "==============================================================================\n",
            "Omnibus:                          nan   Durbin-Watson:                   2.053\n",
            "Prob(Omnibus):                    nan   Jarque-Bera (JB):                0.554\n",
            "Skew:                          -0.154   Prob(JB):                        0.758\n",
            "Kurtosis:                       1.202   Cond. No.                     1.01e+04\n",
            "==============================================================================\n",
            "\n",
            "Notes:\n",
            "[1] Standard Errors assume that the covariance matrix of the errors is correctly specified.\n",
            "[2] The condition number is large, 1.01e+04. This might indicate that there are\n",
            "strong multicollinearity or other numerical problems.\n",
            "  feature         VIF\n",
            "0    Area  127.796923\n",
            "1   Rooms  127.796923\n"
          ]
        },
        {
          "output_type": "stream",
          "name": "stderr",
          "text": [
            "/usr/local/lib/python3.11/dist-packages/statsmodels/stats/stattools.py:74: ValueWarning: omni_normtest is not valid with less than 8 observations; 4 samples were given.\n",
            "  warn(\"omni_normtest is not valid with less than 8 observations; %i \"\n"
          ]
        }
      ]
    },
    {
      "cell_type": "markdown",
      "source": [
        " Question 8: Polynomial Regression (2nd Degree)"
      ],
      "metadata": {
        "id": "CNwm4hnn4_fF"
      }
    },
    {
      "cell_type": "code",
      "source": [
        "from sklearn.preprocessing import PolynomialFeatures\n",
        "from sklearn.linear_model import LinearRegression\n",
        "import numpy as np\n",
        "import matplotlib.pyplot as plt\n",
        "\n",
        "# Data\n",
        "X = np.array([1, 2, 3, 4, 5]).reshape(-1, 1)\n",
        "Y = np.array([2.2, 4.8, 7.5, 11.2, 14.7])\n",
        "\n",
        "# Polynomial transformation\n",
        "poly = PolynomialFeatures(degree=2)\n",
        "X_poly = poly.fit_transform(X)\n",
        "\n",
        "# Model\n",
        "model = LinearRegression()\n",
        "model.fit(X_poly, Y)\n",
        "Y_pred = model.predict(X_poly)\n",
        "\n",
        "# Plot\n",
        "plt.scatter(X, Y, color='blue')\n",
        "plt.plot(X, Y_pred, color='red')\n",
        "plt.title(\"Polynomial Regression (Degree 2)\")\n",
        "plt.xlabel(\"X\")\n",
        "plt.ylabel(\"Y\")\n",
        "plt.grid()\n",
        "plt.show()\n"
      ],
      "metadata": {
        "colab": {
          "base_uri": "https://localhost:8080/",
          "height": 472
        },
        "id": "8CpXSlnV5CEQ",
        "outputId": "ecbc17d4-eb56-4af5-b150-e09a0d00ed96"
      },
      "execution_count": 3,
      "outputs": [
        {
          "output_type": "display_data",
          "data": {
            "text/plain": [
              "<Figure size 640x480 with 1 Axes>"
            ],
            "image/png": "[encoded data removed]"
          },
          "metadata": {}
        }
      ]
    },
    {
      "cell_type": "markdown",
      "source": [
        "Question 9: Residuals Plot and Heteroscedasticity"
      ],
      "metadata": {
        "id": "481l2ma95Etd"
      }
    },
    {
      "cell_type": "code",
      "source": [
        "import matplotlib.pyplot as plt\n",
        "from sklearn.linear_model import LinearRegression\n",
        "import numpy as np\n",
        "\n",
        "# Data\n",
        "X = np.array([10, 20, 30, 40, 50]).reshape(-1, 1)\n",
        "Y = np.array([15, 35, 40, 50, 65])\n",
        "\n",
        "# Model\n",
        "model = LinearRegression()\n",
        "model.fit(X, Y)\n",
        "Y_pred = model.predict(X)\n",
        "\n",
        "# Residuals\n",
        "residuals = Y - Y_pred\n",
        "\n",
        "# Plot\n",
        "plt.scatter(X, residuals)\n",
        "plt.axhline(y=0, color='red', linestyle='--')\n",
        "plt.title(\"Residuals Plot\")\n",
        "plt.xlabel(\"X\")\n",
        "plt.ylabel(\"Residuals\")\n",
        "plt.grid()\n",
        "plt.show()\n"
      ],
      "metadata": {
        "colab": {
          "base_uri": "https://localhost:8080/",
          "height": 472
        },
        "id": "J7ALuGav5HHd",
        "outputId": "7d8b9ac0-29a1-47be-a51b-03d989c4e4c3"
      },
      "execution_count": 4,
      "outputs": [
        {
          "output_type": "display_data",
          "data": {
            "text/plain": [
              "<Figure size 640x480 with 1 Axes>"
            ],
            "image/png": "[encoded data removed]"
          },
          "metadata": {}
        }
      ]
    },
    {
      "cell_type": "markdown",
      "source": [
        "Question 10: Real Estate Model – Fixing Heteroscedasticity & Multicollinearity\n",
        "\n",
        "\n",
        "Answer:\n",
        "\n",
        "To fix heteroscedasticity:\n",
        "\n",
        "    Log transformation of dependent or independent variables\n",
        "\n",
        "    Use Weighted Least Squares regression\n",
        "\n",
        "    Apply Robust Standard Errors\n",
        "\n",
        "To fix multicollinearity:\n",
        "\n",
        "    Calculate VIF and drop variables with high multicollinearity\n",
        "\n",
        "    Use Principal Component Analysis (PCA)\n",
        "\n",
        "    Combine correlated features into a single one\n",
        "\n",
        "General steps:\n",
        "\n",
        "    EDA to visualize relationships\n",
        "\n",
        "    Correlation matrix to detect multicollinearity\n",
        "\n",
        "    Residual plots to check heteroscedasticity\n",
        "\n",
        "    Try ridge/lasso regression if issues persist"
      ],
      "metadata": {
        "id": "UD2i6_UV5JaN"
      }
    }
  ]
}