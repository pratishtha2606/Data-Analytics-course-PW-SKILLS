{
  "nbformat": 4,
  "nbformat_minor": 0,
  "metadata": {
    "colab": {
      "provenance": []
    },
    "kernelspec": {
      "name": "python3",
      "display_name": "Python 3"
    },
    "language_info": {
      "name": "python"
    }
  },
  "cells": [
    {
      "cell_type": "markdown",
      "source": [
        "# Theory Questions"
      ],
      "metadata": {
        "id": "oUZAWefIPBLK"
      }
    },
    {
      "cell_type": "markdown",
      "source": [
        "1. What is the difference between interpreted and compiled languages?\n",
        "\n",
        "  Ans: Interpreted languages (like Python) execute code line by line, while compiled languages (like C++) translate the whole code to machine language before execution.\n",
        "\n"
      ],
      "metadata": {
        "id": "mxInyo7dL48N"
      }
    },
    {
      "cell_type": "markdown",
      "source": [
        "2. What is exception handling in Python?\n",
        "\n",
        "   Ans: Exception handling allows us to manage runtime errors using try, except, else, and finally blocks to prevent crashes."
      ],
      "metadata": {
        "id": "ewJ9g4dtL_ub"
      }
    },
    {
      "cell_type": "markdown",
      "source": [
        "3. What is the purpose of the finally block in exception handling?\n",
        "\n",
        "   Ans: finally block runs no matter what—whether an exception occurred or not. It's used for cleanup actions like closing files.\n",
        "\n"
      ],
      "metadata": {
        "id": "sv2D6MMaMFX1"
      }
    },
    {
      "cell_type": "markdown",
      "source": [
        "4. What is logging in Python?\n",
        "\n",
        "  Ans: Logging is a way to track events that happen when some software runs. It helps in debugging and understanding program flow.\n",
        "\n"
      ],
      "metadata": {
        "id": "Hs6iP376MJku"
      }
    },
    {
      "cell_type": "markdown",
      "source": [
        "5. What is the significance of the __del__ method in Python?\n",
        "\n",
        "Ans: __del__ is a destructor method that gets called automatically when an object is deleted or garbage collected."
      ],
      "metadata": {
        "id": "7CqTXGVxMOmn"
      }
    },
    {
      "cell_type": "markdown",
      "source": [
        "6. What is the difference between import and from ... import in Python?\n",
        "\n",
        "Ans:\n",
        "\n",
        "import module: Imports the whole module.\n",
        "\n",
        "from module import function: Imports specific functions or classes."
      ],
      "metadata": {
        "id": "5TikiMDlMRnH"
      }
    },
    {
      "cell_type": "markdown",
      "source": [
        "7. How can you handle multiple exceptions in Python?\n",
        "\n",
        "Ans: Use multiple except blocks or a single block with tuple of exceptions:"
      ],
      "metadata": {
        "id": "YoGuvIrkMWk0"
      }
    },
    {
      "cell_type": "code",
      "source": [
        "try:\n",
        "    # code\n",
        "except (TypeError, ValueError):\n",
        "    # handle both\n"
      ],
      "metadata": {
        "colab": {
          "base_uri": "https://localhost:8080/",
          "height": 106
        },
        "id": "KPxEIHErMay2",
        "outputId": "adfc261b-1840-4f4a-8215-3cfb98cc266d"
      },
      "execution_count": 1,
      "outputs": [
        {
          "output_type": "error",
          "ename": "IndentationError",
          "evalue": "expected an indented block after 'try' statement on line 1 (<ipython-input-1-e0f3afa5dd2e>, line 3)",
          "traceback": [
            "\u001b[0;36m  File \u001b[0;32m\"<ipython-input-1-e0f3afa5dd2e>\"\u001b[0;36m, line \u001b[0;32m3\u001b[0m\n\u001b[0;31m    except (TypeError, ValueError):\u001b[0m\n\u001b[0m    ^\u001b[0m\n\u001b[0;31mIndentationError\u001b[0m\u001b[0;31m:\u001b[0m expected an indented block after 'try' statement on line 1\n"
          ]
        }
      ]
    },
    {
      "cell_type": "markdown",
      "source": [
        "8. What is the purpose of the with statement when handling files in Python?\n",
        "\n",
        "Ans: It automatically handles opening and closing of files, even if exceptions occur."
      ],
      "metadata": {
        "id": "Nxp8Vm0bMfQJ"
      }
    },
    {
      "cell_type": "markdown",
      "source": [
        "9. What is the difference between multithreading and multiprocessing?\n",
        "\n",
        "Ans:\n",
        "\n",
        "Multithreading: Multiple threads in a single process (shared memory).\n",
        "\n",
        "Multiprocessing: Separate processes (independent memory) — better for CPU-bound tasks.\n",
        "\n"
      ],
      "metadata": {
        "id": "y7k6VQKBMg_M"
      }
    },
    {
      "cell_type": "markdown",
      "source": [
        "10. What are the advantages of using logging in a program?\n",
        "\n",
        "Ans:\n",
        "\n",
        "Helps in debugging\n",
        "\n",
        "Keeps record of errors\n",
        "\n",
        "Customizable output\n",
        "\n",
        "Better than print statements\n",
        "\n"
      ],
      "metadata": {
        "id": "rjX2NK1RMk8N"
      }
    },
    {
      "cell_type": "markdown",
      "source": [
        "11. What is memory management in Python?\n",
        "\n",
        "Ans: Memory management in Python is handled automatically using reference counting and garbage collection. It allocates and deallocates memory dynamically."
      ],
      "metadata": {
        "id": "n9BckCOPMn9f"
      }
    },
    {
      "cell_type": "markdown",
      "source": [
        "12. What are the basic steps involved in exception handling in Python?\n",
        "\n",
        "Ans:\n",
        "\n",
        "Write risky code inside try block\n",
        "\n",
        "Catch error using except block\n",
        "\n",
        "(Optional) Use else for successful execution\n",
        "\n",
        "(Optional) Use finally for cleanup tasks"
      ],
      "metadata": {
        "id": "Dj7ng2zOMq1I"
      }
    },
    {
      "cell_type": "markdown",
      "source": [
        "13. Why is memory management important in Python?\n",
        "\n",
        "Ans: It prevents memory leaks, ensures efficient use of resources, and keeps the program fast and stable.\n",
        "\n"
      ],
      "metadata": {
        "id": "Pqpmh2cNMvGc"
      }
    },
    {
      "cell_type": "markdown",
      "source": [
        "14. What is the role of try and except in exception handling?\n",
        "\n",
        "Ans:\n",
        "\n",
        "try: Wraps the code that may cause an error\n",
        "\n",
        "except: Handles the error to prevent program crash"
      ],
      "metadata": {
        "id": "o9ha6qR_MyGb"
      }
    },
    {
      "cell_type": "markdown",
      "source": [
        "15. How does Python's garbage collection system work?\n",
        "\n",
        "Ans: Python uses reference counting and a cyclic garbage collector to automatically clean up unused objects in memory.\n",
        "\n"
      ],
      "metadata": {
        "id": "ne68FasKM14i"
      }
    },
    {
      "cell_type": "markdown",
      "source": [
        "16. What is the purpose of the else block in exception handling?\n",
        "\n",
        "Ans: The else block runs if no exception occurs in the try block. It is useful for code that should run only if everything goes well.\n",
        "\n"
      ],
      "metadata": {
        "id": "DXbtqzkkM6Su"
      }
    },
    {
      "cell_type": "markdown",
      "source": [
        "17. What are the common logging levels in Python?\n",
        "\n",
        "Ans:\n",
        "\n",
        "DEBUG\n",
        "\n",
        "INFO\n",
        "\n",
        "WARNING\n",
        "\n",
        "ERROR\n",
        "\n",
        "CRITICAL\n"
      ],
      "metadata": {
        "id": "OAzV3uA0M9Cq"
      }
    },
    {
      "cell_type": "markdown",
      "source": [
        "18. What is the difference between os.fork() and multiprocessing in Python?\n",
        "\n",
        "Ans:\n",
        "\n",
        "os.fork() works only on Unix/Linux; it creates a child process.\n",
        "\n",
        "multiprocessing is cross-platform and provides better control over parallel processes."
      ],
      "metadata": {
        "id": "CPjfOllHNGlX"
      }
    },
    {
      "cell_type": "markdown",
      "source": [
        "19. What is the importance of closing a file in Python?\n",
        "\n",
        "Ans: Closing a file releases system resources, saves data properly, and avoids file corruption."
      ],
      "metadata": {
        "id": "o7_pJDynNK2i"
      }
    },
    {
      "cell_type": "markdown",
      "source": [
        "20. What is the difference between file.read() and file.readline() in Python?\n",
        "\n",
        "Ans:\n",
        "\n",
        "file.read(): Reads the entire file as a single string\n",
        "\n",
        "file.readline(): Reads one line at a time"
      ],
      "metadata": {
        "id": "q5ztQFqFNOD1"
      }
    },
    {
      "cell_type": "markdown",
      "source": [
        "21. What is the logging module in Python used for?\n",
        "\n",
        "Ans: It is used to record log messages from a program at different severity levels (INFO, WARNING, ERROR, etc.) for debugging and monitoring.\n",
        "\n"
      ],
      "metadata": {
        "id": "lk5hfaSBNRg7"
      }
    },
    {
      "cell_type": "markdown",
      "source": [
        "22. What is the os module in Python used for in file handling?\n",
        "\n",
        "Ans: The os module helps in interacting with the operating system—like creating, deleting, renaming files/folders, checking file existence, and getting directory paths.\n",
        "\n"
      ],
      "metadata": {
        "id": "29D9uvAANU67"
      }
    },
    {
      "cell_type": "markdown",
      "source": [
        "23. What are the challenges associated with memory management in Python?\n",
        "\n",
        "Ans:\n",
        "\n",
        "Managing circular references\n",
        "\n",
        "Memory leaks in long-running apps\n",
        "\n",
        "High memory usage with large objects\n",
        "\n",
        "Delayed garbage collection\n",
        "\n"
      ],
      "metadata": {
        "id": "v4bipVL2NZ88"
      }
    },
    {
      "cell_type": "markdown",
      "source": [
        "24. How do you raise an exception manually in Python?\n",
        "\n",
        "Ans: Use the raise keyword:"
      ],
      "metadata": {
        "id": "OiN4A7fLNbjo"
      }
    },
    {
      "cell_type": "markdown",
      "source": [
        "raise ValueError(\"Invalid input\")\n"
      ],
      "metadata": {
        "id": "b2QnhSBoNen3"
      }
    },
    {
      "cell_type": "markdown",
      "source": [
        "25. Why is it important to use multithreading in certain applications?\n",
        "\n",
        "Ans:\n",
        "\n",
        "Useful for I/O-bound tasks (like file/network access)\n",
        "\n",
        "Improves app responsiveness\n",
        "\n",
        "Utilizes waiting time efficiently"
      ],
      "metadata": {
        "id": "qThGBh0mNhCZ"
      }
    },
    {
      "cell_type": "markdown",
      "source": [
        "# Practical **Questions**"
      ],
      "metadata": {
        "id": "jA6e2jL2Nj5I"
      }
    },
    {
      "cell_type": "markdown",
      "source": [
        "26. How can you open a file for writing in Python and write a string to it?\n",
        "\n",
        "Ans:"
      ],
      "metadata": {
        "id": "OP2-9Zl5NtVq"
      }
    },
    {
      "cell_type": "code",
      "source": [
        "with open(\"file.txt\", \"w\") as f:\n",
        "    f.write(\"Hello, World!\")\n"
      ],
      "metadata": {
        "id": "Lt7N-xmENyC3"
      },
      "execution_count": 2,
      "outputs": []
    },
    {
      "cell_type": "markdown",
      "source": [
        "27. Write a Python program to read the contents of a file and print each line"
      ],
      "metadata": {
        "id": "hfjgrz98Nzq-"
      }
    },
    {
      "cell_type": "code",
      "source": [
        "with open(\"file.txt\", \"r\") as f:\n",
        "    for line in f:\n",
        "        print(line.strip())\n"
      ],
      "metadata": {
        "colab": {
          "base_uri": "https://localhost:8080/"
        },
        "id": "uIQf3csnN2AA",
        "outputId": "fa54d500-232f-40d5-f98f-539c882723f8"
      },
      "execution_count": 3,
      "outputs": [
        {
          "output_type": "stream",
          "name": "stdout",
          "text": [
            "Hello, World!\n"
          ]
        }
      ]
    },
    {
      "cell_type": "markdown",
      "source": [
        "28. How would you handle a case where the file doesn't exist while trying to open it for reading?"
      ],
      "metadata": {
        "id": "DkULG87ON4t3"
      }
    },
    {
      "cell_type": "code",
      "source": [
        "try:\n",
        "    with open(\"file.txt\", \"r\") as f:\n",
        "        print(f.read())\n",
        "except FileNotFoundError:\n",
        "    print(\"File not found.\")\n"
      ],
      "metadata": {
        "colab": {
          "base_uri": "https://localhost:8080/"
        },
        "id": "p38_MNhdN5W0",
        "outputId": "c23050c5-a84e-46a3-a3a4-7abdec9562cd"
      },
      "execution_count": 4,
      "outputs": [
        {
          "output_type": "stream",
          "name": "stdout",
          "text": [
            "Hello, World!\n"
          ]
        }
      ]
    },
    {
      "cell_type": "markdown",
      "source": [
        "29. Write a Python script that reads from one file and writes its content to another file"
      ],
      "metadata": {
        "id": "aB75w0qlN73Z"
      }
    },
    {
      "cell_type": "code",
      "source": [
        "try:\n",
        "    with open(\"source.txt\", \"r\", encoding=\"utf-8\") as src:\n",
        "        content = src.read()\n",
        "\n",
        "    with open(\"dest.txt\", \"w\", encoding=\"utf-8\") as dest:\n",
        "        dest.write(content)\n",
        "\n",
        "    print(\"File copied successfully.\")\n",
        "except FileNotFoundError:\n",
        "    print(\"source.txt file not found.\")\n",
        "except Exception as e:\n",
        "    print(f\"An error occurred: {e}\")\n"
      ],
      "metadata": {
        "colab": {
          "base_uri": "https://localhost:8080/"
        },
        "id": "Dic88BEPN8qO",
        "outputId": "8c2d3e14-8120-42ff-ee45-697edd5606fd"
      },
      "execution_count": 8,
      "outputs": [
        {
          "output_type": "stream",
          "name": "stdout",
          "text": [
            "source.txt file not found.\n"
          ]
        }
      ]
    },
    {
      "cell_type": "markdown",
      "source": [
        "30. How would you catch and handle division by zero error in Python?"
      ],
      "metadata": {
        "id": "hslp1ZA8OTZU"
      }
    },
    {
      "cell_type": "code",
      "source": [
        "try:\n",
        "    result = 10 / 0\n",
        "except ZeroDivisionError:\n",
        "    print(\"Cannot divide by zero.\")\n"
      ],
      "metadata": {
        "colab": {
          "base_uri": "https://localhost:8080/"
        },
        "id": "z0EIMANZOT4f",
        "outputId": "0f0d6a68-be2f-420c-a502-18371d8e5041"
      },
      "execution_count": 9,
      "outputs": [
        {
          "output_type": "stream",
          "name": "stdout",
          "text": [
            "Cannot divide by zero.\n"
          ]
        }
      ]
    },
    {
      "cell_type": "markdown",
      "source": [
        "31. Write a Python program that logs an error message to a log file when a division by zero exception occurs"
      ],
      "metadata": {
        "id": "Eb4Ho3FmOW54"
      }
    },
    {
      "cell_type": "code",
      "source": [
        "import logging\n",
        "\n",
        "logging.basicConfig(filename='error.log', level=logging.ERROR)\n",
        "\n",
        "try:\n",
        "    result = 10 / 0\n",
        "except ZeroDivisionError as e:\n",
        "    logging.error(f\"Division by zero error: {e}\")\n"
      ],
      "metadata": {
        "colab": {
          "base_uri": "https://localhost:8080/"
        },
        "id": "Jvl-Do_6OX8x",
        "outputId": "6695477a-176c-4836-d86e-69d749013ff1"
      },
      "execution_count": 10,
      "outputs": [
        {
          "output_type": "stream",
          "name": "stderr",
          "text": [
            "ERROR:root:Division by zero error: division by zero\n"
          ]
        }
      ]
    },
    {
      "cell_type": "markdown",
      "source": [
        "\n",
        "32. How do you log information at different levels (INFO, ERROR, WARNING) in Python using the logging module?"
      ],
      "metadata": {
        "id": "-TkagNFBObcx"
      }
    },
    {
      "cell_type": "code",
      "source": [
        "import logging\n",
        "\n",
        "logging.basicConfig(level=logging.DEBUG)\n",
        "\n",
        "logging.info(\"This is an info message.\")\n",
        "logging.warning(\"This is a warning.\")\n",
        "logging.error(\"This is an error.\")\n"
      ],
      "metadata": {
        "colab": {
          "base_uri": "https://localhost:8080/"
        },
        "id": "GoHIJPWNOcBW",
        "outputId": "5d49cfde-fb49-42e5-92ef-5bc0fea53fba"
      },
      "execution_count": 11,
      "outputs": [
        {
          "output_type": "stream",
          "name": "stderr",
          "text": [
            "WARNING:root:This is a warning.\n",
            "ERROR:root:This is an error.\n"
          ]
        }
      ]
    },
    {
      "cell_type": "markdown",
      "source": [
        "33. Write a program to handle a file opening error using exception handling"
      ],
      "metadata": {
        "id": "wizJC8CjOdyU"
      }
    },
    {
      "cell_type": "code",
      "source": [
        "try:\n",
        "    with open(\"nofile.txt\", \"r\") as f:\n",
        "        data = f.read()\n",
        "except FileNotFoundError:\n",
        "    print(\"File not found.\")\n"
      ],
      "metadata": {
        "colab": {
          "base_uri": "https://localhost:8080/"
        },
        "id": "DQ_igDyaOf1P",
        "outputId": "0af51282-1e28-4b5b-e151-0c45fc1cbad5"
      },
      "execution_count": 12,
      "outputs": [
        {
          "output_type": "stream",
          "name": "stdout",
          "text": [
            "File not found.\n"
          ]
        }
      ]
    },
    {
      "cell_type": "markdown",
      "source": [
        "34. How can you read a file line by line and store its content in a list in Python?"
      ],
      "metadata": {
        "id": "pY9LcShJOjiR"
      }
    },
    {
      "cell_type": "code",
      "source": [
        "with open(\"file.txt\", \"r\") as f:\n",
        "    lines = f.readlines()\n",
        "\n",
        "print(lines)\n"
      ],
      "metadata": {
        "colab": {
          "base_uri": "https://localhost:8080/"
        },
        "id": "Rexrr3SqOkS1",
        "outputId": "fb560762-6bc4-4b0a-8080-212fad5111b8"
      },
      "execution_count": 13,
      "outputs": [
        {
          "output_type": "stream",
          "name": "stdout",
          "text": [
            "['Hello, World!']\n"
          ]
        }
      ]
    },
    {
      "cell_type": "markdown",
      "source": [
        "35. How can you append data to an existing file in Python?"
      ],
      "metadata": {
        "id": "fLB-A2yNOmj7"
      }
    },
    {
      "cell_type": "code",
      "source": [
        "with open(\"file.txt\", \"a\") as f:\n",
        "    f.write(\"\\nNew line added.\")\n"
      ],
      "metadata": {
        "id": "ONjIPZfqOnIY"
      },
      "execution_count": 14,
      "outputs": []
    },
    {
      "cell_type": "markdown",
      "source": [
        "36. Write a Python program that uses a try-except block to handle an error when attempting to access a dictionary key that doesn't exist\n"
      ],
      "metadata": {
        "id": "F0rXDemOOpaR"
      }
    },
    {
      "cell_type": "code",
      "source": [
        "data = {\"name\": \"Ram\"}\n",
        "\n",
        "try:\n",
        "    print(data[\"age\"])\n",
        "except KeyError:\n",
        "    print(\"Key 'age' not found in dictionary.\")\n"
      ],
      "metadata": {
        "colab": {
          "base_uri": "https://localhost:8080/"
        },
        "id": "JE790bitOsme",
        "outputId": "3148d128-f479-4627-a339-7f66f288de31"
      },
      "execution_count": 15,
      "outputs": [
        {
          "output_type": "stream",
          "name": "stdout",
          "text": [
            "Key 'age' not found in dictionary.\n"
          ]
        }
      ]
    },
    {
      "cell_type": "markdown",
      "source": [
        "37. Write a program that demonstrates using multiple except blocks to handle different types of exceptions"
      ],
      "metadata": {
        "id": "qkvBoE1AOvZ-"
      }
    },
    {
      "cell_type": "code",
      "source": [
        "try:\n",
        "    x = int(\"abc\")  # ValueError\n",
        "    y = 10 / 0      # ZeroDivisionError\n",
        "except ValueError:\n",
        "    print(\"Invalid conversion to integer.\")\n",
        "except ZeroDivisionError:\n",
        "    print(\"Division by zero is not allowed.\")\n"
      ],
      "metadata": {
        "colab": {
          "base_uri": "https://localhost:8080/"
        },
        "id": "8pPFhexgOwID",
        "outputId": "fba65610-42fb-42ba-bbba-19d28a80e7e7"
      },
      "execution_count": 16,
      "outputs": [
        {
          "output_type": "stream",
          "name": "stdout",
          "text": [
            "Invalid conversion to integer.\n"
          ]
        }
      ]
    },
    {
      "cell_type": "markdown",
      "source": [
        "38. How would you check if a file exists before attempting to read it in Python?"
      ],
      "metadata": {
        "id": "F_qv76YrOygb"
      }
    },
    {
      "cell_type": "code",
      "source": [
        "import os\n",
        "\n",
        "if os.path.exists(\"file.txt\"):\n",
        "    with open(\"file.txt\", \"r\") as f:\n",
        "        print(f.read())\n",
        "else:\n",
        "    print(\"File does not exist.\")\n"
      ],
      "metadata": {
        "colab": {
          "base_uri": "https://localhost:8080/"
        },
        "id": "W4mhssc0OzFi",
        "outputId": "99a3f0e8-ea64-436d-af9f-ee4ffe14a37b"
      },
      "execution_count": 17,
      "outputs": [
        {
          "output_type": "stream",
          "name": "stdout",
          "text": [
            "Hello, World!\n",
            "New line added.\n"
          ]
        }
      ]
    },
    {
      "cell_type": "markdown",
      "source": [
        "39. Write a program that uses the logging module to log both informational and error messages"
      ],
      "metadata": {
        "id": "K5DVGGPIO1xl"
      }
    },
    {
      "cell_type": "code",
      "source": [
        "import logging\n",
        "\n",
        "logging.basicConfig(filename='app.log', level=logging.INFO)\n",
        "\n",
        "logging.info(\"Program started.\")\n",
        "try:\n",
        "    x = 10 / 0\n",
        "except ZeroDivisionError as e:\n",
        "    logging.error(f\"Error occurred: {e}\")\n"
      ],
      "metadata": {
        "colab": {
          "base_uri": "https://localhost:8080/"
        },
        "id": "ieDFEU0nO2e5",
        "outputId": "68f79197-4b85-4319-c14f-d3f176138767"
      },
      "execution_count": 18,
      "outputs": [
        {
          "output_type": "stream",
          "name": "stderr",
          "text": [
            "ERROR:root:Error occurred: division by zero\n"
          ]
        }
      ]
    },
    {
      "cell_type": "markdown",
      "source": [
        "40. Write a Python program that prints the content of a file and handles the case when the file is empty"
      ],
      "metadata": {
        "id": "EgdK3RelO5DJ"
      }
    },
    {
      "cell_type": "code",
      "source": [
        "try:\n",
        "    with open(\"file.txt\", \"r\") as f:\n",
        "        content = f.read()\n",
        "        if content.strip() == \"\":\n",
        "            print(\"File is empty.\")\n",
        "        else:\n",
        "            print(content)\n",
        "except FileNotFoundError:\n",
        "    print(\"File not found.\")\n"
      ],
      "metadata": {
        "colab": {
          "base_uri": "https://localhost:8080/"
        },
        "id": "JdVIjwo3O5r5",
        "outputId": "1b44a62a-2069-4d0f-f486-0ef38ecf918a"
      },
      "execution_count": 19,
      "outputs": [
        {
          "output_type": "stream",
          "name": "stdout",
          "text": [
            "Hello, World!\n",
            "New line added.\n"
          ]
        }
      ]
    }
  ]
}