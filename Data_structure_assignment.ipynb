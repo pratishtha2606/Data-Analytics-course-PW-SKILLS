{
  "nbformat": 4,
  "nbformat_minor": 0,
  "metadata": {
    "colab": {
      "provenance": []
    },
    "kernelspec": {
      "name": "python3",
      "display_name": "Python 3"
    },
    "language_info": {
      "name": "python"
    }
  },
  "cells": [
    {
      "cell_type": "code",
      "execution_count": null,
      "metadata": {
        "id": "1Cq2YV8Im8yI"
      },
      "outputs": [],
      "source": []
    },
    {
      "cell_type": "markdown",
      "source": [
        "1. What are data structures, and why are they important?"
      ],
      "metadata": {
        "id": "mHRt705rnM7U"
      }
    },
    {
      "cell_type": "markdown",
      "source": [
        "Data structures are ways to organize and store data so we can use it efficiently. They are important because they help in writing clean code, saving memory, and making programs faster."
      ],
      "metadata": {
        "id": "uPQhQbxynOiY"
      }
    },
    {
      "cell_type": "markdown",
      "source": [
        "2. Explain the difference between mutable and immutable data types with examples."
      ],
      "metadata": {
        "id": "2RYEtdb5nRQp"
      }
    },
    {
      "cell_type": "markdown",
      "source": [
        "Mutable means we can change the data (like list: [1, 2, 3] → we can add or remove items). Immutable means once created, it can’t be changed (like tuple: (1, 2, 3))."
      ],
      "metadata": {
        "id": "AaNINdrqnd-2"
      }
    },
    {
      "cell_type": "markdown",
      "source": [
        "3. What are the main differences between lists and tuples in Python?"
      ],
      "metadata": {
        "id": "HJ6pq6tjnhE6"
      }
    },
    {
      "cell_type": "markdown",
      "source": [
        "Lists are mutable, use [], and are slower. Tuples are immutable, use (), and are faster."
      ],
      "metadata": {
        "id": "CpVOadtwnjqn"
      }
    },
    {
      "cell_type": "markdown",
      "source": [
        "4. Describe how dictionaries store data"
      ],
      "metadata": {
        "id": "NFo1od40nmn6"
      }
    },
    {
      "cell_type": "markdown",
      "source": [
        "Dictionaries store data as key-value pairs like {‘name’: ‘John’}, using a hash table internally."
      ],
      "metadata": {
        "id": "uODdkJeknq1X"
      }
    },
    {
      "cell_type": "markdown",
      "source": [
        "5. Why might you use a set instead of a list in Python?"
      ],
      "metadata": {
        "id": "7vUxjl7kntLq"
      }
    },
    {
      "cell_type": "markdown",
      "source": [
        "Sets don’t allow duplicates and are faster for checking if an item exists."
      ],
      "metadata": {
        "id": "lbJ5gRBsnvUe"
      }
    },
    {
      "cell_type": "markdown",
      "source": [
        "6. What is a string in Python, and how is it different from a list?"
      ],
      "metadata": {
        "id": "noFGv5Slnx1j"
      }
    },
    {
      "cell_type": "markdown",
      "source": [
        "A string is a sequence of characters. It is immutable, while a list is mutable and can hold any data type."
      ],
      "metadata": {
        "id": "3mYLydimnz4E"
      }
    },
    {
      "cell_type": "markdown",
      "source": [
        "7. How do tuples ensure data integrity in Python?"
      ],
      "metadata": {
        "id": "8_vWTEDHn1lr"
      }
    },
    {
      "cell_type": "markdown",
      "source": [
        "Tuples can’t be changed, so once data is stored, it’s safe from accidental modification."
      ],
      "metadata": {
        "id": "fE9otaEin4R6"
      }
    },
    {
      "cell_type": "markdown",
      "source": [
        "8. What is a hash table, and how does it relate to dictionaries in Python?"
      ],
      "metadata": {
        "id": "PP68BhZJn6cy"
      }
    },
    {
      "cell_type": "markdown",
      "source": [
        "A hash table is a structure that maps keys to values using a hash function. Python dictionaries use hash tables internally."
      ],
      "metadata": {
        "id": "0Gr7DlZLn9JD"
      }
    },
    {
      "cell_type": "markdown",
      "source": [
        "9. Can lists contain different data types in Python?"
      ],
      "metadata": {
        "id": "F74UgtwTn_lZ"
      }
    },
    {
      "cell_type": "markdown",
      "source": [
        "Yes, lists can contain any data type like numbers, strings, or even other lists."
      ],
      "metadata": {
        "id": "ZKBl3M54oCdw"
      }
    },
    {
      "cell_type": "markdown",
      "source": [
        "10. Explain why strings are immutable in Python"
      ],
      "metadata": {
        "id": "wa4ZHs1goHz8"
      }
    },
    {
      "cell_type": "markdown",
      "source": [
        "Strings are immutable to make them safe and efficient when used in multiple places or loops."
      ],
      "metadata": {
        "id": "PzcAy5UMoLYU"
      }
    },
    {
      "cell_type": "markdown",
      "source": [
        "11. What advantages do dictionaries offer over lists for certain tasks?"
      ],
      "metadata": {
        "id": "T8O681fCoNLU"
      }
    },
    {
      "cell_type": "markdown",
      "source": [
        "Dictionaries are faster for lookup if you know the key, while lists are slower since you might have to search through them."
      ],
      "metadata": {
        "id": "2ReahSX8oPI9"
      }
    },
    {
      "cell_type": "markdown",
      "source": [
        "12. Describe a scenario where using a tuple would be preferable over a list."
      ],
      "metadata": {
        "id": "UYEc7WZ7oRM_"
      }
    },
    {
      "cell_type": "markdown",
      "source": [
        "When you want to store fixed data like days of the week ((\"Mon\", \"Tue\", ...)) that shouldn’t change."
      ],
      "metadata": {
        "id": "EcLJyqs9oTdE"
      }
    },
    {
      "cell_type": "markdown",
      "source": [
        "13. How do sets handle duplicate values in Python?"
      ],
      "metadata": {
        "id": "xAI7CqeToVoq"
      }
    },
    {
      "cell_type": "markdown",
      "source": [
        "Sets automatically remove duplicates. If you add the same value again, it’s ignored"
      ],
      "metadata": {
        "id": "V_JLRKhPoYYq"
      }
    },
    {
      "cell_type": "markdown",
      "source": [
        "14. How does the “in” keyword work differently for lists and dictionaries?"
      ],
      "metadata": {
        "id": "_mYWM0pAobqN"
      }
    },
    {
      "cell_type": "markdown",
      "source": [
        "In lists, it checks for values; in dictionaries, it checks for keys."
      ],
      "metadata": {
        "id": "UjSKnvvCodq0"
      }
    },
    {
      "cell_type": "markdown",
      "source": [
        "15. Can you modify the elements of a tuple? Explain why or why not"
      ],
      "metadata": {
        "id": "qEh1uUMToghC"
      }
    },
    {
      "cell_type": "markdown",
      "source": [
        "No, tuples are immutable. Once created, you can’t change their elements."
      ],
      "metadata": {
        "id": "inehv5XHoimf"
      }
    },
    {
      "cell_type": "markdown",
      "source": [
        "16. What is a nested dictionary, and give an example of its use case?"
      ],
      "metadata": {
        "id": "gNbUihwLok0S"
      }
    },
    {
      "cell_type": "markdown",
      "source": [
        "student = {'name': 'Rahul', 'marks': {'math': 90, 'science': 85}}\n"
      ],
      "metadata": {
        "id": "a-fArF3OomkR"
      }
    },
    {
      "cell_type": "markdown",
      "source": [
        "17. Describe the time complexity of accessing elements in a dictionary"
      ],
      "metadata": {
        "id": "k92k02pfopXf"
      }
    },
    {
      "cell_type": "markdown",
      "source": [
        "It’s usually O(1), which means it takes constant time."
      ],
      "metadata": {
        "id": "PWoQ7KAlorc9"
      }
    },
    {
      "cell_type": "markdown",
      "source": [
        "18. In what situations are lists preferred over dictionaries?"
      ],
      "metadata": {
        "id": "gihDaTu6otiZ"
      }
    },
    {
      "cell_type": "markdown",
      "source": [
        "When the order matters or you don’t need to label data with keys."
      ],
      "metadata": {
        "id": "0GPKeqiIo0LO"
      }
    },
    {
      "cell_type": "markdown",
      "source": [
        "19. Why are dictionaries considered unordered, and how does that affect data retrieval?"
      ],
      "metadata": {
        "id": "tQdkYNoto2Ri"
      }
    },
    {
      "cell_type": "markdown",
      "source": [
        "Earlier versions of Python didn’t preserve order in dictionaries. Now they do, but still, we don’t access data by position, only by keys."
      ],
      "metadata": {
        "id": "8fETNT8Do4S6"
      }
    },
    {
      "cell_type": "markdown",
      "source": [
        "20. Explain the difference between a list and a dictionary in terms of data retrieval"
      ],
      "metadata": {
        "id": "_OT3xxxqo7Gx"
      }
    },
    {
      "cell_type": "markdown",
      "source": [
        "In lists, we use index numbers (e.g., list[0]), but in dictionaries, we use keys (e.g., dict[\"name\"])"
      ],
      "metadata": {
        "id": "UfpagGAno9C8"
      }
    },
    {
      "cell_type": "markdown",
      "source": [
        "1. Write a code to create a string with your name and print it"
      ],
      "metadata": {
        "id": "Oow_Ebe0pYMW"
      }
    },
    {
      "cell_type": "code",
      "source": [
        "name = \"Your Name\"\n",
        "print(name)\n"
      ],
      "metadata": {
        "colab": {
          "base_uri": "https://localhost:8080/"
        },
        "id": "YIfd9ZWyposy",
        "outputId": "50b78e07-f519-4ab4-d9f8-3afd745e2d45"
      },
      "execution_count": 1,
      "outputs": [
        {
          "output_type": "stream",
          "name": "stdout",
          "text": [
            "Your Name\n"
          ]
        }
      ]
    },
    {
      "cell_type": "markdown",
      "source": [
        "2. Write a code to find the length of the string \"Hello World\""
      ],
      "metadata": {
        "id": "4sJ0cVvBpvbr"
      }
    },
    {
      "cell_type": "code",
      "source": [
        "text = \"Hello World\"\n",
        "print(len(text))\n"
      ],
      "metadata": {
        "colab": {
          "base_uri": "https://localhost:8080/"
        },
        "id": "RnLjDKv3px9i",
        "outputId": "053bae60-3830-4bc2-be28-e6aed9bbfe38"
      },
      "execution_count": 2,
      "outputs": [
        {
          "output_type": "stream",
          "name": "stdout",
          "text": [
            "11\n"
          ]
        }
      ]
    },
    {
      "cell_type": "markdown",
      "source": [
        "3. Write a code to slice the first 3 characters from the string \"Python Programming\""
      ],
      "metadata": {
        "id": "fkbcFZcEp1kN"
      }
    },
    {
      "cell_type": "code",
      "source": [
        "s = \"Python Programming\"\n",
        "print(s[:3])\n"
      ],
      "metadata": {
        "colab": {
          "base_uri": "https://localhost:8080/"
        },
        "id": "69qposZLp2dq",
        "outputId": "1adf6e5c-4eee-44ba-ec1e-fb3ea0395969"
      },
      "execution_count": 3,
      "outputs": [
        {
          "output_type": "stream",
          "name": "stdout",
          "text": [
            "Pyt\n"
          ]
        }
      ]
    },
    {
      "cell_type": "markdown",
      "source": [
        "4. Write a code to convert the string \"hello\" to uppercase."
      ],
      "metadata": {
        "id": "Av-8xnLap4kL"
      }
    },
    {
      "cell_type": "code",
      "source": [
        "print(\"hello\".upper())\n"
      ],
      "metadata": {
        "colab": {
          "base_uri": "https://localhost:8080/"
        },
        "id": "-WZ1qAREp6xj",
        "outputId": "597beecf-1aa4-479f-927d-bd6fe67be50d"
      },
      "execution_count": 4,
      "outputs": [
        {
          "output_type": "stream",
          "name": "stdout",
          "text": [
            "HELLO\n"
          ]
        }
      ]
    },
    {
      "cell_type": "markdown",
      "source": [
        "5. Write a code to replace the word \"apple\" with \"orange\" in the string \"I like apple\"."
      ],
      "metadata": {
        "id": "kLNrbCetp-ES"
      }
    },
    {
      "cell_type": "code",
      "source": [
        "s = \"I like apple\"\n",
        "print(s.replace(\"apple\", \"orange\"))\n"
      ],
      "metadata": {
        "colab": {
          "base_uri": "https://localhost:8080/"
        },
        "id": "C-zi0289qE3S",
        "outputId": "4f0436fd-e3aa-40d0-8c86-41c8f1003330"
      },
      "execution_count": 5,
      "outputs": [
        {
          "output_type": "stream",
          "name": "stdout",
          "text": [
            "I like orange\n"
          ]
        }
      ]
    },
    {
      "cell_type": "markdown",
      "source": [
        "6. Write a code to create a list with numbers 1 to 5 and print it"
      ],
      "metadata": {
        "id": "BX-R_dG-qGDG"
      }
    },
    {
      "cell_type": "code",
      "source": [
        "nums = list(range(1, 6))\n",
        "print(nums)\n"
      ],
      "metadata": {
        "colab": {
          "base_uri": "https://localhost:8080/"
        },
        "id": "4ppoRNJVqI_7",
        "outputId": "fb867166-c538-45e9-94ba-c4b76f1794f0"
      },
      "execution_count": 6,
      "outputs": [
        {
          "output_type": "stream",
          "name": "stdout",
          "text": [
            "[1, 2, 3, 4, 5]\n"
          ]
        }
      ]
    },
    {
      "cell_type": "markdown",
      "source": [
        "7. Write a code to append the number 10 to the list [1, 2, 3, 4]"
      ],
      "metadata": {
        "id": "5-D6Z9H7qK-B"
      }
    },
    {
      "cell_type": "code",
      "source": [
        "nums = [1, 2, 3, 4]\n",
        "nums.append(10)\n",
        "print(nums)\n"
      ],
      "metadata": {
        "colab": {
          "base_uri": "https://localhost:8080/"
        },
        "id": "MTPbrWhtqNaC",
        "outputId": "489d8464-ebe6-4fa6-8023-e9216e982034"
      },
      "execution_count": 7,
      "outputs": [
        {
          "output_type": "stream",
          "name": "stdout",
          "text": [
            "[1, 2, 3, 4, 10]\n"
          ]
        }
      ]
    },
    {
      "cell_type": "markdown",
      "source": [
        "8. Write a code to remove the number 3 from the list [1, 2, 3, 4, 5]"
      ],
      "metadata": {
        "id": "ZaUpePYVqPeA"
      }
    },
    {
      "cell_type": "code",
      "source": [
        "nums = [1, 2, 3, 4, 5]\n",
        "nums.remove(3)\n",
        "print(nums)\n"
      ],
      "metadata": {
        "colab": {
          "base_uri": "https://localhost:8080/"
        },
        "id": "5prs2Pd4qR0C",
        "outputId": "87a44fba-7195-4ea1-f01d-129b30929f35"
      },
      "execution_count": 8,
      "outputs": [
        {
          "output_type": "stream",
          "name": "stdout",
          "text": [
            "[1, 2, 4, 5]\n"
          ]
        }
      ]
    },
    {
      "cell_type": "markdown",
      "source": [
        "9. Write a code to access the second element in the list ['a', 'b', 'c', 'd']"
      ],
      "metadata": {
        "id": "i7-TbKyfqTuF"
      }
    },
    {
      "cell_type": "code",
      "source": [
        "letters = ['a', 'b', 'c', 'd']\n",
        "print(letters[1])\n"
      ],
      "metadata": {
        "colab": {
          "base_uri": "https://localhost:8080/"
        },
        "id": "MUMHJZr3qWHe",
        "outputId": "5554257e-a947-4fb2-a1d3-7979fba9afa3"
      },
      "execution_count": 9,
      "outputs": [
        {
          "output_type": "stream",
          "name": "stdout",
          "text": [
            "b\n"
          ]
        }
      ]
    },
    {
      "cell_type": "markdown",
      "source": [
        "10. Write a code to reverse the list [10, 20, 30, 40, 50]"
      ],
      "metadata": {
        "id": "o5gDoOHgqX3L"
      }
    },
    {
      "cell_type": "code",
      "source": [
        "lst = [10, 20, 30, 40, 50]\n",
        "lst.reverse()\n",
        "print(lst)\n"
      ],
      "metadata": {
        "colab": {
          "base_uri": "https://localhost:8080/"
        },
        "id": "2mKoywGzqaEL",
        "outputId": "9c4fabe8-522c-4002-f8ec-04ec31697878"
      },
      "execution_count": 10,
      "outputs": [
        {
          "output_type": "stream",
          "name": "stdout",
          "text": [
            "[50, 40, 30, 20, 10]\n"
          ]
        }
      ]
    },
    {
      "cell_type": "markdown",
      "source": [
        "11. Write a code to create a tuple with the elements 100, 200, 300 and print it"
      ],
      "metadata": {
        "id": "AMznALnjqbtE"
      }
    },
    {
      "cell_type": "code",
      "source": [
        "t = (100, 200, 300)\n",
        "print(t)\n"
      ],
      "metadata": {
        "colab": {
          "base_uri": "https://localhost:8080/"
        },
        "id": "mHzozfALqd7u",
        "outputId": "6540c402-2198-43d6-d9b0-5eb85aa281e7"
      },
      "execution_count": 11,
      "outputs": [
        {
          "output_type": "stream",
          "name": "stdout",
          "text": [
            "(100, 200, 300)\n"
          ]
        }
      ]
    },
    {
      "cell_type": "markdown",
      "source": [
        "12. Write a code to access the second-to-last element of the tuple ('red', 'green', 'blue', 'yellow')"
      ],
      "metadata": {
        "id": "-vFNTyHWqfh4"
      }
    },
    {
      "cell_type": "code",
      "source": [
        "colors = ('red', 'green', 'blue', 'yellow')\n",
        "print(colors[-2])\n"
      ],
      "metadata": {
        "colab": {
          "base_uri": "https://localhost:8080/"
        },
        "id": "xN4E9fNrqiwn",
        "outputId": "e957b7be-e54b-472e-99a7-4951c88a08ab"
      },
      "execution_count": 12,
      "outputs": [
        {
          "output_type": "stream",
          "name": "stdout",
          "text": [
            "blue\n"
          ]
        }
      ]
    },
    {
      "cell_type": "markdown",
      "source": [
        "13. Write a code to find the minimum number in the tuple (10, 20, 5, 15)"
      ],
      "metadata": {
        "id": "DXR_CnL2qj8c"
      }
    },
    {
      "cell_type": "code",
      "source": [
        "nums = (10, 20, 5, 15)\n",
        "print(min(nums))\n"
      ],
      "metadata": {
        "colab": {
          "base_uri": "https://localhost:8080/"
        },
        "id": "3eS8vBtIqmVT",
        "outputId": "dc657c1f-4a81-4653-8991-95953e12d7b1"
      },
      "execution_count": 13,
      "outputs": [
        {
          "output_type": "stream",
          "name": "stdout",
          "text": [
            "5\n"
          ]
        }
      ]
    },
    {
      "cell_type": "markdown",
      "source": [
        "14. Write a code to find the index of the element \"cat\" in the tuple ('dog', 'cat', 'rabbit')"
      ],
      "metadata": {
        "id": "xEk6ahHyqoeY"
      }
    },
    {
      "cell_type": "code",
      "source": [
        "animals = ('dog', 'cat', 'rabbit')\n",
        "print(animals.index('cat'))\n"
      ],
      "metadata": {
        "colab": {
          "base_uri": "https://localhost:8080/"
        },
        "id": "XCgQmOXPqqe2",
        "outputId": "cbbc980d-b14a-4e18-e0f3-d50d2602c4b3"
      },
      "execution_count": 14,
      "outputs": [
        {
          "output_type": "stream",
          "name": "stdout",
          "text": [
            "1\n"
          ]
        }
      ]
    },
    {
      "cell_type": "markdown",
      "source": [
        "15. Write a code to create a tuple containing three different fruits and check if \"kiwi\" is in it"
      ],
      "metadata": {
        "id": "oLsXzsFYquJv"
      }
    },
    {
      "cell_type": "code",
      "source": [
        "fruits = ('apple', 'banana', 'mango')\n",
        "print('kiwi' in fruits)\n"
      ],
      "metadata": {
        "colab": {
          "base_uri": "https://localhost:8080/"
        },
        "id": "-ewKJRUtqu_I",
        "outputId": "15076bd2-909d-4cce-c5fa-780f275155aa"
      },
      "execution_count": 15,
      "outputs": [
        {
          "output_type": "stream",
          "name": "stdout",
          "text": [
            "False\n"
          ]
        }
      ]
    },
    {
      "cell_type": "markdown",
      "source": [
        "16. Write a code to create a set with the elements {'a', 'b', 'c'} and print it"
      ],
      "metadata": {
        "id": "Kpp44RF-qxHC"
      }
    },
    {
      "cell_type": "code",
      "source": [
        "s = {'a', 'b', 'c'}\n",
        "print(s)\n"
      ],
      "metadata": {
        "colab": {
          "base_uri": "https://localhost:8080/"
        },
        "id": "9K1JN9_sqzNr",
        "outputId": "92c10390-29d9-443c-d8d2-2f9720ff0f4f"
      },
      "execution_count": 16,
      "outputs": [
        {
          "output_type": "stream",
          "name": "stdout",
          "text": [
            "{'b', 'a', 'c'}\n"
          ]
        }
      ]
    },
    {
      "cell_type": "markdown",
      "source": [
        "17. Write a code to clear all elements from the set {1, 2, 3, 4, 5}."
      ],
      "metadata": {
        "id": "XPJxoolbq4ho"
      }
    },
    {
      "cell_type": "code",
      "source": [
        "s = {1, 2, 3, 4, 5}\n",
        "s.clear()\n",
        "print(s)\n"
      ],
      "metadata": {
        "colab": {
          "base_uri": "https://localhost:8080/"
        },
        "id": "QV-0cp48q61e",
        "outputId": "b8b74bc6-70b4-4d80-b4db-7933bb12f285"
      },
      "execution_count": 17,
      "outputs": [
        {
          "output_type": "stream",
          "name": "stdout",
          "text": [
            "set()\n"
          ]
        }
      ]
    },
    {
      "cell_type": "markdown",
      "source": [
        "18. Write a code to remove the element 4 from the set {1, 2, 3, 4}"
      ],
      "metadata": {
        "id": "0iXGEbavq8X9"
      }
    },
    {
      "cell_type": "code",
      "source": [
        "s = {1, 2, 3, 4}\n",
        "s.remove(4)\n",
        "print(s)\n"
      ],
      "metadata": {
        "colab": {
          "base_uri": "https://localhost:8080/"
        },
        "id": "it7yo92Sq_N_",
        "outputId": "679d8aff-3e73-4d73-f623-8cf7c2153ff0"
      },
      "execution_count": 18,
      "outputs": [
        {
          "output_type": "stream",
          "name": "stdout",
          "text": [
            "{1, 2, 3}\n"
          ]
        }
      ]
    },
    {
      "cell_type": "markdown",
      "source": [
        "19. Write a code to find the union of two sets {1, 2, 3} and {3, 4, 5}."
      ],
      "metadata": {
        "id": "eqB_kfsCrBEI"
      }
    },
    {
      "cell_type": "code",
      "source": [
        "a = {1, 2, 3}\n",
        "b = {3, 4, 5}\n",
        "print(a.union(b))\n"
      ],
      "metadata": {
        "colab": {
          "base_uri": "https://localhost:8080/"
        },
        "id": "rN-tkzZNrDT7",
        "outputId": "76aa70be-551a-47ae-ebe0-74740b5786d4"
      },
      "execution_count": 19,
      "outputs": [
        {
          "output_type": "stream",
          "name": "stdout",
          "text": [
            "{1, 2, 3, 4, 5}\n"
          ]
        }
      ]
    },
    {
      "cell_type": "markdown",
      "source": [
        "20. Write a code to find the intersection of two sets {1, 2, 3} and {2, 3, 4}"
      ],
      "metadata": {
        "id": "6WFIvl2zrFCe"
      }
    },
    {
      "cell_type": "code",
      "source": [
        "a = {1, 2, 3}\n",
        "b = {2, 3, 4}\n",
        "print(a.intersection(b))\n"
      ],
      "metadata": {
        "colab": {
          "base_uri": "https://localhost:8080/"
        },
        "id": "lgeBI_iArHPk",
        "outputId": "8eebf5a2-f2eb-451f-f60e-240e806ec5f1"
      },
      "execution_count": 20,
      "outputs": [
        {
          "output_type": "stream",
          "name": "stdout",
          "text": [
            "{2, 3}\n"
          ]
        }
      ]
    },
    {
      "cell_type": "markdown",
      "source": [
        "21. Write a code to create a dictionary with the keys \"name\", \"age\", and \"city\", and print it"
      ],
      "metadata": {
        "id": "NpO_XEu5rKER"
      }
    },
    {
      "cell_type": "code",
      "source": [
        "person = {\"name\": \"John\", \"age\": 25, \"city\": \"Delhi\"}\n",
        "print(person)\n"
      ],
      "metadata": {
        "colab": {
          "base_uri": "https://localhost:8080/"
        },
        "id": "FWmuqJrfrNYW",
        "outputId": "1ea993b7-0df7-4198-a8df-cbda6b60c6b2"
      },
      "execution_count": 21,
      "outputs": [
        {
          "output_type": "stream",
          "name": "stdout",
          "text": [
            "{'name': 'John', 'age': 25, 'city': 'Delhi'}\n"
          ]
        }
      ]
    },
    {
      "cell_type": "markdown",
      "source": [
        "22. Write a code to add a new key–value pair \"country\": \"USA\" to the dictionary {'name': 'John', 'age': 25}."
      ],
      "metadata": {
        "id": "VjXsU_DSrO8a"
      }
    },
    {
      "cell_type": "code",
      "source": [
        "d = {'name': 'John', 'age': 25}\n",
        "d['country'] = 'USA'\n",
        "print(d)\n"
      ],
      "metadata": {
        "colab": {
          "base_uri": "https://localhost:8080/"
        },
        "id": "HVW939-FrSVT",
        "outputId": "dc834052-1ce0-4474-f287-5dc5b1ba860a"
      },
      "execution_count": 22,
      "outputs": [
        {
          "output_type": "stream",
          "name": "stdout",
          "text": [
            "{'name': 'John', 'age': 25, 'country': 'USA'}\n"
          ]
        }
      ]
    },
    {
      "cell_type": "markdown",
      "source": [
        "23. Write a code to access the value associated with the key \"name\" in the dictionary {'name': 'Alice', 'age': 30}."
      ],
      "metadata": {
        "id": "Tndh5roOrW9Z"
      }
    },
    {
      "cell_type": "code",
      "source": [
        "d = {'name': 'Alice', 'age': 30}\n",
        "print(d['name'])\n"
      ],
      "metadata": {
        "colab": {
          "base_uri": "https://localhost:8080/"
        },
        "id": "O3iKWCzxrX0D",
        "outputId": "66e2defe-ed5f-475a-8003-5b8f9df67651"
      },
      "execution_count": 23,
      "outputs": [
        {
          "output_type": "stream",
          "name": "stdout",
          "text": [
            "Alice\n"
          ]
        }
      ]
    },
    {
      "cell_type": "markdown",
      "source": [
        "24. Write a code to remove the key \"age\" from the dictionary {'name': 'Bob', 'age': 22, 'city': 'New York'}."
      ],
      "metadata": {
        "id": "5x7ZrZh_rZbw"
      }
    },
    {
      "cell_type": "code",
      "source": [
        "d = {'name': 'Bob', 'age': 22, 'city': 'New York'}\n",
        "del d['age']\n",
        "print(d)\n"
      ],
      "metadata": {
        "colab": {
          "base_uri": "https://localhost:8080/"
        },
        "id": "pO4V6WU0rbt_",
        "outputId": "8768f303-26bb-492b-9da7-461aa7f1d812"
      },
      "execution_count": 24,
      "outputs": [
        {
          "output_type": "stream",
          "name": "stdout",
          "text": [
            "{'name': 'Bob', 'city': 'New York'}\n"
          ]
        }
      ]
    },
    {
      "cell_type": "markdown",
      "source": [
        "25. Write a code to check if the key \"city\" exists in the dictionary {'name': 'Alice', 'city': 'Paris'}."
      ],
      "metadata": {
        "id": "TO6Q__ZcsBIQ"
      }
    },
    {
      "cell_type": "code",
      "source": [
        "d = {'name': 'Alice', 'city': 'Paris'}\n",
        "print(\"city\" in d)\n"
      ],
      "metadata": {
        "colab": {
          "base_uri": "https://localhost:8080/"
        },
        "id": "g1-VFRYCsFAf",
        "outputId": "7874a5ca-df7a-4530-ac66-7b285855fe23"
      },
      "execution_count": 25,
      "outputs": [
        {
          "output_type": "stream",
          "name": "stdout",
          "text": [
            "True\n"
          ]
        }
      ]
    },
    {
      "cell_type": "markdown",
      "source": [
        "26. Write a code to create a list, a tuple, and a dictionary, and print them all"
      ],
      "metadata": {
        "id": "sy3nU4P3sGxW"
      }
    },
    {
      "cell_type": "code",
      "source": [
        "my_list = [1, 2, 3]\n",
        "my_tuple = (4, 5, 6)\n",
        "my_dict = {'a': 10, 'b': 20}\n",
        "\n",
        "print(my_list)\n",
        "print(my_tuple)\n",
        "print(my_dict)\n"
      ],
      "metadata": {
        "colab": {
          "base_uri": "https://localhost:8080/"
        },
        "id": "2madI9k4sI3S",
        "outputId": "f2614f55-bb68-4164-e607-fd65da8c3342"
      },
      "execution_count": 26,
      "outputs": [
        {
          "output_type": "stream",
          "name": "stdout",
          "text": [
            "[1, 2, 3]\n",
            "(4, 5, 6)\n",
            "{'a': 10, 'b': 20}\n"
          ]
        }
      ]
    },
    {
      "cell_type": "markdown",
      "source": [
        "27. Write a code to create a list of 5 random numbers between 1 and 100, sort it in ascending order, and print the result"
      ],
      "metadata": {
        "id": "ynnuewv-sK6w"
      }
    },
    {
      "cell_type": "code",
      "source": [
        "import random\n",
        "\n",
        "numbers = random.sample(range(1, 101), 5)\n",
        "numbers.sort()\n",
        "print(numbers)\n"
      ],
      "metadata": {
        "colab": {
          "base_uri": "https://localhost:8080/"
        },
        "id": "zr8-NI30sNdM",
        "outputId": "2d1a7a87-79d0-4d74-c0c3-e849b5a3b251"
      },
      "execution_count": 27,
      "outputs": [
        {
          "output_type": "stream",
          "name": "stdout",
          "text": [
            "[15, 38, 46, 52, 91]\n"
          ]
        }
      ]
    },
    {
      "cell_type": "markdown",
      "source": [
        "28. Write a code to create a list with strings and print the element at the third index."
      ],
      "metadata": {
        "id": "AHHs5m-GsPRh"
      }
    },
    {
      "cell_type": "code",
      "source": [
        "words = [\"apple\", \"banana\", \"cherry\", \"date\", \"elderberry\"]\n",
        "print(words[3])\n"
      ],
      "metadata": {
        "colab": {
          "base_uri": "https://localhost:8080/"
        },
        "id": "Kl34Z5xZsRf-",
        "outputId": "ee4ecf79-6a22-4643-d30c-b7e179dd43c8"
      },
      "execution_count": 28,
      "outputs": [
        {
          "output_type": "stream",
          "name": "stdout",
          "text": [
            "date\n"
          ]
        }
      ]
    },
    {
      "cell_type": "markdown",
      "source": [
        "29. Write a code to combine two dictionaries into one and print the result"
      ],
      "metadata": {
        "id": "zBKjnYc7sTjG"
      }
    },
    {
      "cell_type": "code",
      "source": [
        "d1 = {'a': 1, 'b': 2}\n",
        "d2 = {'c': 3, 'd': 4}\n",
        "\n",
        "combined = {**d1, **d2}\n",
        "print(combined)\n"
      ],
      "metadata": {
        "colab": {
          "base_uri": "https://localhost:8080/"
        },
        "id": "wAnf3gUDsVnc",
        "outputId": "6b9a3cf4-0da1-4bb9-dd1e-fae4cf2496bf"
      },
      "execution_count": 29,
      "outputs": [
        {
          "output_type": "stream",
          "name": "stdout",
          "text": [
            "{'a': 1, 'b': 2, 'c': 3, 'd': 4}\n"
          ]
        }
      ]
    },
    {
      "cell_type": "markdown",
      "source": [
        "30. Write a code to convert a list of strings into a set."
      ],
      "metadata": {
        "id": "hpBxz2HgsXPv"
      }
    },
    {
      "cell_type": "code",
      "source": [
        "string_list = [\"apple\", \"banana\", \"cherry\", \"apple\"]\n",
        "string_set = set(string_list)\n",
        "print(string_set)\n"
      ],
      "metadata": {
        "colab": {
          "base_uri": "https://localhost:8080/"
        },
        "id": "8PL0v2tbsZpY",
        "outputId": "718fe716-dc41-46c2-872b-51dc5e4d4466"
      },
      "execution_count": 30,
      "outputs": [
        {
          "output_type": "stream",
          "name": "stdout",
          "text": [
            "{'banana', 'cherry', 'apple'}\n"
          ]
        }
      ]
    }
  ]
}