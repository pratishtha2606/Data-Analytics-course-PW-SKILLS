{
  "nbformat": 4,
  "nbformat_minor": 0,
  "metadata": {
    "colab": {
      "provenance": []
    },
    "kernelspec": {
      "name": "python3",
      "display_name": "Python 3"
    },
    "language_info": {
      "name": "python"
    }
  },
  "cells": [
    {
      "cell_type": "markdown",
      "source": [
        "# Theory Question"
      ],
      "metadata": {
        "id": "mfbZuE5D0i_7"
      }
    },
    {
      "cell_type": "markdown",
      "source": [
        "1. What is the difference between a function and a method in Python?"
      ],
      "metadata": {
        "id": "-NxdhALg0mS-"
      }
    },
    {
      "cell_type": "markdown",
      "source": [
        "Function: A function is a block of code that performs a task and is defined using def.\n",
        "\n",
        "Method: A method is a function that is associated with an object (like list, string, etc.)"
      ],
      "metadata": {
        "id": "pI17q3EL1-yo"
      }
    },
    {
      "cell_type": "code",
      "source": [
        "# Function\n",
        "def add(a, b):\n",
        "    return a + b\n",
        "\n",
        "# Method\n",
        "my_list = [1, 2, 3]\n",
        "my_list.append(4)  # append is a method\n"
      ],
      "metadata": {
        "id": "zX-Yd7_J2GwW"
      },
      "execution_count": 3,
      "outputs": []
    },
    {
      "cell_type": "markdown",
      "source": [
        "2. Explain the concept of function arguments and parameters in Python"
      ],
      "metadata": {
        "id": "tWqxj7nx2M7y"
      }
    },
    {
      "cell_type": "markdown",
      "source": [
        "Parameter: Variable in function definition.\n",
        "\n",
        "Argument: Value passed to the function when calling it."
      ],
      "metadata": {
        "id": "OTuZafS02RA9"
      }
    },
    {
      "cell_type": "code",
      "source": [
        "def greet(name):  # 'name' is a parameter\n",
        "    print(\"Hello\", name)\n",
        "\n",
        "greet(\"Amit\")  # \"Amit\" is an argument\n"
      ],
      "metadata": {
        "colab": {
          "base_uri": "https://localhost:8080/"
        },
        "id": "1erPsWlY2Ti0",
        "outputId": "77e1eaf3-10f9-4b09-cb28-5025a50ffa7b"
      },
      "execution_count": 4,
      "outputs": [
        {
          "output_type": "stream",
          "name": "stdout",
          "text": [
            "Hello Amit\n"
          ]
        }
      ]
    },
    {
      "cell_type": "markdown",
      "source": [
        "3. What are the different ways to define and call a function in Python?"
      ],
      "metadata": {
        "id": "vTQ_QRUG2X7g"
      }
    },
    {
      "cell_type": "markdown",
      "source": [
        "Define using def or lambda.\n",
        "Call by using function name with parentheses."
      ],
      "metadata": {
        "id": "SL3LwdnP2a9I"
      }
    },
    {
      "cell_type": "code",
      "source": [
        "# Using def\n",
        "def square(x):\n",
        "    return x * x\n",
        "\n",
        "print(square(4))\n",
        "\n",
        "# Using lambda\n",
        "square = lambda x: x * x\n",
        "print(square(5))\n"
      ],
      "metadata": {
        "colab": {
          "base_uri": "https://localhost:8080/"
        },
        "id": "vZbiCSjR2bdc",
        "outputId": "2261e7d9-9ab2-4a70-e5d9-e7aa36db9e02"
      },
      "execution_count": 5,
      "outputs": [
        {
          "output_type": "stream",
          "name": "stdout",
          "text": [
            "16\n",
            "25\n"
          ]
        }
      ]
    },
    {
      "cell_type": "markdown",
      "source": [
        "4. What is the purpose of the return statement in a Python function?\n"
      ],
      "metadata": {
        "id": "wiTSA_rC2d0G"
      }
    },
    {
      "cell_type": "markdown",
      "source": [
        "return is used to send a result from the function back to the caller."
      ],
      "metadata": {
        "id": "I6zqcXkD2gYC"
      }
    },
    {
      "cell_type": "code",
      "source": [
        "def multiply(a, b):\n",
        "    return a * b\n",
        "\n",
        "result = multiply(3, 4)\n",
        "print(result)  # Output: 12\n"
      ],
      "metadata": {
        "colab": {
          "base_uri": "https://localhost:8080/"
        },
        "id": "5zXMl5F52kqh",
        "outputId": "78c7404a-764f-4589-d152-4e6dcb0c4f5e"
      },
      "execution_count": 6,
      "outputs": [
        {
          "output_type": "stream",
          "name": "stdout",
          "text": [
            "12\n"
          ]
        }
      ]
    },
    {
      "cell_type": "markdown",
      "source": [
        "5. What are iterators in Python and how do they differ from iterables?"
      ],
      "metadata": {
        "id": "w-omThJ22lpf"
      }
    },
    {
      "cell_type": "markdown",
      "source": [
        "Iterable: Any object we can loop through (like list, string).\n",
        "\n",
        "Iterator: An object with __next__() and __iter__() methods"
      ],
      "metadata": {
        "id": "0B7AZARd2oA7"
      }
    },
    {
      "cell_type": "code",
      "source": [
        "nums = [1, 2, 3]\n",
        "it = iter(nums)  # Iterator\n",
        "print(next(it))  # 1\n",
        "print(next(it))  # 2\n"
      ],
      "metadata": {
        "colab": {
          "base_uri": "https://localhost:8080/"
        },
        "id": "L64nvzy62qTy",
        "outputId": "26dc1a75-5c4c-4c0c-f64b-6499f1f04372"
      },
      "execution_count": 7,
      "outputs": [
        {
          "output_type": "stream",
          "name": "stdout",
          "text": [
            "1\n",
            "2\n"
          ]
        }
      ]
    },
    {
      "cell_type": "markdown",
      "source": [
        "6. Explain the concept of generators in Python and how they are defined."
      ],
      "metadata": {
        "id": "38vrt6o32uQb"
      }
    },
    {
      "cell_type": "markdown",
      "source": [
        "Generators: Special functions that yield values one at a time using yield."
      ],
      "metadata": {
        "id": "gTgDdtJ_2wFF"
      }
    },
    {
      "cell_type": "code",
      "source": [
        "def count_up_to(n):\n",
        "    i = 1\n",
        "    while i <= n:\n",
        "        yield i\n",
        "        i += 1\n",
        "\n",
        "for num in count_up_to(3):\n",
        "    print(num)\n"
      ],
      "metadata": {
        "colab": {
          "base_uri": "https://localhost:8080/"
        },
        "id": "6TwVcHMn2yKL",
        "outputId": "7aa847f2-8365-447c-c68d-fdf18784b832"
      },
      "execution_count": 8,
      "outputs": [
        {
          "output_type": "stream",
          "name": "stdout",
          "text": [
            "1\n",
            "2\n",
            "3\n"
          ]
        }
      ]
    },
    {
      "cell_type": "markdown",
      "source": [
        "7. What are the advantages of using generators over regular functions?"
      ],
      "metadata": {
        "id": "Gu8IS7XZ21rg"
      }
    },
    {
      "cell_type": "markdown",
      "source": [
        "Memory efficient (no need to store all values)\n",
        "\n",
        "Lazy evaluation (values generated on-the-fly)"
      ],
      "metadata": {
        "id": "kYMRd4kA23Hy"
      }
    },
    {
      "cell_type": "code",
      "source": [
        "def even_numbers():\n",
        "    for i in range(0, 1000000, 2):\n",
        "        yield i\n"
      ],
      "metadata": {
        "id": "svliTNYl25Z6"
      },
      "execution_count": 9,
      "outputs": []
    },
    {
      "cell_type": "markdown",
      "source": [
        "8. What is a lambda function in Python and when is it typically used?"
      ],
      "metadata": {
        "id": "-N3jt4wI29BG"
      }
    },
    {
      "cell_type": "markdown",
      "source": [
        "Lambda: Anonymous, one-line function.\n",
        "\n",
        "Used for: Short, throwaway functions (like in map, filter)."
      ],
      "metadata": {
        "id": "KZgLyWqA29wL"
      }
    },
    {
      "cell_type": "code",
      "source": [
        "square = lambda x: x * x\n",
        "print(square(6))\n"
      ],
      "metadata": {
        "colab": {
          "base_uri": "https://localhost:8080/"
        },
        "id": "jkhRRLNE3AX9",
        "outputId": "8ffa78e0-ab47-4104-b4f0-664db680caf4"
      },
      "execution_count": 10,
      "outputs": [
        {
          "output_type": "stream",
          "name": "stdout",
          "text": [
            "36\n"
          ]
        }
      ]
    },
    {
      "cell_type": "markdown",
      "source": [
        "9. Explain the purpose and usage of the map() function in Python."
      ],
      "metadata": {
        "id": "xi9oD0kw3C96"
      }
    },
    {
      "cell_type": "markdown",
      "source": [
        "Applies a function to every element in an iterable"
      ],
      "metadata": {
        "id": "LM_XCdoj3EG8"
      }
    },
    {
      "cell_type": "code",
      "source": [
        "nums = [1, 2, 3, 4]\n",
        "squared = list(map(lambda x: x**2, nums))\n",
        "print(squared)\n"
      ],
      "metadata": {
        "colab": {
          "base_uri": "https://localhost:8080/"
        },
        "id": "M7vo6Umy3HcC",
        "outputId": "0fbf5560-8401-4fa6-85c3-d63289f33bec"
      },
      "execution_count": 11,
      "outputs": [
        {
          "output_type": "stream",
          "name": "stdout",
          "text": [
            "[1, 4, 9, 16]\n"
          ]
        }
      ]
    },
    {
      "cell_type": "markdown",
      "source": [
        "10. What is the difference between map(), reduce(), and filter() functions in Python?"
      ],
      "metadata": {
        "id": "FwCQ5mNz3JKr"
      }
    },
    {
      "cell_type": "markdown",
      "source": [
        "Function               \tPurpose\n",
        "map()                  \tApplies a function to each item\n",
        "filter()               \tFilters items based on condition\n",
        "reduce()\t              Reduces items to a single value"
      ],
      "metadata": {
        "id": "0MOpYuPz3KH8"
      }
    },
    {
      "cell_type": "code",
      "source": [
        "from functools import reduce\n",
        "\n",
        "nums = [1, 2, 3, 4, 5]\n",
        "\n",
        "print(list(map(lambda x: x+1, nums)))    # [2,3,4,5,6]\n",
        "print(list(filter(lambda x: x%2==0, nums)))  # [2,4]\n",
        "print(reduce(lambda x, y: x + y, nums)) # 15\n"
      ],
      "metadata": {
        "colab": {
          "base_uri": "https://localhost:8080/"
        },
        "id": "Uakf-3Nb3R28",
        "outputId": "e0084645-bbc8-479e-cebe-bf99d4c5831e"
      },
      "execution_count": 12,
      "outputs": [
        {
          "output_type": "stream",
          "name": "stdout",
          "text": [
            "[2, 3, 4, 5, 6]\n",
            "[2, 4]\n",
            "15\n"
          ]
        }
      ]
    },
    {
      "cell_type": "markdown",
      "source": [
        "11. Using pen & paper write the internal mechanism for sum operation using reduce on this list: [47, 11, 42, 13]"
      ],
      "metadata": {
        "id": "m4BELN9E3Uno"
      }
    },
    {
      "cell_type": "markdown",
      "source": [
        "you have to write this by hand and attach image in doc or notebook.\n",
        "\n",
        "But here’s the step-by-step internal process so you can write it easily"
      ],
      "metadata": {
        "id": "jUcOxccK3Vib"
      }
    },
    {
      "cell_type": "markdown",
      "source": [
        "Step 1: reduce(lambda x, y: x + y, [47, 11, 42, 13])\n",
        "Step 2: 47 + 11 = 58\n",
        "Step 3: 58 + 42 = 100\n",
        "Step 4: 100 + 13 = 113\n",
        "Final Result: 113\n"
      ],
      "metadata": {
        "id": "flvFd3sN3dIn"
      }
    },
    {
      "cell_type": "markdown",
      "source": [
        "# Practical Quesrion"
      ],
      "metadata": {
        "id": "qBzQTQjK3d-m"
      }
    },
    {
      "cell_type": "markdown",
      "source": [
        "1. Write a Python function that takes a list of numbers as input and returns the sum of all even numbers in the list."
      ],
      "metadata": {
        "id": "nvfvxaSa3y3S"
      }
    },
    {
      "cell_type": "code",
      "source": [
        "def sum_even_numbers(lst):\n",
        "    return sum(num for num in lst if num % 2 == 0)\n",
        "\n",
        "print(sum_even_numbers([1, 2, 3, 4, 5, 6]))  # Output: 12\n"
      ],
      "metadata": {
        "colab": {
          "base_uri": "https://localhost:8080/"
        },
        "id": "q1T_pbWK37K-",
        "outputId": "f17d8b4d-ffea-4af8-9471-8fc4efa977bd"
      },
      "execution_count": 14,
      "outputs": [
        {
          "output_type": "stream",
          "name": "stdout",
          "text": [
            "12\n"
          ]
        }
      ]
    },
    {
      "cell_type": "markdown",
      "source": [
        "2. Create a Python function that accepts a string and returns the reverse of that string."
      ],
      "metadata": {
        "id": "gfPe8ibs397N"
      }
    },
    {
      "cell_type": "code",
      "source": [
        "def reverse_string(s):\n",
        "    return s[::-1]\n",
        "\n",
        "print(reverse_string(\"hello\"))  # Output: 'olleh'\n"
      ],
      "metadata": {
        "colab": {
          "base_uri": "https://localhost:8080/"
        },
        "id": "f4xbqzyN3-k_",
        "outputId": "4d04d214-6baf-4c2c-f359-c7245e7985d7"
      },
      "execution_count": 15,
      "outputs": [
        {
          "output_type": "stream",
          "name": "stdout",
          "text": [
            "olleh\n"
          ]
        }
      ]
    },
    {
      "cell_type": "markdown",
      "source": [
        "3. Implement a Python function that takes a list of integers and returns a new list containing the squares of each number."
      ],
      "metadata": {
        "id": "wOvlqNCS4Ix-"
      }
    },
    {
      "cell_type": "code",
      "source": [
        "def squares_list(lst):\n",
        "    return [x ** 2 for x in lst]\n",
        "\n",
        "# Example\n",
        "print(squares_list([1, 2, 3]))  # Output: [1, 4, 9]\n"
      ],
      "metadata": {
        "colab": {
          "base_uri": "https://localhost:8080/"
        },
        "id": "plApJY2y4LFo",
        "outputId": "c0bf951b-4f4d-4ded-b6b7-94c95eec7ca3"
      },
      "execution_count": 16,
      "outputs": [
        {
          "output_type": "stream",
          "name": "stdout",
          "text": [
            "[1, 4, 9]\n"
          ]
        }
      ]
    },
    {
      "cell_type": "markdown",
      "source": [
        "4. Write a Python function that checks if a given number is prime or not from 1 to 200."
      ],
      "metadata": {
        "id": "jI95AB5S4OOu"
      }
    },
    {
      "cell_type": "code",
      "source": [
        "def is_prime(n):\n",
        "    if n < 2 or n > 200:\n",
        "        return False\n",
        "    for i in range(2, int(n**0.5) + 1):\n",
        "        if n % i == 0:\n",
        "            return False\n",
        "    return True\n",
        "\n",
        "# Example\n",
        "print(is_prime(7))    # Output: True\n",
        "print(is_prime(201))  # Output: False\n"
      ],
      "metadata": {
        "colab": {
          "base_uri": "https://localhost:8080/"
        },
        "id": "RwV_wwYu4O4J",
        "outputId": "d0cfaaa7-cc88-49d8-ebbb-9db54af01ecf"
      },
      "execution_count": 17,
      "outputs": [
        {
          "output_type": "stream",
          "name": "stdout",
          "text": [
            "True\n",
            "False\n"
          ]
        }
      ]
    },
    {
      "cell_type": "markdown",
      "source": [
        "\n",
        "5. Create an iterator class in Python that generates the Fibonacci sequence up to a specified number of terms"
      ],
      "metadata": {
        "id": "ijF5CVwk4RgY"
      }
    },
    {
      "cell_type": "code",
      "source": [
        "class Fibonacci:\n",
        "    def __init__(self, max_terms):\n",
        "        self.max = max_terms\n",
        "        self.n1, self.n2 = 0, 1\n",
        "        self.count = 0\n",
        "\n",
        "    def __iter__(self):\n",
        "        return self\n",
        "\n",
        "    def __next__(self):\n",
        "        if self.count >= self.max:\n",
        "            raise StopIteration\n",
        "        if self.count == 0:\n",
        "            self.count += 1\n",
        "            return self.n1\n",
        "        elif self.count == 1:\n",
        "            self.count += 1\n",
        "            return self.n2\n",
        "        else:\n",
        "            self.n1, self.n2 = self.n2, self.n1 + self.n2\n",
        "            self.count += 1\n",
        "            return self.n2\n",
        "\n",
        "# Example\n",
        "for num in Fibonacci(6):\n",
        "    print(num)  # Output: 0 1 1 2 3 5\n"
      ],
      "metadata": {
        "colab": {
          "base_uri": "https://localhost:8080/"
        },
        "id": "cvrDo-gD4SMk",
        "outputId": "f88f7aac-8de0-4e5f-acfe-a4f709ed4160"
      },
      "execution_count": 18,
      "outputs": [
        {
          "output_type": "stream",
          "name": "stdout",
          "text": [
            "0\n",
            "1\n",
            "1\n",
            "2\n",
            "3\n",
            "5\n"
          ]
        }
      ]
    },
    {
      "cell_type": "markdown",
      "source": [
        "6. Write a generator function in Python that yields the powers of 2 up to a given exponent."
      ],
      "metadata": {
        "id": "nuExcqW64Viu"
      }
    },
    {
      "cell_type": "code",
      "source": [
        "def power_of_two(n):\n",
        "    for i in range(n + 1):\n",
        "        yield 2 ** i\n",
        "\n",
        "# Example\n",
        "for p in power_of_two(4):\n",
        "    print(p)  # Output: 1 2 4 8 16\n"
      ],
      "metadata": {
        "colab": {
          "base_uri": "https://localhost:8080/"
        },
        "id": "MtgVplbV4WKo",
        "outputId": "1c48fd50-33d6-43fc-c2c8-ca4ee47fec09"
      },
      "execution_count": 19,
      "outputs": [
        {
          "output_type": "stream",
          "name": "stdout",
          "text": [
            "1\n",
            "2\n",
            "4\n",
            "8\n",
            "16\n"
          ]
        }
      ]
    },
    {
      "cell_type": "markdown",
      "source": [
        "7. Implement a generator function that reads a file line by line and yields each line as a string."
      ],
      "metadata": {
        "id": "4PMlfqsR4ZCI"
      }
    },
    {
      "cell_type": "code",
      "source": [
        "def file_reader(file_path):\n",
        "    with open(file_path, 'r') as file:\n",
        "        for line in file:\n",
        "            yield line.strip()\n",
        "\n",
        "# Example (run after creating a text file)\n",
        "# for line in file_reader(\"sample.txt\"):\n",
        "#     print(line)\n"
      ],
      "metadata": {
        "id": "0SY3A49U4ZzS"
      },
      "execution_count": 20,
      "outputs": []
    },
    {
      "cell_type": "markdown",
      "source": [
        "8. Use a lambda function in Python to sort a list of tuples based on the second element of each tuple."
      ],
      "metadata": {
        "id": "a23yVnBg4etK"
      }
    },
    {
      "cell_type": "code",
      "source": [
        "data = [(1, 3), (2, 1), (4, 2)]\n",
        "sorted_data = sorted(data, key=lambda x: x[1])\n",
        "\n",
        "# Output\n",
        "print(sorted_data)  # Output: [(2, 1), (4, 2), (1, 3)]\n"
      ],
      "metadata": {
        "colab": {
          "base_uri": "https://localhost:8080/"
        },
        "id": "wKoGU5o14fZH",
        "outputId": "c4060d7f-36d0-45ab-ced9-5f7e3efec894"
      },
      "execution_count": 21,
      "outputs": [
        {
          "output_type": "stream",
          "name": "stdout",
          "text": [
            "[(2, 1), (4, 2), (1, 3)]\n"
          ]
        }
      ]
    },
    {
      "cell_type": "markdown",
      "source": [
        "9. Write a Python program that uses map() to convert a list of temperatures from Celsius to Fahrenheit."
      ],
      "metadata": {
        "id": "6xHxYqFy4iMd"
      }
    },
    {
      "cell_type": "code",
      "source": [
        "celsius = [0, 20, 30, 40]\n",
        "fahrenheit = list(map(lambda c: (c * 9/5) + 32, celsius))\n",
        "\n",
        "# Output\n",
        "print(fahrenheit)  # Output: [32.0, 68.0, 86.0, 104.0]\n"
      ],
      "metadata": {
        "colab": {
          "base_uri": "https://localhost:8080/"
        },
        "id": "tuAwl2Ve4jGs",
        "outputId": "0227f17e-b7c1-48f4-93f1-488e472e5ae5"
      },
      "execution_count": 22,
      "outputs": [
        {
          "output_type": "stream",
          "name": "stdout",
          "text": [
            "[32.0, 68.0, 86.0, 104.0]\n"
          ]
        }
      ]
    },
    {
      "cell_type": "markdown",
      "source": [
        "10. Create a Python program that uses filter() to remove all the vowels from a given string."
      ],
      "metadata": {
        "id": "OZhbl_tZ4ljN"
      }
    },
    {
      "cell_type": "code",
      "source": [
        "def remove_vowels(string):\n",
        "    return ''.join(filter(lambda x: x.lower() not in 'aeiou', string))\n",
        "\n",
        "# Example\n",
        "print(remove_vowels(\"Hello World\"))  # Output: Hll Wrld\n"
      ],
      "metadata": {
        "colab": {
          "base_uri": "https://localhost:8080/"
        },
        "id": "MLevoVlP4mru",
        "outputId": "d924b1c2-2786-4c3d-f39a-f7c863fe9c34"
      },
      "execution_count": 23,
      "outputs": [
        {
          "output_type": "stream",
          "name": "stdout",
          "text": [
            "Hll Wrld\n"
          ]
        }
      ]
    },
    {
      "cell_type": "markdown",
      "source": [
        "11) Imagine an accounting routine used in a book shop. It works on a list with sublists, which look like this:\n",
        "\n",
        "Order Number   Book Title and Author                    Quantity   Price per Item  \n",
        "34587          Learning Python, Mark Lutz              4          40.95  \n",
        "98762          Programming Python, Mark Lutz           5          56.80  \n",
        "77226          Head First Python, Paul Barry           3          32.95  \n",
        "88112          Einführung in Python3, Bernd Klein      3          24.99  \n",
        "\n",
        "Write a Python program, which returns a list with 2-tuples. Each tuple consists of the order number and the product of the price per item and the quantity. The product should be increased by 10,- € if the value of the order is smaller than 100,00 €.\n",
        "\n",
        "Write a Python program using lambda and map.\n",
        "\n"
      ],
      "metadata": {
        "id": "NtrLsa2_4ot4"
      }
    },
    {
      "cell_type": "code",
      "source": [
        "orders = [\n",
        "    [34587, \"Learning Python, Mark Lutz\", 4, 40.95],\n",
        "    [98762, \"Programming Python, Mark Lutz\", 5, 56.80],\n",
        "    [77226, \"Head First Python, Paul Barry\", 3, 32.95],\n",
        "    [88112, \"Einführung in Python3, Bernd Klein\", 3, 24.99]\n",
        "]\n",
        "\n",
        "# Using map() and lambda to calculate final bill amount\n",
        "final_output = list(map(\n",
        "    lambda order: (\n",
        "        order[0],\n",
        "        order[2] * order[3] if order[2] * order[3] >= 100 else order[2] * order[3] + 10\n",
        "    ),\n",
        "    orders\n",
        "))\n",
        "\n",
        "# Output the result\n",
        "for item in final_output:\n",
        "    print(item)\n"
      ],
      "metadata": {
        "colab": {
          "base_uri": "https://localhost:8080/"
        },
        "id": "3QSr-8ZV4p1l",
        "outputId": "ad3e6d0d-ca54-4ae0-ac37-4b77db440372"
      },
      "execution_count": 25,
      "outputs": [
        {
          "output_type": "stream",
          "name": "stdout",
          "text": [
            "(34587, 163.8)\n",
            "(98762, 284.0)\n",
            "(77226, 108.85000000000001)\n",
            "(88112, 84.97)\n"
          ]
        }
      ]
    }
  ]
}